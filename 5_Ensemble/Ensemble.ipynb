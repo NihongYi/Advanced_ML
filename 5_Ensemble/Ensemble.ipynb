{
 "cells": [
  {
   "cell_type": "markdown",
   "metadata": {
    "tags": []
   },
   "source": [
    "# CarNet\n",
    "\n",
    "Welcome to the final assignment in this course. It's been a long journey, but you are now ready to unleash the powers of neural networks at any task. In this assignment, we will be working with a collection of photos related to driving vehicles."
   ]
  },
  {
   "cell_type": "code",
   "execution_count": 2,
   "metadata": {
    "tags": []
   },
   "outputs": [],
   "source": [
    "import pandas as pd\n",
    "import math\n",
    "import matplotlib.pyplot as plt\n",
    "import random\n",
    "import tensorflow as tf\n",
    "from tensorflow import optimizers\n",
    "import numpy as np\n",
    "from PIL import Image\n",
    "import matplotlib.pyplot as plt\n",
    "import os\n",
    "import seaborn as sns\n",
    "sns.set_context('talk')\n",
    "%config InlineBackend.figure_format = 'retina'"
   ]
  },
  {
   "cell_type": "code",
   "execution_count": 3,
   "metadata": {
    "tags": []
   },
   "outputs": [],
   "source": [
    "gpus = tf.config.experimental.list_physical_devices('GPU')\n",
    "for gpu in gpus:\n",
    "    tf.config.experimental.set_memory_growth(gpu, True)"
   ]
  },
  {
   "cell_type": "markdown",
   "metadata": {},
   "source": [
    "# Description of the Solution"
   ]
  },
  {
   "cell_type": "markdown",
   "metadata": {},
   "source": [
    "* The task was to predict the number of signal lights and vehicles in images. Average MSE of both outputs is used as the main metric.\n",
    "* We trained 3 models and tried different stacking methods for ensemble.\n",
    "* The 3 models are:\n",
    "    * Mean model: we used the mean of training dataset to infer the values. This one is our base model.\n",
    "    * Transfer learning: we used mobilenet, with finetuning executed.\n",
    "    * Vanilla CNN: we built a cnn model from scratch.\n",
    "    * Both mobilenet and vanilla CNN have shown better results than mean model.\n",
    "* For stacking, we tried:\n",
    "    * simple average of output from all 3 models and the last 2 models\n",
    "    * individual linear regression on signal and vehicle with output from mobilenet and vanilla CNN\n",
    "    * XGBoost on all 3 outputs together\n",
    "    * NN from scratch\n",
    "    * The result shows that XGBoost has the best result and it is better than the single models above\n",
    "* We created a `final_model` class to aggregate the 3 models and predict on the score dataset.\n",
    "* We didn't use ML Flow for hyperparameter tuning in this project. Although it's efficient to automate the hyperparamter tuning process, changing the hyperparameters one by one manually helps better understand their impacts on the model results. Observing the changes is an import part of learning."
   ]
  },
  {
   "cell_type": "markdown",
   "metadata": {},
   "source": [
    "# Download Data\n",
    "\n",
    "The dataset consists of 2 segments: \n",
    "* train: the metadata file contains the file names and the count of different objects in each image.\n",
    "* score: the metadata file contains the file names of images to be used for the final predictions.\n",
    "\n",
    "Target variables (in this order):\n",
    "1. signal\n",
    "2. vehicle\n",
    "\n",
    "These target variables are defined as follows:\n",
    "* signal =  traffic light + stop sign\n",
    "* vehicle = car + bus + truck + train + motorcycle + bicycle + airplane + boat"
   ]
  },
  {
   "cell_type": "code",
   "execution_count": 4,
   "metadata": {
    "tags": []
   },
   "outputs": [],
   "source": [
    "if not os.path.exists('carnet_dataset'):\n",
    "    !aws s3 cp s3://danylo-ucla/carnet_dataset.zip ./\n",
    "    !unzip -u -q carnet_dataset.zip"
   ]
  },
  {
   "cell_type": "code",
   "execution_count": 5,
   "metadata": {
    "tags": []
   },
   "outputs": [
    {
     "name": "stdout",
     "output_type": "stream",
     "text": [
      "\u001b[01;34mcarnet_dataset\u001b[0m\n",
      "├── \u001b[01;34mscore\u001b[0m\n",
      "│   ├── \u001b[01;34mimages\u001b[0m\n",
      "│   └── \u001b[00mmetadata.csv\u001b[0m\n",
      "└── \u001b[01;34mtrain\u001b[0m\n",
      "    ├── \u001b[01;34mimages\u001b[0m\n",
      "    └── \u001b[00mmetadata.csv\u001b[0m\n",
      "\n",
      "4 directories, 2 files\n"
     ]
    }
   ],
   "source": [
    "!tree -L 2 carnet_dataset"
   ]
  },
  {
   "cell_type": "code",
   "execution_count": 6,
   "metadata": {
    "tags": []
   },
   "outputs": [
    {
     "data": {
      "text/html": [
       "<div>\n",
       "<style scoped>\n",
       "    .dataframe tbody tr th:only-of-type {\n",
       "        vertical-align: middle;\n",
       "    }\n",
       "\n",
       "    .dataframe tbody tr th {\n",
       "        vertical-align: top;\n",
       "    }\n",
       "\n",
       "    .dataframe thead th {\n",
       "        text-align: right;\n",
       "    }\n",
       "</style>\n",
       "<table border=\"1\" class=\"dataframe\">\n",
       "  <thead>\n",
       "    <tr style=\"text-align: right;\">\n",
       "      <th></th>\n",
       "      <th>car</th>\n",
       "      <th>bus</th>\n",
       "      <th>truck</th>\n",
       "      <th>train</th>\n",
       "      <th>motorcycle</th>\n",
       "      <th>bicycle</th>\n",
       "      <th>airplane</th>\n",
       "      <th>boat</th>\n",
       "      <th>traffic light</th>\n",
       "      <th>stop sign</th>\n",
       "      <th>vehicle</th>\n",
       "      <th>signal</th>\n",
       "      <th>file_name</th>\n",
       "    </tr>\n",
       "  </thead>\n",
       "  <tbody>\n",
       "    <tr>\n",
       "      <th>0</th>\n",
       "      <td>1.0</td>\n",
       "      <td>0.0</td>\n",
       "      <td>1.0</td>\n",
       "      <td>0.0</td>\n",
       "      <td>0.0</td>\n",
       "      <td>0.0</td>\n",
       "      <td>0.0</td>\n",
       "      <td>0.0</td>\n",
       "      <td>0.0</td>\n",
       "      <td>1.0</td>\n",
       "      <td>2.0</td>\n",
       "      <td>1.0</td>\n",
       "      <td>000000000064.jpg</td>\n",
       "    </tr>\n",
       "    <tr>\n",
       "      <th>1</th>\n",
       "      <td>0.0</td>\n",
       "      <td>0.0</td>\n",
       "      <td>0.0</td>\n",
       "      <td>0.0</td>\n",
       "      <td>2.0</td>\n",
       "      <td>0.0</td>\n",
       "      <td>0.0</td>\n",
       "      <td>0.0</td>\n",
       "      <td>0.0</td>\n",
       "      <td>0.0</td>\n",
       "      <td>2.0</td>\n",
       "      <td>0.0</td>\n",
       "      <td>000000000073.jpg</td>\n",
       "    </tr>\n",
       "    <tr>\n",
       "      <th>2</th>\n",
       "      <td>0.0</td>\n",
       "      <td>0.0</td>\n",
       "      <td>0.0</td>\n",
       "      <td>0.0</td>\n",
       "      <td>0.0</td>\n",
       "      <td>1.0</td>\n",
       "      <td>0.0</td>\n",
       "      <td>0.0</td>\n",
       "      <td>0.0</td>\n",
       "      <td>0.0</td>\n",
       "      <td>1.0</td>\n",
       "      <td>0.0</td>\n",
       "      <td>000000000074.jpg</td>\n",
       "    </tr>\n",
       "    <tr>\n",
       "      <th>3</th>\n",
       "      <td>0.0</td>\n",
       "      <td>0.0</td>\n",
       "      <td>0.0</td>\n",
       "      <td>0.0</td>\n",
       "      <td>0.0</td>\n",
       "      <td>0.0</td>\n",
       "      <td>1.0</td>\n",
       "      <td>0.0</td>\n",
       "      <td>0.0</td>\n",
       "      <td>0.0</td>\n",
       "      <td>1.0</td>\n",
       "      <td>0.0</td>\n",
       "      <td>000000000081.jpg</td>\n",
       "    </tr>\n",
       "    <tr>\n",
       "      <th>4</th>\n",
       "      <td>0.0</td>\n",
       "      <td>0.0</td>\n",
       "      <td>0.0</td>\n",
       "      <td>0.0</td>\n",
       "      <td>1.0</td>\n",
       "      <td>0.0</td>\n",
       "      <td>0.0</td>\n",
       "      <td>0.0</td>\n",
       "      <td>0.0</td>\n",
       "      <td>0.0</td>\n",
       "      <td>1.0</td>\n",
       "      <td>0.0</td>\n",
       "      <td>000000000086.jpg</td>\n",
       "    </tr>\n",
       "  </tbody>\n",
       "</table>\n",
       "</div>"
      ],
      "text/plain": [
       "   car  bus  truck  train  motorcycle  bicycle  airplane  boat  traffic light  \\\n",
       "0  1.0  0.0    1.0    0.0         0.0      0.0       0.0   0.0            0.0   \n",
       "1  0.0  0.0    0.0    0.0         2.0      0.0       0.0   0.0            0.0   \n",
       "2  0.0  0.0    0.0    0.0         0.0      1.0       0.0   0.0            0.0   \n",
       "3  0.0  0.0    0.0    0.0         0.0      0.0       1.0   0.0            0.0   \n",
       "4  0.0  0.0    0.0    0.0         1.0      0.0       0.0   0.0            0.0   \n",
       "\n",
       "   stop sign  vehicle  signal         file_name  \n",
       "0        1.0      2.0     1.0  000000000064.jpg  \n",
       "1        0.0      2.0     0.0  000000000073.jpg  \n",
       "2        0.0      1.0     0.0  000000000074.jpg  \n",
       "3        0.0      1.0     0.0  000000000081.jpg  \n",
       "4        0.0      1.0     0.0  000000000086.jpg  "
      ]
     },
     "execution_count": 6,
     "metadata": {},
     "output_type": "execute_result"
    }
   ],
   "source": [
    "train_metadata = pd.read_csv('carnet_dataset/train/metadata.csv')\n",
    "train_metadata.head()"
   ]
  },
  {
   "cell_type": "code",
   "execution_count": 7,
   "metadata": {
    "tags": []
   },
   "outputs": [
    {
     "data": {
      "text/html": [
       "<div>\n",
       "<style scoped>\n",
       "    .dataframe tbody tr th:only-of-type {\n",
       "        vertical-align: middle;\n",
       "    }\n",
       "\n",
       "    .dataframe tbody tr th {\n",
       "        vertical-align: top;\n",
       "    }\n",
       "\n",
       "    .dataframe thead th {\n",
       "        text-align: right;\n",
       "    }\n",
       "</style>\n",
       "<table border=\"1\" class=\"dataframe\">\n",
       "  <thead>\n",
       "    <tr style=\"text-align: right;\">\n",
       "      <th></th>\n",
       "      <th>file_name</th>\n",
       "    </tr>\n",
       "  </thead>\n",
       "  <tbody>\n",
       "    <tr>\n",
       "      <th>0</th>\n",
       "      <td>000000000071.jpg</td>\n",
       "    </tr>\n",
       "    <tr>\n",
       "      <th>1</th>\n",
       "      <td>000000000149.jpg</td>\n",
       "    </tr>\n",
       "    <tr>\n",
       "      <th>2</th>\n",
       "      <td>000000000260.jpg</td>\n",
       "    </tr>\n",
       "    <tr>\n",
       "      <th>3</th>\n",
       "      <td>000000000307.jpg</td>\n",
       "    </tr>\n",
       "    <tr>\n",
       "      <th>4</th>\n",
       "      <td>000000000690.jpg</td>\n",
       "    </tr>\n",
       "  </tbody>\n",
       "</table>\n",
       "</div>"
      ],
      "text/plain": [
       "          file_name\n",
       "0  000000000071.jpg\n",
       "1  000000000149.jpg\n",
       "2  000000000260.jpg\n",
       "3  000000000307.jpg\n",
       "4  000000000690.jpg"
      ]
     },
     "execution_count": 7,
     "metadata": {},
     "output_type": "execute_result"
    }
   ],
   "source": [
    "# Score metadata defines the expected order of the photos in the submitted predictions file.\n",
    "\n",
    "score_metadata = pd.read_csv('carnet_dataset/score/metadata.csv')\n",
    "score_metadata.head()"
   ]
  },
  {
   "cell_type": "markdown",
   "metadata": {},
   "source": [
    "# Read data"
   ]
  },
  {
   "cell_type": "code",
   "execution_count": 8,
   "metadata": {
    "tags": []
   },
   "outputs": [],
   "source": [
    "random.seed(43)"
   ]
  },
  {
   "cell_type": "code",
   "execution_count": 9,
   "metadata": {
    "tags": []
   },
   "outputs": [
    {
     "data": {
      "text/plain": [
       "([], [])"
      ]
     },
     "execution_count": 9,
     "metadata": {},
     "output_type": "execute_result"
    },
    {
     "data": {
      "image/png": "[encoded data removed]",
      "text/plain": [
       "<Figure size 640x480 with 1 Axes>"
      ]
     },
     "metadata": {
      "image/png": {
       "height": 416,
       "width": 389
      }
     },
     "output_type": "display_data"
    }
   ],
   "source": [
    "i = random.randint(0, train_metadata.shape[0])\n",
    "\n",
    "file_name_training = train_metadata['file_name'].iloc[i]\n",
    "\n",
    "vehicle_num = train_metadata['vehicle'].iloc[i]\n",
    "signal_num = train_metadata['signal'].iloc[i]\n",
    "\n",
    "plt.title(f'vehicle: {vehicle_num}, signal: {signal_num}')\n",
    "\n",
    "\n",
    "plt.imshow(Image.open(f'carnet_dataset/train/images/{file_name_training}'))\n",
    "plt.xticks([])\n",
    "plt.yticks([])"
   ]
  },
  {
   "cell_type": "markdown",
   "metadata": {
    "tags": []
   },
   "source": [
    "## Generate TF Dataset"
   ]
  },
  {
   "cell_type": "code",
   "execution_count": 10,
   "metadata": {
    "tags": []
   },
   "outputs": [],
   "source": [
    "# See Python Generator\n",
    "# https://peps.python.org/pep-0255/\n",
    "def build_generator_labeled(metadata: pd.DataFrame):\n",
    "    def generator():\n",
    "        for _, row in metadata.iterrows():\n",
    "            \n",
    "            # get image\n",
    "            file_path = 'carnet_dataset/train/images/' + row['file_name']\n",
    "            training_np = np.array(Image.open(file_path)).astype(np.float32)\n",
    "            \n",
    "            # get number of vehicles and signals\n",
    "            signal_num = row['signal']\n",
    "            vehicle_num = row['vehicle']\n",
    "            \n",
    "            \n",
    "            model_input = training_np\n",
    "            model_output = (signal_num, vehicle_num)\n",
    "            yield (model_input, model_output)\n",
    "\n",
    "\n",
    "    return generator\n",
    "\n",
    "\n",
    "# See Tensorflow Dataset\n",
    "# https://www.tensorflow.org/api_docs/python/tf/data/Dataset\n",
    "def build_dataset_labeled(metadata: pd.DataFrame) -> tf.data.Dataset:\n",
    "    model_input = tf.TensorSpec(shape=(224, 224, 3), dtype=tf.float32)  # type: ignore\n",
    "    model_output = tf.TensorSpec(shape=(2,), dtype=tf.float32)  # type: ignore\n",
    "\n",
    "    dataset_signature = (model_input, model_output)\n",
    "\n",
    "    dataset = tf.data.Dataset.from_generator(\n",
    "        build_generator_labeled(metadata), \n",
    "        output_signature=dataset_signature\n",
    "    )\n",
    "\n",
    "    return dataset\n"
   ]
  },
  {
   "cell_type": "markdown",
   "metadata": {
    "tags": []
   },
   "source": [
    "## Split metadata"
   ]
  },
  {
   "cell_type": "code",
   "execution_count": 11,
   "metadata": {
    "tags": []
   },
   "outputs": [],
   "source": [
    "train_ratio = 0.7\n",
    "val_ratio = 0.15\n",
    "\n",
    "# Determine the number of samples for each set\n",
    "# total_samples = train_metadata.shape[0]\n",
    "\n",
    "# num_train = int(train_ratio * total_samples)\n",
    "# num_val = int(val_ratio * total_samples)\n",
    "\n",
    "# train_md = train_metadata.iloc[:num_train]\n",
    "# val_md = train_metadata.iloc[num_train:num_train + num_val]\n",
    "# test_md = train_metadata.iloc[num_train + num_val:]"
   ]
  },
  {
   "cell_type": "code",
   "execution_count": 12,
   "metadata": {
    "tags": []
   },
   "outputs": [],
   "source": [
    "from sklearn.model_selection import train_test_split\n",
    "\n",
    "# Shuffle the dataset\n",
    "shuffled_metadata = train_metadata.sample(frac=1, random_state=42)  # Setting a random seed for reproducibility\n",
    "\n",
    "# Split the shuffled dataset into training, validation, and test sets\n",
    "train_md, val_test_md = train_test_split(shuffled_metadata, train_size=train_ratio, random_state=42)\n",
    "val_md, test_md = train_test_split(val_test_md, train_size=val_ratio/(1-train_ratio), random_state=42)"
   ]
  },
  {
   "cell_type": "code",
   "execution_count": 14,
   "metadata": {
    "tags": []
   },
   "outputs": [
    {
     "data": {
      "text/plain": [
       "(23228, 13)"
      ]
     },
     "execution_count": 14,
     "metadata": {},
     "output_type": "execute_result"
    }
   ],
   "source": [
    "train_metadata.shape"
   ]
  },
  {
   "cell_type": "code",
   "execution_count": 13,
   "metadata": {
    "tags": []
   },
   "outputs": [
    {
     "data": {
      "text/plain": [
       "((16259, 13), (3484, 13), (3485, 13))"
      ]
     },
     "execution_count": 13,
     "metadata": {},
     "output_type": "execute_result"
    }
   ],
   "source": [
    "train_md.shape, val_md.shape, test_md.shape"
   ]
  },
  {
   "cell_type": "code",
   "execution_count": 15,
   "metadata": {
    "tags": []
   },
   "outputs": [],
   "source": [
    "train_dataset = build_dataset_labeled(train_md)\n",
    "val_dataset = build_dataset_labeled(val_md)\n",
    "test_dataset = build_dataset_labeled(test_md)"
   ]
  },
  {
   "cell_type": "code",
   "execution_count": 16,
   "metadata": {
    "tags": []
   },
   "outputs": [],
   "source": [
    "train_dataset = train_dataset.batch(16)\n",
    "val_dataset = val_dataset.batch(16)\n",
    "test_dataset = test_dataset.batch(16)"
   ]
  },
  {
   "cell_type": "code",
   "execution_count": 17,
   "metadata": {
    "tags": []
   },
   "outputs": [],
   "source": [
    "train_X, train_y = next(iter(train_dataset))\n",
    "val_X, val_y = next(iter(val_dataset))\n",
    "test_X, test_y = next(iter(test_dataset))"
   ]
  },
  {
   "cell_type": "code",
   "execution_count": 18,
   "metadata": {
    "tags": []
   },
   "outputs": [
    {
     "data": {
      "text/plain": [
       "TensorShape([16, 224, 224, 3])"
      ]
     },
     "metadata": {},
     "output_type": "display_data"
    },
    {
     "data": {
      "text/plain": [
       "TensorShape([16, 2])"
      ]
     },
     "metadata": {},
     "output_type": "display_data"
    },
    {
     "data": {
      "text/plain": [
       "TensorShape([16, 224, 224, 3])"
      ]
     },
     "metadata": {},
     "output_type": "display_data"
    },
    {
     "data": {
      "text/plain": [
       "TensorShape([16, 2])"
      ]
     },
     "metadata": {},
     "output_type": "display_data"
    },
    {
     "data": {
      "text/plain": [
       "TensorShape([16, 224, 224, 3])"
      ]
     },
     "metadata": {},
     "output_type": "display_data"
    },
    {
     "data": {
      "text/plain": [
       "TensorShape([16, 2])"
      ]
     },
     "metadata": {},
     "output_type": "display_data"
    }
   ],
   "source": [
    "display(train_X.shape, train_y.shape)\n",
    "display(val_X.shape, val_y.shape)\n",
    "display(test_X.shape, test_y.shape)"
   ]
  },
  {
   "cell_type": "markdown",
   "metadata": {},
   "source": [
    "# Assitant functions"
   ]
  },
  {
   "cell_type": "code",
   "execution_count": 19,
   "metadata": {
    "tags": []
   },
   "outputs": [],
   "source": [
    "def plot_learning_curve(history):\n",
    "    learning_curve_train = pd.Series(history.history['loss'])\n",
    "    learning_curve_val = pd.Series(history.history['val_loss'])\n",
    "    learning_curve_train.index = learning_curve_train.index + 1\n",
    "    learning_curve_val.index = learning_curve_val.index + 1\n",
    "\n",
    "    plt.plot(learning_curve_train, label='Train')\n",
    "    plt.plot(learning_curve_val, label='Val')\n",
    "    \n",
    "    plt.xticks(learning_curve_train.index)\n",
    "    plt.legend()\n",
    "    plt.show()"
   ]
  },
  {
   "cell_type": "code",
   "execution_count": 20,
   "metadata": {
    "tags": []
   },
   "outputs": [],
   "source": [
    "from tensorflow import Tensor\n",
    "from tensorflow.python.keras import backend as K\n",
    "\n",
    "def avg_mse(y_true: Tensor, y_pred: Tensor) -> Tensor:\n",
    "    \n",
    "    signal_mse = K.mean(K.square(\n",
    "    y_true[:, 0] - y_pred[:, 0]))\n",
    "    vehicle_mse = K.mean(K.square(\n",
    "    y_true[:, 1] - y_pred[:, 1]))\n",
    "    \n",
    "    avg_mse = 1/2 * signal_mse + 1/2 * vehicle_mse\n",
    "    \n",
    "    return avg_mse\n",
    "\n",
    "def signal_mse(y_true: Tensor, y_pred: Tensor) -> Tensor:\n",
    "    \n",
    "    signal_mse = K.mean(K.square(\n",
    "    y_true[:, 0] - y_pred[:, 0]))\n",
    "    \n",
    "    return signal_mse\n",
    "\n",
    "def vehicle_mse(y_true: Tensor, y_pred: Tensor) -> Tensor:\n",
    "    \n",
    "    vehicle_mse = K.mean(K.square(\n",
    "    y_true[:, 1] - y_pred[:, 1]))\n",
    "    \n",
    "    \n",
    "    return vehicle_mse"
   ]
  },
  {
   "cell_type": "markdown",
   "metadata": {},
   "source": [
    "# Single model tuning"
   ]
  },
  {
   "cell_type": "markdown",
   "metadata": {},
   "source": [
    "## Mean model"
   ]
  },
  {
   "cell_type": "code",
   "execution_count": 21,
   "metadata": {
    "tags": []
   },
   "outputs": [],
   "source": [
    "from sklearn.metrics import mean_squared_error\n",
    "\n",
    "\n",
    "def mean_model_result(train_md, md):\n",
    "    y_signal = md['signal']\n",
    "    y_vehicle = md['vehicle']\n",
    "\n",
    "    y_train_mean_signal = [train_md['signal'].mean()] * md.shape[0]\n",
    "    y_train_mean_vehicle = [train_md['vehicle'].mean()] * md.shape[0]\n",
    "\n",
    "\n",
    "    mse_train_signal = mean_squared_error(y_signal, y_train_mean_signal)\n",
    "\n",
    "    mse_train_vehicle = mean_squared_error(y_vehicle, y_train_mean_vehicle)\n",
    "    \n",
    "    # y_train_mean = np.concatenate((y_train_mean_signal, y_train_mean_vehicle))\n",
    "    y_train_mean = np.array([y_train_mean_signal, y_train_mean_vehicle]).T\n",
    "\n",
    "    return (y_train_mean,\n",
    "        (mse_train_signal, mse_train_vehicle, 1/2 * mse_train_signal + 1/2 * mse_train_vehicle))"
   ]
  },
  {
   "cell_type": "code",
   "execution_count": 22,
   "metadata": {
    "tags": []
   },
   "outputs": [
    {
     "data": {
      "text/plain": [
       "(2.1968980652957457, 13.604800635551241, 7.900849350423494)"
      ]
     },
     "execution_count": 22,
     "metadata": {},
     "output_type": "execute_result"
    }
   ],
   "source": [
    "y_train_mean, mean_results_train = mean_model_result(train_md, train_md)\n",
    "mean_results_train"
   ]
  },
  {
   "cell_type": "code",
   "execution_count": 23,
   "metadata": {
    "tags": []
   },
   "outputs": [
    {
     "data": {
      "text/plain": [
       "(2.1244298238274317, 14.457199575018347, 8.290814699422889)"
      ]
     },
     "execution_count": 23,
     "metadata": {},
     "output_type": "execute_result"
    }
   ],
   "source": [
    "y_val_mean, mean_results_val = mean_model_result(train_md, val_md)\n",
    "mean_results_val"
   ]
  },
  {
   "cell_type": "code",
   "execution_count": 24,
   "metadata": {
    "tags": []
   },
   "outputs": [
    {
     "data": {
      "text/plain": [
       "(2.16425383353561, 13.092209359486931, 7.62823159651127)"
      ]
     },
     "execution_count": 24,
     "metadata": {},
     "output_type": "execute_result"
    }
   ],
   "source": [
    "y_test_mean, mean_results_test = mean_model_result(train_md, test_md)\n",
    "mean_results_test"
   ]
  },
  {
   "cell_type": "code",
   "execution_count": 25,
   "metadata": {
    "tags": []
   },
   "outputs": [],
   "source": [
    "np.savez('y_mean.npz', y_train_mean=y_train_mean,\n",
    "        y_val_mean=y_val_mean, y_test_mean=y_test_mean)"
   ]
  },
  {
   "cell_type": "markdown",
   "metadata": {},
   "source": [
    "## mobilenet"
   ]
  },
  {
   "cell_type": "code",
   "execution_count": 26,
   "metadata": {
    "tags": []
   },
   "outputs": [
    {
     "name": "stdout",
     "output_type": "stream",
     "text": [
      "Downloading data from https://storage.googleapis.com/tensorflow/keras-applications/mobilenet_v2/mobilenet_v2_weights_tf_dim_ordering_tf_kernels_1.0_224_no_top.h5\n",
      "9412608/9406464 [==============================] - 0s 0us/step\n",
      "9420800/9406464 [==============================] - 0s 0us/step\n"
     ]
    }
   ],
   "source": [
    "# https://arxiv.org/pdf/1801.04381.pdf\n",
    "# https://keras.io/api/applications/mobilenet/#mobilenetv2-function\n",
    "mobile_net = tf.keras.applications.MobileNetV2(\n",
    "    include_top=False,\n",
    "    input_shape=(224, 224, 3),\n",
    "    weights=\"imagenet\",\n",
    ")\n",
    "\n",
    "mobile_net.trainable = False"
   ]
  },
  {
   "cell_type": "code",
   "execution_count": 40,
   "metadata": {
    "tags": []
   },
   "outputs": [
    {
     "name": "stdout",
     "output_type": "stream",
     "text": [
      "Model: \"sequential_3\"\n",
      "_________________________________________________________________\n",
      " Layer (type)                Output Shape              Param #   \n",
      "=================================================================\n",
      " mobilenetv2_1.00_224 (Funct  (None, 7, 7, 1280)       2257984   \n",
      " ional)                                                          \n",
      "                                                                 \n",
      " flatten_3 (Flatten)         (None, 62720)             0         \n",
      "                                                                 \n",
      " dense_3 (Dense)             (None, 2)                 125442    \n",
      "                                                                 \n",
      "=================================================================\n",
      "Total params: 2,383,426\n",
      "Trainable params: 1,986,882\n",
      "Non-trainable params: 396,544\n",
      "_________________________________________________________________\n",
      "None\n",
      "CPU times: user 311 ms, sys: 3.2 ms, total: 315 ms\n",
      "Wall time: 310 ms\n"
     ]
    }
   ],
   "source": [
    "%%time\n",
    "import tensorflow as tf\n",
    "from tensorflow import keras\n",
    "from tensorflow.keras import optimizers\n",
    "\n",
    "model1 = keras.models.Sequential([\n",
    "            mobile_net,\n",
    "            tf.keras.layers.Flatten(),\n",
    "            tf.keras.layers.Dense(units=2)\n",
    "        ]\n",
    "        )\n",
    "print(model1.summary())\n",
    "\n",
    "model1.compile(\n",
    "    optimizer=optimizers.Adam(learning_rate=0.00001),\n",
    "    loss='mean_squared_error',\n",
    "    metrics=[signal_mse, vehicle_mse, avg_mse],\n",
    ")"
   ]
  },
  {
   "cell_type": "code",
   "execution_count": 27,
   "metadata": {
    "tags": []
   },
   "outputs": [
    {
     "name": "stdout",
     "output_type": "stream",
     "text": [
      "Model: \"sequential\"\n",
      "_________________________________________________________________\n",
      " Layer (type)                Output Shape              Param #   \n",
      "=================================================================\n",
      " mobilenetv2_1.00_224 (Funct  (None, 7, 7, 1280)       2257984   \n",
      " ional)                                                          \n",
      "                                                                 \n",
      " flatten (Flatten)           (None, 62720)             0         \n",
      "                                                                 \n",
      " dense (Dense)               (None, 2)                 125442    \n",
      "                                                                 \n",
      "=================================================================\n",
      "Total params: 2,383,426\n",
      "Trainable params: 125,442\n",
      "Non-trainable params: 2,257,984\n",
      "_________________________________________________________________\n",
      "None\n",
      "Epoch 1/2\n",
      "1017/1017 [==============================] - 169s 162ms/step - loss: 8.0607 - signal_mse: 2.6832 - vehicle_mse: 13.4324 - avg_mse: 8.0578 - val_loss: 7.8944 - val_signal_mse: 2.4494 - val_vehicle_mse: 13.3484 - val_avg_mse: 7.8989\n",
      "Epoch 2/2\n",
      "1017/1017 [==============================] - 63s 62ms/step - loss: 7.3491 - signal_mse: 2.3402 - vehicle_mse: 12.3521 - avg_mse: 7.3461 - val_loss: 7.6805 - val_signal_mse: 2.3391 - val_vehicle_mse: 13.0320 - val_avg_mse: 7.6855\n",
      "CPU times: user 1min 19s, sys: 9.34 s, total: 1min 28s\n",
      "Wall time: 3min 52s\n"
     ]
    }
   ],
   "source": [
    "history1 = model1.fit(\n",
    "    train_dataset,\n",
    "    validation_data=val_dataset,\n",
    "    epochs=2,\n",
    "    shuffle=False\n",
    ")"
   ]
  },
  {
   "cell_type": "code",
   "execution_count": 28,
   "metadata": {
    "tags": []
   },
   "outputs": [
    {
     "name": "stdout",
     "output_type": "stream",
     "text": [
      "1017/1017 [==============================] - 50s 50ms/step - loss: 7.0486 - signal_mse: 2.1583 - vehicle_mse: 11.9333 - avg_mse: 7.0458\n",
      "218/218 [==============================] - 11s 49ms/step - loss: 7.6805 - signal_mse: 2.3391 - vehicle_mse: 13.0320 - avg_mse: 7.6855\n",
      "218/218 [==============================] - 29s 132ms/step - loss: 7.2430 - signal_mse: 2.3775 - vehicle_mse: 12.1035 - avg_mse: 7.2405\n"
     ]
    },
    {
     "data": {
      "text/plain": [
       "[7.243016242980957, 2.3775126934051514, 12.103458404541016, 7.240485668182373]"
      ]
     },
     "execution_count": 28,
     "metadata": {},
     "output_type": "execute_result"
    }
   ],
   "source": [
    "model1.evaluate(train_dataset)\n",
    "model1.evaluate(val_dataset)\n",
    "model1.evaluate(test_dataset)"
   ]
  },
  {
   "cell_type": "code",
   "execution_count": 29,
   "metadata": {
    "tags": []
   },
   "outputs": [],
   "source": [
    "y_try = model1.predict(train_dataset)"
   ]
  },
  {
   "cell_type": "code",
   "execution_count": 30,
   "metadata": {
    "tags": []
   },
   "outputs": [
    {
     "data": {
      "text/plain": [
       "7.048642696988111"
      ]
     },
     "execution_count": 30,
     "metadata": {},
     "output_type": "execute_result"
    }
   ],
   "source": [
    "mean_squared_error(y_try, train_md[['signal', 'vehicle']])"
   ]
  },
  {
   "cell_type": "code",
   "execution_count": 31,
   "metadata": {
    "tags": []
   },
   "outputs": [
    {
     "data": {
      "text/plain": [
       "2.1599119125146533"
      ]
     },
     "execution_count": 31,
     "metadata": {},
     "output_type": "execute_result"
    }
   ],
   "source": [
    "mean_squared_error(y_try[:, 0], train_md[['signal']])"
   ]
  },
  {
   "cell_type": "code",
   "execution_count": 32,
   "metadata": {
    "tags": []
   },
   "outputs": [
    {
     "data": {
      "text/plain": [
       "11.937373481461181"
      ]
     },
     "execution_count": 32,
     "metadata": {},
     "output_type": "execute_result"
    }
   ],
   "source": [
    "mean_squared_error(y_try[:, 1], train_md[['vehicle']])"
   ]
  },
  {
   "cell_type": "markdown",
   "metadata": {},
   "source": [
    "### Fine tune mobilenet"
   ]
  },
  {
   "cell_type": "code",
   "execution_count": 41,
   "metadata": {
    "tags": []
   },
   "outputs": [],
   "source": [
    "patience = 5\n",
    "early_stopping = tf.keras.callbacks.EarlyStopping(monitor='loss',  # Monitor validation loss\n",
    "                               patience=patience,     # Number of epochs with no improvement after which training will stop\n",
    "                               restore_best_weights=True)"
   ]
  },
  {
   "cell_type": "code",
   "execution_count": 42,
   "metadata": {
    "collapsed": true,
    "jupyter": {
     "outputs_hidden": true
    },
    "tags": []
   },
   "outputs": [
    {
     "name": "stdout",
     "output_type": "stream",
     "text": [
      "Epoch 1/30\n",
      "1017/1017 [==============================] - 68s 65ms/step - loss: 4.1634 - signal_mse: 1.9248 - vehicle_mse: 6.3967 - avg_mse: 4.1607 - val_loss: 7.2422 - val_signal_mse: 2.0407 - val_vehicle_mse: 12.4525 - val_avg_mse: 7.2466\n",
      "Epoch 2/30\n",
      "1017/1017 [==============================] - 66s 65ms/step - loss: 1.8652 - signal_mse: 1.1741 - vehicle_mse: 2.5535 - avg_mse: 1.8638 - val_loss: 6.9653 - val_signal_mse: 2.0738 - val_vehicle_mse: 11.8614 - val_avg_mse: 6.9676\n",
      "Epoch 3/30\n",
      "1017/1017 [==============================] - 65s 64ms/step - loss: 1.0661 - signal_mse: 0.7470 - vehicle_mse: 1.3836 - avg_mse: 1.0653 - val_loss: 6.9622 - val_signal_mse: 2.1104 - val_vehicle_mse: 11.8172 - val_avg_mse: 6.9638\n",
      "Epoch 4/30\n",
      "1017/1017 [==============================] - 66s 65ms/step - loss: 0.6097 - signal_mse: 0.4649 - vehicle_mse: 0.7535 - avg_mse: 0.6092 - val_loss: 7.0056 - val_signal_mse: 2.1396 - val_vehicle_mse: 11.8743 - val_avg_mse: 7.0069\n",
      "Epoch 5/30\n",
      "1017/1017 [==============================] - 66s 65ms/step - loss: 0.3413 - signal_mse: 0.2810 - vehicle_mse: 0.4011 - avg_mse: 0.3411 - val_loss: 7.0369 - val_signal_mse: 2.1608 - val_vehicle_mse: 11.9157 - val_avg_mse: 7.0382\n",
      "Epoch 6/30\n",
      "1017/1017 [==============================] - 68s 67ms/step - loss: 0.1804 - signal_mse: 0.1604 - vehicle_mse: 0.2000 - avg_mse: 0.1802 - val_loss: 7.0547 - val_signal_mse: 2.1741 - val_vehicle_mse: 11.9380 - val_avg_mse: 7.0561\n",
      "Epoch 7/30\n",
      "1017/1017 [==============================] - 69s 68ms/step - loss: 0.0861 - signal_mse: 0.0831 - vehicle_mse: 0.0890 - avg_mse: 0.0861 - val_loss: 7.0741 - val_signal_mse: 2.1847 - val_vehicle_mse: 11.9661 - val_avg_mse: 7.0754\n",
      "Epoch 8/30\n",
      "1017/1017 [==============================] - 69s 68ms/step - loss: 0.0351 - signal_mse: 0.0367 - vehicle_mse: 0.0335 - avg_mse: 0.0351 - val_loss: 7.0937 - val_signal_mse: 2.1935 - val_vehicle_mse: 11.9963 - val_avg_mse: 7.0949\n",
      "Epoch 9/30\n",
      "1017/1017 [==============================] - 68s 67ms/step - loss: 0.0141 - signal_mse: 0.0135 - vehicle_mse: 0.0147 - avg_mse: 0.0141 - val_loss: 7.1007 - val_signal_mse: 2.1990 - val_vehicle_mse: 12.0054 - val_avg_mse: 7.1022\n",
      "Epoch 10/30\n",
      "1017/1017 [==============================] - 68s 67ms/step - loss: 0.0571 - signal_mse: 0.0183 - vehicle_mse: 0.0960 - avg_mse: 0.0571 - val_loss: 7.1409 - val_signal_mse: 2.2518 - val_vehicle_mse: 12.0319 - val_avg_mse: 7.1419\n",
      "Epoch 11/30\n",
      "1017/1017 [==============================] - 68s 67ms/step - loss: 0.2672 - signal_mse: 0.0727 - vehicle_mse: 0.4618 - avg_mse: 0.2673 - val_loss: 7.1536 - val_signal_mse: 2.3319 - val_vehicle_mse: 11.9785 - val_avg_mse: 7.1552\n",
      "Epoch 12/30\n",
      "1017/1017 [==============================] - 68s 67ms/step - loss: 0.1164 - signal_mse: 0.0366 - vehicle_mse: 0.1961 - avg_mse: 0.1163 - val_loss: 7.0004 - val_signal_mse: 2.1753 - val_vehicle_mse: 11.8295 - val_avg_mse: 7.0024\n",
      "Epoch 13/30\n",
      "1017/1017 [==============================] - 70s 69ms/step - loss: 0.0260 - signal_mse: 0.0116 - vehicle_mse: 0.0403 - avg_mse: 0.0260 - val_loss: 6.9914 - val_signal_mse: 2.1428 - val_vehicle_mse: 11.8434 - val_avg_mse: 6.9931\n",
      "Epoch 14/30\n",
      "1017/1017 [==============================] - 69s 68ms/step - loss: 0.0176 - signal_mse: 0.0084 - vehicle_mse: 0.0268 - avg_mse: 0.0176 - val_loss: 6.9784 - val_signal_mse: 2.1468 - val_vehicle_mse: 11.8135 - val_avg_mse: 6.9802\n",
      "Epoch 15/30\n",
      "1017/1017 [==============================] - 68s 67ms/step - loss: 0.0407 - signal_mse: 0.0186 - vehicle_mse: 0.0630 - avg_mse: 0.0408 - val_loss: 7.0129 - val_signal_mse: 2.1905 - val_vehicle_mse: 11.8371 - val_avg_mse: 7.0138\n",
      "Epoch 16/30\n",
      "1017/1017 [==============================] - 68s 67ms/step - loss: 0.1399 - signal_mse: 0.0632 - vehicle_mse: 0.2169 - avg_mse: 0.1400 - val_loss: 7.0745 - val_signal_mse: 2.1419 - val_vehicle_mse: 12.0131 - val_avg_mse: 7.0775\n",
      "Epoch 17/30\n",
      "1017/1017 [==============================] - 68s 67ms/step - loss: 0.1548 - signal_mse: 0.0835 - vehicle_mse: 0.2261 - avg_mse: 0.1548 - val_loss: 7.0466 - val_signal_mse: 2.1610 - val_vehicle_mse: 11.9365 - val_avg_mse: 7.0487\n",
      "Epoch 18/30\n",
      "1017/1017 [==============================] - 68s 67ms/step - loss: 0.0722 - signal_mse: 0.0474 - vehicle_mse: 0.0970 - avg_mse: 0.0722 - val_loss: 7.0844 - val_signal_mse: 2.1032 - val_vehicle_mse: 12.0702 - val_avg_mse: 7.0867\n",
      "Epoch 19/30\n",
      "1017/1017 [==============================] - 68s 67ms/step - loss: 0.0450 - signal_mse: 0.0277 - vehicle_mse: 0.0623 - avg_mse: 0.0450 - val_loss: 7.0119 - val_signal_mse: 2.1067 - val_vehicle_mse: 11.9212 - val_avg_mse: 7.0140\n",
      "Epoch 20/30\n",
      "1017/1017 [==============================] - 67s 66ms/step - loss: 0.0454 - signal_mse: 0.0241 - vehicle_mse: 0.0668 - avg_mse: 0.0455 - val_loss: 7.0515 - val_signal_mse: 2.0945 - val_vehicle_mse: 12.0140 - val_avg_mse: 7.0543\n",
      "Epoch 21/30\n",
      "1017/1017 [==============================] - 66s 64ms/step - loss: 0.0936 - signal_mse: 0.0438 - vehicle_mse: 0.1437 - avg_mse: 0.0938 - val_loss: 6.9472 - val_signal_mse: 2.1216 - val_vehicle_mse: 11.7772 - val_avg_mse: 6.9494\n",
      "Epoch 22/30\n",
      "1017/1017 [==============================] - 65s 64ms/step - loss: 0.1787 - signal_mse: 0.0876 - vehicle_mse: 0.2699 - avg_mse: 0.1788 - val_loss: 6.8354 - val_signal_mse: 2.0672 - val_vehicle_mse: 11.6055 - val_avg_mse: 6.8364\n",
      "Epoch 23/30\n",
      "1017/1017 [==============================] - 65s 64ms/step - loss: 0.1387 - signal_mse: 0.0712 - vehicle_mse: 0.2060 - avg_mse: 0.1386 - val_loss: 6.8433 - val_signal_mse: 2.0584 - val_vehicle_mse: 11.6305 - val_avg_mse: 6.8444\n",
      "Epoch 24/30\n",
      "1017/1017 [==============================] - 65s 64ms/step - loss: 0.0661 - signal_mse: 0.0358 - vehicle_mse: 0.0963 - avg_mse: 0.0660 - val_loss: 6.8416 - val_signal_mse: 2.0392 - val_vehicle_mse: 11.6465 - val_avg_mse: 6.8428\n",
      "Epoch 25/30\n",
      "1017/1017 [==============================] - 66s 65ms/step - loss: 0.0344 - signal_mse: 0.0182 - vehicle_mse: 0.0506 - avg_mse: 0.0344 - val_loss: 6.8275 - val_signal_mse: 2.0428 - val_vehicle_mse: 11.6148 - val_avg_mse: 6.8288\n",
      "Epoch 26/30\n",
      "1017/1017 [==============================] - 66s 65ms/step - loss: 0.0293 - signal_mse: 0.0138 - vehicle_mse: 0.0448 - avg_mse: 0.0293 - val_loss: 6.7956 - val_signal_mse: 2.0341 - val_vehicle_mse: 11.5593 - val_avg_mse: 6.7967\n",
      "Epoch 27/30\n",
      "1017/1017 [==============================] - 65s 64ms/step - loss: 0.0576 - signal_mse: 0.0237 - vehicle_mse: 0.0917 - avg_mse: 0.0577 - val_loss: 6.8442 - val_signal_mse: 2.0832 - val_vehicle_mse: 11.6085 - val_avg_mse: 6.8459\n",
      "Epoch 28/30\n",
      "1017/1017 [==============================] - 66s 65ms/step - loss: 0.1312 - signal_mse: 0.0548 - vehicle_mse: 0.2077 - avg_mse: 0.1312 - val_loss: 6.9559 - val_signal_mse: 2.0278 - val_vehicle_mse: 11.8892 - val_avg_mse: 6.9585\n",
      "Epoch 29/30\n",
      "1017/1017 [==============================] - 66s 65ms/step - loss: 0.1230 - signal_mse: 0.0602 - vehicle_mse: 0.1857 - avg_mse: 0.1230 - val_loss: 6.8896 - val_signal_mse: 2.0444 - val_vehicle_mse: 11.7394 - val_avg_mse: 6.8919\n",
      "Epoch 30/30\n",
      "1017/1017 [==============================] - 66s 65ms/step - loss: 0.0738 - signal_mse: 0.0419 - vehicle_mse: 0.1056 - avg_mse: 0.0737 - val_loss: 6.8200 - val_signal_mse: 2.0668 - val_vehicle_mse: 11.5764 - val_avg_mse: 6.8216\n"
     ]
    }
   ],
   "source": [
    "# Unfreeze the top layers\n",
    "num_layers = 100\n",
    "mobile_net.trainable = True\n",
    "\n",
    "for layer in mobile_net.layers[:num_layers]:\n",
    "    layer.trainable = False\n",
    "    \n",
    "\n",
    "history1 = model1.fit(\n",
    "    train_dataset,\n",
    "    validation_data=val_dataset,\n",
    "    epochs=30,\n",
    "    shuffle=False,\n",
    "    # callbacks=[early_stopping]\n",
    "    \n",
    ")"
   ]
  },
  {
   "cell_type": "code",
   "execution_count": 43,
   "metadata": {
    "collapsed": true,
    "jupyter": {
     "outputs_hidden": true
    },
    "tags": []
   },
   "outputs": [
    {
     "data": {
      "image/png": "[encoded data removed]",
      "text/plain": [
       "<Figure size 640x480 with 1 Axes>"
      ]
     },
     "metadata": {
      "image/png": {
       "height": 429,
       "width": 547
      }
     },
     "output_type": "display_data"
    }
   ],
   "source": [
    "plot_learning_curve(history1)"
   ]
  },
  {
   "cell_type": "code",
   "execution_count": 44,
   "metadata": {
    "tags": []
   },
   "outputs": [
    {
     "name": "stdout",
     "output_type": "stream",
     "text": [
      "1017/1017 [==============================] - 51s 50ms/step - loss: 0.6950 - signal_mse: 0.3591 - vehicle_mse: 1.0305 - avg_mse: 0.6948\n",
      "218/218 [==============================] - 11s 50ms/step - loss: 6.8200 - signal_mse: 2.0668 - vehicle_mse: 11.5764 - avg_mse: 6.8216\n",
      "218/218 [==============================] - 12s 57ms/step - loss: 6.5787 - signal_mse: 2.0099 - vehicle_mse: 11.1438 - avg_mse: 6.5768\n"
     ]
    },
    {
     "data": {
      "text/plain": [
       "[6.578707218170166, 2.009890079498291, 11.143780708312988, 6.576837062835693]"
      ]
     },
     "execution_count": 44,
     "metadata": {},
     "output_type": "execute_result"
    }
   ],
   "source": [
    "model1.evaluate(train_dataset)\n",
    "model1.evaluate(val_dataset)\n",
    "model1.evaluate(test_dataset)"
   ]
  },
  {
   "cell_type": "code",
   "execution_count": 45,
   "metadata": {},
   "outputs": [],
   "source": [
    "y_train_mobile = model1.predict(train_dataset)\n",
    "y_val_mobile = model1.predict(val_dataset)\n",
    "y_test_mobile = model1.predict(test_dataset)"
   ]
  },
  {
   "cell_type": "code",
   "execution_count": 46,
   "metadata": {
    "tags": []
   },
   "outputs": [],
   "source": [
    "np.savez('y_pred_mobile.npz', y_train_mobile=y_train_mobile,\n",
    "        y_val_mobile=y_val_mobile, y_test_mobile=y_test_mobile)"
   ]
  },
  {
   "cell_type": "markdown",
   "metadata": {},
   "source": [
    "## Vanilla CNN"
   ]
  },
  {
   "cell_type": "code",
   "execution_count": 66,
   "metadata": {
    "tags": []
   },
   "outputs": [],
   "source": [
    "layer1 = tf.keras.layers.Conv2D(6, (2, 2), activation='relu', input_shape=(224, 224, 3))\n",
    "pooling1 = tf.keras.layers.MaxPooling2D(pool_size=(2, 2), strides=None, padding=\"valid\")\n",
    "\n",
    "layer2 = tf.keras.layers.Conv2D(12, (2, 2), activation='relu')\n",
    "pooling2 = tf.keras.layers.MaxPooling2D(pool_size=(2, 2), strides=None, padding=\"valid\")\n",
    "\n",
    "layer3 = tf.keras.layers.Conv2D(24, (2, 2), activation='relu')\n",
    "pooling3 = tf.keras.layers.MaxPooling2D(pool_size=(2, 2), strides=None, padding=\"valid\")\n",
    "\n",
    "layer4 = tf.keras.layers.Conv2D(48, (2, 2), activation='relu')\n",
    "pooling4 = tf.keras.layers.MaxPooling2D(pool_size=(2, 2), strides=None, padding=\"valid\")\n",
    "dropout = tf.keras.layers.Dropout(0.1)\n",
    "\n",
    "flatten = tf.keras.layers.Flatten()\n",
    "\n",
    "dense1 = tf.keras.layers.Dense(units=128, activation='relu')\n",
    "output = tf.keras.layers.Dense(units=2)"
   ]
  },
  {
   "cell_type": "code",
   "execution_count": 72,
   "metadata": {
    "tags": []
   },
   "outputs": [
    {
     "name": "stdout",
     "output_type": "stream",
     "text": [
      "Model: \"sequential_11\"\n",
      "_________________________________________________________________\n",
      " Layer (type)                Output Shape              Param #   \n",
      "=================================================================\n",
      " conv2d_15 (Conv2D)          (None, 223, 223, 6)       78        \n",
      "                                                                 \n",
      " max_pooling2d_12 (MaxPoolin  (None, 111, 111, 6)      0         \n",
      " g2D)                                                            \n",
      "                                                                 \n",
      " dropout_3 (Dropout)         multiple                  0         \n",
      "                                                                 \n",
      " conv2d_16 (Conv2D)          (None, 110, 110, 12)      300       \n",
      "                                                                 \n",
      " max_pooling2d_13 (MaxPoolin  (None, 55, 55, 12)       0         \n",
      " g2D)                                                            \n",
      "                                                                 \n",
      " conv2d_17 (Conv2D)          (None, 54, 54, 24)        1176      \n",
      "                                                                 \n",
      " max_pooling2d_14 (MaxPoolin  (None, 27, 27, 24)       0         \n",
      " g2D)                                                            \n",
      "                                                                 \n",
      " conv2d_18 (Conv2D)          (None, 26, 26, 48)        4656      \n",
      "                                                                 \n",
      " max_pooling2d_15 (MaxPoolin  (None, 13, 13, 48)       0         \n",
      " g2D)                                                            \n",
      "                                                                 \n",
      " flatten_8 (Flatten)         (None, 8112)              0         \n",
      "                                                                 \n",
      " dense_10 (Dense)            (None, 128)               1038464   \n",
      "                                                                 \n",
      " dense_11 (Dense)            (None, 2)                 258       \n",
      "                                                                 \n",
      "=================================================================\n",
      "Total params: 1,044,932\n",
      "Trainable params: 1,044,932\n",
      "Non-trainable params: 0\n",
      "_________________________________________________________________\n"
     ]
    }
   ],
   "source": [
    "model2 = tf.keras.models.Sequential([\n",
    "    layer1,\n",
    "    pooling1,\n",
    "    dropout,\n",
    "    layer2,\n",
    "    pooling2,\n",
    "    dropout,\n",
    "    layer3,\n",
    "    pooling3,\n",
    "    dropout,\n",
    "    layer4,\n",
    "    pooling4,\n",
    "    flatten,\n",
    "    dense1,\n",
    "    output\n",
    "])\n",
    "model2.summary()"
   ]
  },
  {
   "cell_type": "code",
   "execution_count": 77,
   "metadata": {
    "tags": []
   },
   "outputs": [
    {
     "name": "stdout",
     "output_type": "stream",
     "text": [
      "Epoch 1/10\n",
      "1017/1017 [==============================] - 49s 48ms/step - loss: 1.4617 - signal_mse: 0.8756 - vehicle_mse: 2.0462 - avg_mse: 1.4609 - val_loss: 9.0250 - val_signal_mse: 2.2381 - val_vehicle_mse: 15.8254 - val_avg_mse: 9.0317\n",
      "Epoch 2/10\n",
      "1017/1017 [==============================] - 48s 47ms/step - loss: 1.3803 - signal_mse: 0.8657 - vehicle_mse: 1.8935 - avg_mse: 1.3796 - val_loss: 8.9563 - val_signal_mse: 2.2420 - val_vehicle_mse: 15.6834 - val_avg_mse: 8.9627\n",
      "Epoch 3/10\n",
      "1017/1017 [==============================] - 49s 48ms/step - loss: 1.3429 - signal_mse: 0.8455 - vehicle_mse: 1.8384 - avg_mse: 1.3419 - val_loss: 9.0785 - val_signal_mse: 2.2462 - val_vehicle_mse: 15.9248 - val_avg_mse: 9.0855\n",
      "Epoch 4/10\n",
      "1017/1017 [==============================] - 48s 47ms/step - loss: 1.3341 - signal_mse: 0.8610 - vehicle_mse: 1.8056 - avg_mse: 1.3333 - val_loss: 8.9519 - val_signal_mse: 2.2440 - val_vehicle_mse: 15.6732 - val_avg_mse: 8.9586\n",
      "Epoch 5/10\n",
      "1017/1017 [==============================] - 49s 48ms/step - loss: 1.3009 - signal_mse: 0.8461 - vehicle_mse: 1.7545 - avg_mse: 1.3003 - val_loss: 8.9445 - val_signal_mse: 2.2561 - val_vehicle_mse: 15.6457 - val_avg_mse: 8.9509\n",
      "Epoch 6/10\n",
      "1017/1017 [==============================] - 48s 48ms/step - loss: 1.2770 - signal_mse: 0.8485 - vehicle_mse: 1.7040 - avg_mse: 1.2762 - val_loss: 9.0314 - val_signal_mse: 2.2529 - val_vehicle_mse: 15.8231 - val_avg_mse: 9.0380\n",
      "Epoch 7/10\n",
      "1017/1017 [==============================] - 48s 47ms/step - loss: 1.2531 - signal_mse: 0.8403 - vehicle_mse: 1.6642 - avg_mse: 1.2523 - val_loss: 8.9932 - val_signal_mse: 2.2452 - val_vehicle_mse: 15.7536 - val_avg_mse: 8.9994\n",
      "Epoch 8/10\n",
      "1017/1017 [==============================] - 52s 51ms/step - loss: 1.2526 - signal_mse: 0.8356 - vehicle_mse: 1.6680 - avg_mse: 1.2518 - val_loss: 8.9997 - val_signal_mse: 2.2469 - val_vehicle_mse: 15.7652 - val_avg_mse: 9.0060\n",
      "Epoch 9/10\n",
      "1017/1017 [==============================] - 48s 47ms/step - loss: 1.2386 - signal_mse: 0.8285 - vehicle_mse: 1.6476 - avg_mse: 1.2381 - val_loss: 8.9612 - val_signal_mse: 2.2462 - val_vehicle_mse: 15.6893 - val_avg_mse: 8.9678\n",
      "Epoch 10/10\n",
      "1017/1017 [==============================] - 49s 48ms/step - loss: 1.2060 - signal_mse: 0.8201 - vehicle_mse: 1.5904 - avg_mse: 1.2052 - val_loss: 9.0331 - val_signal_mse: 2.2469 - val_vehicle_mse: 15.8333 - val_avg_mse: 9.0401\n",
      "CPU times: user 5min 26s, sys: 39.9 s, total: 6min 6s\n",
      "Wall time: 8min 7s\n"
     ]
    }
   ],
   "source": [
    "%%time\n",
    "model2.compile(\n",
    "    optimizer=optimizers.Adam(learning_rate=0.00001),\n",
    "    loss='mean_squared_error',\n",
    "    metrics=[signal_mse, vehicle_mse, avg_mse],\n",
    ")\n",
    "\n",
    "patience = 5\n",
    "early_stopping = tf.keras.callbacks.EarlyStopping(monitor='loss',  # Monitor validation loss\n",
    "                               patience=patience,     # Number of epochs with no improvement after which training will stop\n",
    "                               restore_best_weights=True)\n",
    "\n",
    "history2 = model2.fit(\n",
    "    train_dataset,\n",
    "    validation_data=val_dataset,\n",
    "    epochs=10,\n",
    "    shuffle=False,\n",
    "    callbacks=[early_stopping]\n",
    ")"
   ]
  },
  {
   "cell_type": "code",
   "execution_count": 78,
   "metadata": {
    "tags": []
   },
   "outputs": [
    {
     "name": "stdout",
     "output_type": "stream",
     "text": [
      "1017/1017 [==============================] - 35s 34ms/step - loss: 1.2753 - signal_mse: 0.7413 - vehicle_mse: 1.8074 - avg_mse: 1.2743\n",
      "218/218 [==============================] - 7s 34ms/step - loss: 9.0331 - signal_mse: 2.2469 - vehicle_mse: 15.8333 - avg_mse: 9.0401\n",
      "218/218 [==============================] - 8s 39ms/step - loss: 8.3308 - signal_mse: 2.2649 - vehicle_mse: 14.3944 - avg_mse: 8.3297\n"
     ]
    },
    {
     "data": {
      "text/plain": [
       "[8.330766677856445, 2.2649219036102295, 14.394440650939941, 8.329680442810059]"
      ]
     },
     "execution_count": 78,
     "metadata": {},
     "output_type": "execute_result"
    }
   ],
   "source": [
    "model2.evaluate(train_dataset)\n",
    "\n",
    "model2.evaluate(val_dataset)\n",
    "model2.evaluate(test_dataset)"
   ]
  },
  {
   "cell_type": "code",
   "execution_count": 79,
   "metadata": {
    "tags": []
   },
   "outputs": [
    {
     "data": {
      "image/png": "[encoded data removed]",
      "text/plain": [
       "<Figure size 640x480 with 1 Axes>"
      ]
     },
     "metadata": {
      "image/png": {
       "height": 429,
       "width": 547
      }
     },
     "output_type": "display_data"
    }
   ],
   "source": [
    "plot_learning_curve(history2)"
   ]
  },
  {
   "cell_type": "code",
   "execution_count": 80,
   "metadata": {
    "tags": []
   },
   "outputs": [],
   "source": [
    "y_train_cnn = model2.predict(train_dataset)\n",
    "y_val_cnn = model2.predict(val_dataset)\n",
    "y_test_cnn = model2.predict(test_dataset)"
   ]
  },
  {
   "cell_type": "code",
   "execution_count": 81,
   "metadata": {
    "tags": []
   },
   "outputs": [],
   "source": [
    "np.savez('y_pred_cnn.npz', y_train_cnn=y_train_cnn,\n",
    "        y_val_cnn=y_val_cnn, y_test_cnn=y_test_cnn)"
   ]
  },
  {
   "cell_type": "markdown",
   "metadata": {
    "tags": []
   },
   "source": [
    "# Ensemble (use linear regression to predict the weight)"
   ]
  },
  {
   "cell_type": "markdown",
   "metadata": {},
   "source": [
    "We tried different ways of aggregating results, including average results from all models, running linear regression for each output individually, running XGBoost, and building another NN.\n",
    "\n",
    "We decided to go with NN as it creates the best results."
   ]
  },
  {
   "cell_type": "markdown",
   "metadata": {},
   "source": [
    "## Read results"
   ]
  },
  {
   "cell_type": "code",
   "execution_count": 82,
   "metadata": {
    "tags": []
   },
   "outputs": [],
   "source": [
    "loaded_data = np.load('y_mean.npz')\n",
    "y_train_mean = loaded_data['y_train_mean']\n",
    "y_val_mean = loaded_data['y_val_mean']\n",
    "y_test_mean = loaded_data['y_test_mean']"
   ]
  },
  {
   "cell_type": "code",
   "execution_count": 83,
   "metadata": {},
   "outputs": [],
   "source": [
    "loaded_data = np.load('y_pred_mobile.npz')\n",
    "y_train_mobile = loaded_data['y_train_mobile']\n",
    "y_val_mobile = loaded_data['y_val_mobile']\n",
    "y_test_mobile = loaded_data['y_test_mobile']"
   ]
  },
  {
   "cell_type": "code",
   "execution_count": 84,
   "metadata": {},
   "outputs": [],
   "source": [
    "loaded_data = np.load('y_pred_cnn.npz')\n",
    "y_train_cnn = loaded_data['y_train_cnn']\n",
    "y_val_cnn = loaded_data['y_val_cnn']\n",
    "y_test_cnn = loaded_data['y_test_cnn']"
   ]
  },
  {
   "cell_type": "code",
   "execution_count": 85,
   "metadata": {},
   "outputs": [],
   "source": [
    "X_train_y = np.hstack((y_train_mean, y_train_mobile, y_train_cnn))\n",
    "X_val_y = np.hstack((y_val_mean, y_val_mobile, y_val_cnn))\n",
    "X_test_y = np.hstack((y_test_mean, y_test_mobile, y_test_cnn))"
   ]
  },
  {
   "cell_type": "code",
   "execution_count": 86,
   "metadata": {
    "tags": []
   },
   "outputs": [],
   "source": [
    "y_train = train_md[['signal', 'vehicle']]\n",
    "y_val = val_md[['signal', 'vehicle']]\n",
    "y_test = test_md[['signal', 'vehicle']]"
   ]
  },
  {
   "cell_type": "markdown",
   "metadata": {},
   "source": [
    "## Simple average"
   ]
  },
  {
   "cell_type": "markdown",
   "metadata": {},
   "source": [
    "### 3 models"
   ]
  },
  {
   "cell_type": "code",
   "execution_count": 87,
   "metadata": {
    "tags": []
   },
   "outputs": [
    {
     "name": "stdout",
     "output_type": "stream",
     "text": [
      "1.738971836327471 [0.71860222 2.75934145]\n"
     ]
    }
   ],
   "source": [
    "y_train_sa = 1/3 * y_train_mean + 1/3 * y_train_mobile +1/3 * y_train_cnn\n",
    "\n",
    "print(mean_squared_error(y_train, y_train_sa),\n",
    "\n",
    "mean_squared_error(y_train, y_train_sa, multioutput='raw_values'))"
   ]
  },
  {
   "cell_type": "code",
   "execution_count": 88,
   "metadata": {
    "tags": []
   },
   "outputs": [
    {
     "name": "stdout",
     "output_type": "stream",
     "text": [
      "7.154837151473759 [ 1.92731544 12.38235887]\n"
     ]
    }
   ],
   "source": [
    "y_val_sa = 1/3 * y_val_mean + 1/3 * y_val_mobile +1/3 * y_val_cnn\n",
    "\n",
    "print(mean_squared_error(y_val, y_val_sa),\n",
    "mean_squared_error(y_val, y_val_sa, multioutput='raw_values'))"
   ]
  },
  {
   "cell_type": "code",
   "execution_count": 89,
   "metadata": {
    "tags": []
   },
   "outputs": [
    {
     "name": "stdout",
     "output_type": "stream",
     "text": [
      "6.644002247678685 [ 1.92940077 11.35860372]\n"
     ]
    }
   ],
   "source": [
    "y_test_sa = 1/3 * y_test_mean + 1/3 * y_test_mobile +1/3 * y_test_cnn\n",
    "\n",
    "print(mean_squared_error(y_test, y_test_sa),\n",
    "mean_squared_error(y_test, y_test_sa, multioutput='raw_values'))"
   ]
  },
  {
   "cell_type": "markdown",
   "metadata": {
    "tags": []
   },
   "source": [
    "### Mobilenet and vanilla cnn"
   ]
  },
  {
   "cell_type": "code",
   "execution_count": 90,
   "metadata": {
    "tags": []
   },
   "outputs": [
    {
     "name": "stdout",
     "output_type": "stream",
     "text": [
      "0.6200645149534891 [0.38500145 0.85512758]\n"
     ]
    }
   ],
   "source": [
    "y_train_sa = 1/2 * y_train_mobile +1/2 * y_train_cnn\n",
    "\n",
    "print(mean_squared_error(y_train, y_train_sa),\n",
    "\n",
    "mean_squared_error(y_train, y_train_sa, multioutput='raw_values'))"
   ]
  },
  {
   "cell_type": "code",
   "execution_count": 91,
   "metadata": {
    "tags": []
   },
   "outputs": [
    {
     "name": "stdout",
     "output_type": "stream",
     "text": [
      "7.074702710351217 [ 1.94386933 12.20553609]\n"
     ]
    }
   ],
   "source": [
    "y_val_sa = 1/2 * y_val_mobile +1/2 * y_val_cnn\n",
    "\n",
    "print(mean_squared_error(y_val, y_val_sa),\n",
    "\n",
    "mean_squared_error(y_val, y_val_sa, multioutput='raw_values'))"
   ]
  },
  {
   "cell_type": "code",
   "execution_count": 92,
   "metadata": {
    "tags": []
   },
   "outputs": [
    {
     "name": "stdout",
     "output_type": "stream",
     "text": [
      "6.630564649804495 [ 1.92836027 11.33276903]\n"
     ]
    }
   ],
   "source": [
    "y_test_sa = 1/2 * y_test_mobile +1/2 * y_test_cnn\n",
    "\n",
    "print(mean_squared_error(y_test, y_test_sa),\n",
    "\n",
    "mean_squared_error(y_test, y_test_sa, multioutput='raw_values'))"
   ]
  },
  {
   "cell_type": "markdown",
   "metadata": {
    "tags": []
   },
   "source": [
    "## Linear regression"
   ]
  },
  {
   "cell_type": "markdown",
   "metadata": {
    "jp-MarkdownHeadingCollapsed": true,
    "tags": []
   },
   "source": [
    "### Signal"
   ]
  },
  {
   "cell_type": "code",
   "execution_count": 93,
   "metadata": {
    "tags": []
   },
   "outputs": [],
   "source": [
    "from sklearn.linear_model import LinearRegression\n",
    "\n",
    "lr = LinearRegression()\n",
    "\n",
    "lr.fit(X_train_y[:, [0, 2, 4]], y_train.iloc[:, 0])\n",
    "\n",
    "y_train_pred1 = lr.predict(X_train_y[:, [0, 2, 4]])"
   ]
  },
  {
   "cell_type": "code",
   "execution_count": 94,
   "metadata": {
    "tags": []
   },
   "outputs": [
    {
     "data": {
      "text/plain": [
       "0.24972152207373843"
      ]
     },
     "execution_count": 94,
     "metadata": {},
     "output_type": "execute_result"
    }
   ],
   "source": [
    "mse_train1 = mean_squared_error(y_train.iloc[:, 0], y_train_pred1)\n",
    "mse_train1"
   ]
  },
  {
   "cell_type": "code",
   "execution_count": 95,
   "metadata": {
    "tags": []
   },
   "outputs": [
    {
     "data": {
      "text/plain": [
       "1.9520866620525374"
      ]
     },
     "execution_count": 95,
     "metadata": {},
     "output_type": "execute_result"
    }
   ],
   "source": [
    "y_val_pred1 = lr.predict(X_val_y[:, [0, 2, 4]])\n",
    "mse_val1 = mean_squared_error(y_val.iloc[:, 0], y_val_pred1)\n",
    "mse_val1"
   ]
  },
  {
   "cell_type": "code",
   "execution_count": 96,
   "metadata": {
    "tags": []
   },
   "outputs": [
    {
     "data": {
      "text/plain": [
       "1.91086377912167"
      ]
     },
     "execution_count": 96,
     "metadata": {},
     "output_type": "execute_result"
    }
   ],
   "source": [
    "y_test_pred1 = lr.predict(X_test_y[:, [0, 2, 4]])\n",
    "mse_test1 = mean_squared_error(y_test.iloc[:, 0], y_test_pred1)\n",
    "mse_test1"
   ]
  },
  {
   "cell_type": "markdown",
   "metadata": {
    "jp-MarkdownHeadingCollapsed": true,
    "tags": []
   },
   "source": [
    "### vehicle"
   ]
  },
  {
   "cell_type": "code",
   "execution_count": 97,
   "metadata": {
    "tags": []
   },
   "outputs": [
    {
     "data": {
      "text/plain": [
       "0.6033175664779712"
      ]
     },
     "execution_count": 97,
     "metadata": {},
     "output_type": "execute_result"
    }
   ],
   "source": [
    "lr2 = LinearRegression()\n",
    "\n",
    "lr2.fit(X_train_y[:, [1, 3, 5]], y_train.iloc[:, 1])\n",
    "\n",
    "y_train_pred2 = lr2.predict(X_train_y[:, [1, 3, 5]])\n",
    "\n",
    "mse_train2 = mean_squared_error(y_train.iloc[:, 1], y_train_pred2)\n",
    "mse_train2"
   ]
  },
  {
   "cell_type": "code",
   "execution_count": 98,
   "metadata": {
    "tags": []
   },
   "outputs": [
    {
     "data": {
      "text/plain": [
       "11.795953108855624"
      ]
     },
     "execution_count": 98,
     "metadata": {},
     "output_type": "execute_result"
    }
   ],
   "source": [
    "y_val_pred2 = lr2.predict(X_val_y[:, [1, 3, 5]])\n",
    "mse_val2 = mean_squared_error(y_val.iloc[:, 1], y_val_pred2)\n",
    "mse_val2"
   ]
  },
  {
   "cell_type": "code",
   "execution_count": 99,
   "metadata": {
    "tags": []
   },
   "outputs": [
    {
     "data": {
      "text/plain": [
       "11.019613031913549"
      ]
     },
     "execution_count": 99,
     "metadata": {},
     "output_type": "execute_result"
    }
   ],
   "source": [
    "y_test_pred2 = lr2.predict(X_test_y[:, [1, 3, 5]])\n",
    "mse_test2 = mean_squared_error(y_test.iloc[:, 1], y_test_pred2)\n",
    "mse_test2"
   ]
  },
  {
   "cell_type": "markdown",
   "metadata": {},
   "source": [
    "### Average"
   ]
  },
  {
   "cell_type": "code",
   "execution_count": 100,
   "metadata": {
    "tags": []
   },
   "outputs": [
    {
     "data": {
      "text/plain": [
       "0.4265195442758548"
      ]
     },
     "execution_count": 100,
     "metadata": {},
     "output_type": "execute_result"
    }
   ],
   "source": [
    "np.mean((mse_train1, mse_train2))"
   ]
  },
  {
   "cell_type": "code",
   "execution_count": 101,
   "metadata": {
    "tags": []
   },
   "outputs": [
    {
     "data": {
      "text/plain": [
       "6.87401988545408"
      ]
     },
     "execution_count": 101,
     "metadata": {},
     "output_type": "execute_result"
    }
   ],
   "source": [
    "np.mean((mse_val1, mse_val2))"
   ]
  },
  {
   "cell_type": "code",
   "execution_count": 102,
   "metadata": {
    "tags": []
   },
   "outputs": [
    {
     "data": {
      "text/plain": [
       "6.465238405517609"
      ]
     },
     "execution_count": 102,
     "metadata": {},
     "output_type": "execute_result"
    }
   ],
   "source": [
    "np.mean((mse_test1, mse_test2))"
   ]
  },
  {
   "cell_type": "markdown",
   "metadata": {},
   "source": [
    "## XGBoost"
   ]
  },
  {
   "cell_type": "code",
   "execution_count": 103,
   "metadata": {
    "tags": []
   },
   "outputs": [
    {
     "name": "stdout",
     "output_type": "stream",
     "text": [
      "Collecting xgboost\n",
      "  Obtaining dependency information for xgboost from https://files.pythonhosted.org/packages/ee/2c/03d466d00818c8e0ffcf778946ca4a5e05694a11b85bc51f1bc5c18ca54e/xgboost-2.0.1-py3-none-manylinux2014_x86_64.whl.metadata\n",
      "  Downloading xgboost-2.0.1-py3-none-manylinux2014_x86_64.whl.metadata (2.0 kB)\n",
      "Requirement already satisfied: numpy in /app/conda/envs/collegium/lib/python3.10/site-packages (from xgboost) (1.25.2)\n",
      "Requirement already satisfied: scipy in /app/conda/envs/collegium/lib/python3.10/site-packages (from xgboost) (1.11.2)\n",
      "Downloading xgboost-2.0.1-py3-none-manylinux2014_x86_64.whl (297.1 MB)\n",
      "\u001b[2K   \u001b[90m━━━━━━━━━━━━━━━━━━━━━━━━━━━━━━━━━━━━━━━━\u001b[0m \u001b[32m297.1/297.1 MB\u001b[0m \u001b[31m5.4 MB/s\u001b[0m eta \u001b[36m0:00:00\u001b[0m:00:01\u001b[0m00:01\u001b[0m\n",
      "\u001b[?25hInstalling collected packages: xgboost\n",
      "Successfully installed xgboost-2.0.1\n"
     ]
    }
   ],
   "source": [
    "!pip install xgboost"
   ]
  },
  {
   "cell_type": "code",
   "execution_count": 105,
   "metadata": {},
   "outputs": [
    {
     "name": "stdout",
     "output_type": "stream",
     "text": [
      "Fitting 5 folds for each of 9 candidates, totalling 45 fits\n",
      "Mean Squared Error on Validation Set: 0.3114296686964726\n",
      "Mean Squared Error on Validation Set: 6.858660878073553\n",
      "Mean Squared Error on Test Set: 6.582191402245771\n",
      "Best Hyperparameters: {'estimator__max_depth': 3, 'estimator__n_estimators': 100}\n"
     ]
    }
   ],
   "source": [
    "import xgboost as xgb\n",
    "from sklearn.model_selection import GridSearchCV, KFold\n",
    "from sklearn.multioutput import MultiOutputRegressor\n",
    "from sklearn.metrics import mean_squared_error\n",
    "\n",
    "\n",
    "xgb_model = xgb.XGBRegressor()\n",
    "\n",
    "model = MultiOutputRegressor(xgb_model)\n",
    "\n",
    "param_grid = {\n",
    "    'estimator__n_estimators': [100, 200, 300],\n",
    "    'estimator__max_depth': [3, 5, 7],\n",
    "    # 'learning_rate': [0.001, 0.0001, 0.00001]\n",
    "  \n",
    "}\n",
    "\n",
    "\n",
    "kf = KFold(n_splits=5, shuffle=True, random_state=42)\n",
    "\n",
    "grid_search = GridSearchCV(model, param_grid, cv=kf, scoring='neg_mean_squared_error', verbose=1)\n",
    "grid_search.fit(X_train_y, y_train)\n",
    "\n",
    "best_model = grid_search.best_estimator_\n",
    "\n",
    "y_train_pred = best_model.predict(X_train_y)\n",
    "mse_train = mean_squared_error(y_train, y_train_pred)\n",
    "print(f'Mean Squared Error on Validation Set: {mse_train}')\n",
    "\n",
    "y_val_pred = best_model.predict(X_val_y)\n",
    "\n",
    "\n",
    "mse_val = mean_squared_error(y_val, y_val_pred)\n",
    "print(f'Mean Squared Error on Validation Set: {mse_val}')\n",
    "\n",
    "\n",
    "y_test_pred = best_model.predict(X_test_y)\n",
    "\n",
    "mse_test = mean_squared_error(y_test, y_test_pred)\n",
    "print(f'Mean Squared Error on Test Set: {mse_test}')\n",
    "\n",
    "\n",
    "print(f'Best Hyperparameters: {grid_search.best_params_}')\n"
   ]
  },
  {
   "cell_type": "markdown",
   "metadata": {},
   "source": [
    "## NN"
   ]
  },
  {
   "cell_type": "code",
   "execution_count": 109,
   "metadata": {
    "tags": []
   },
   "outputs": [
    {
     "name": "stdout",
     "output_type": "stream",
     "text": [
      "Model: \"sequential_13\"\n",
      "_________________________________________________________________\n",
      " Layer (type)                Output Shape              Param #   \n",
      "=================================================================\n",
      " dense_15 (Dense)            (None, 64)                448       \n",
      "                                                                 \n",
      " batch_normalization_2 (Batc  (None, 64)               256       \n",
      " hNormalization)                                                 \n",
      "                                                                 \n",
      " dense_16 (Dense)            (None, 32)                2080      \n",
      "                                                                 \n",
      " batch_normalization_3 (Batc  (None, 32)               128       \n",
      " hNormalization)                                                 \n",
      "                                                                 \n",
      " dense_17 (Dense)            (None, 2)                 66        \n",
      "                                                                 \n",
      "=================================================================\n",
      "Total params: 2,978\n",
      "Trainable params: 2,786\n",
      "Non-trainable params: 192\n",
      "_________________________________________________________________\n"
     ]
    }
   ],
   "source": [
    "# layer1 = tf.keras.layers.Dense(units=64, activation='relu',\n",
    "#                               input_dim=X_train_y.shape[1]\n",
    "#                               )\n",
    "# layer2 = tf.keras.layers.BatchNormalization()\n",
    "# X_train_y_used = X_train_y[:, 2:]\n",
    "\n",
    "layer1 = tf.keras.layers.Dense(units=64, activation='relu',\n",
    "                              input_dim=X_train_y.shape[1]\n",
    "                              )\n",
    "layer2 = tf.keras.layers.BatchNormalization()\n",
    "\n",
    "layer3 = tf.keras.layers.Dense(units=32, activation='relu',\n",
    "                              \n",
    "                              )\n",
    "layer4 = tf.keras.layers.BatchNormalization()\n",
    "\n",
    "output = tf.keras.layers.Dense(units=2)\n",
    "\n",
    "model3 = tf.keras.models.Sequential([layer1, \n",
    "                                     layer2,\n",
    "                                     layer3,\n",
    "                                     layer4,\n",
    "                                     output])\n",
    "\n",
    "\n",
    "model3.compile(\n",
    "    optimizer=optimizers.Adam(learning_rate=0.00005),\n",
    "    loss='mean_squared_error',\n",
    "    metrics=[signal_mse, vehicle_mse, avg_mse],\n",
    ")\n",
    "\n",
    "model3.summary()"
   ]
  },
  {
   "cell_type": "code",
   "execution_count": 110,
   "metadata": {
    "collapsed": true,
    "jupyter": {
     "outputs_hidden": true
    },
    "tags": []
   },
   "outputs": [
    {
     "name": "stdout",
     "output_type": "stream",
     "text": [
      "Epoch 1/50\n",
      "509/509 - 2s - loss: 9.4267 - signal_mse: 1.8501 - vehicle_mse: 16.9846 - avg_mse: 9.4174 - val_loss: 13.3277 - val_signal_mse: 3.0858 - val_vehicle_mse: 23.5648 - val_avg_mse: 13.3253 - 2s/epoch - 4ms/step\n",
      "Epoch 2/50\n",
      "509/509 - 1s - loss: 6.4136 - signal_mse: 1.0865 - vehicle_mse: 11.8145 - avg_mse: 6.4505 - val_loss: 12.4777 - val_signal_mse: 3.0896 - val_vehicle_mse: 21.8613 - val_avg_mse: 12.4754 - 1s/epoch - 3ms/step\n",
      "Epoch 3/50\n",
      "509/509 - 1s - loss: 5.4670 - signal_mse: 0.9255 - vehicle_mse: 10.0377 - avg_mse: 5.4816 - val_loss: 11.8592 - val_signal_mse: 2.8290 - val_vehicle_mse: 20.8852 - val_avg_mse: 11.8571 - 1s/epoch - 3ms/step\n",
      "Epoch 4/50\n",
      "509/509 - 1s - loss: 4.7215 - signal_mse: 0.7709 - vehicle_mse: 8.6687 - avg_mse: 4.7198 - val_loss: 11.0898 - val_signal_mse: 2.6623 - val_vehicle_mse: 19.5130 - val_avg_mse: 11.0876 - 1s/epoch - 3ms/step\n",
      "Epoch 5/50\n",
      "509/509 - 1s - loss: 4.0787 - signal_mse: 0.6754 - vehicle_mse: 7.4994 - avg_mse: 4.0874 - val_loss: 10.5361 - val_signal_mse: 2.5043 - val_vehicle_mse: 18.5636 - val_avg_mse: 10.5340 - 1s/epoch - 3ms/step\n",
      "Epoch 6/50\n",
      "509/509 - 1s - loss: 3.5133 - signal_mse: 0.6128 - vehicle_mse: 6.4204 - avg_mse: 3.5166 - val_loss: 9.9485 - val_signal_mse: 2.3675 - val_vehicle_mse: 17.5252 - val_avg_mse: 9.9464 - 1s/epoch - 3ms/step\n",
      "Epoch 7/50\n",
      "509/509 - 1s - loss: 2.9582 - signal_mse: 0.5621 - vehicle_mse: 5.3464 - avg_mse: 2.9543 - val_loss: 9.1287 - val_signal_mse: 2.2963 - val_vehicle_mse: 15.9568 - val_avg_mse: 9.1266 - 1s/epoch - 3ms/step\n",
      "Epoch 8/50\n",
      "509/509 - 1s - loss: 2.4862 - signal_mse: 0.5311 - vehicle_mse: 4.4819 - avg_mse: 2.5065 - val_loss: 8.8812 - val_signal_mse: 2.2085 - val_vehicle_mse: 15.5499 - val_avg_mse: 8.8792 - 1s/epoch - 3ms/step\n",
      "Epoch 9/50\n",
      "509/509 - 1s - loss: 2.0412 - signal_mse: 0.4913 - vehicle_mse: 3.5911 - avg_mse: 2.0412 - val_loss: 8.3517 - val_signal_mse: 2.1389 - val_vehicle_mse: 14.5602 - val_avg_mse: 8.3495 - 1s/epoch - 2ms/step\n",
      "Epoch 10/50\n",
      "509/509 - 1s - loss: 1.7235 - signal_mse: 0.4740 - vehicle_mse: 2.9950 - avg_mse: 1.7345 - val_loss: 8.0216 - val_signal_mse: 2.0840 - val_vehicle_mse: 13.9552 - val_avg_mse: 8.0196 - 1s/epoch - 3ms/step\n",
      "Epoch 11/50\n",
      "509/509 - 1s - loss: 1.4458 - signal_mse: 0.4621 - vehicle_mse: 2.4406 - avg_mse: 1.4513 - val_loss: 7.6397 - val_signal_mse: 2.0512 - val_vehicle_mse: 13.2242 - val_avg_mse: 7.6377 - 1s/epoch - 3ms/step\n",
      "Epoch 12/50\n",
      "509/509 - 1s - loss: 1.2376 - signal_mse: 0.4818 - vehicle_mse: 2.0585 - avg_mse: 1.2702 - val_loss: 7.4642 - val_signal_mse: 2.0658 - val_vehicle_mse: 12.8584 - val_avg_mse: 7.4621 - 1s/epoch - 3ms/step\n",
      "Epoch 13/50\n",
      "509/509 - 1s - loss: 1.0903 - signal_mse: 0.4407 - vehicle_mse: 1.7528 - avg_mse: 1.0967 - val_loss: 7.2103 - val_signal_mse: 2.0354 - val_vehicle_mse: 12.3815 - val_avg_mse: 7.2084 - 1s/epoch - 3ms/step\n",
      "Epoch 14/50\n",
      "509/509 - 1s - loss: 0.9948 - signal_mse: 0.4306 - vehicle_mse: 1.5670 - avg_mse: 0.9988 - val_loss: 7.0247 - val_signal_mse: 2.0246 - val_vehicle_mse: 12.0210 - val_avg_mse: 7.0228 - 1s/epoch - 3ms/step\n",
      "Epoch 15/50\n",
      "509/509 - 1s - loss: 0.9727 - signal_mse: 0.4228 - vehicle_mse: 1.5341 - avg_mse: 0.9784 - val_loss: 6.9708 - val_signal_mse: 2.0255 - val_vehicle_mse: 11.9122 - val_avg_mse: 6.9688 - 1s/epoch - 3ms/step\n",
      "Epoch 16/50\n",
      "509/509 - 1s - loss: 0.9365 - signal_mse: 0.4176 - vehicle_mse: 1.4611 - avg_mse: 0.9394 - val_loss: 6.9177 - val_signal_mse: 2.0248 - val_vehicle_mse: 11.8068 - val_avg_mse: 6.9158 - 1s/epoch - 3ms/step\n",
      "Epoch 17/50\n",
      "509/509 - 1s - loss: 0.9031 - signal_mse: 0.4085 - vehicle_mse: 1.3966 - avg_mse: 0.9025 - val_loss: 6.9463 - val_signal_mse: 2.0040 - val_vehicle_mse: 11.8849 - val_avg_mse: 6.9445 - 1s/epoch - 3ms/step\n",
      "Epoch 18/50\n",
      "509/509 - 1s - loss: 0.8996 - signal_mse: 0.4115 - vehicle_mse: 1.3905 - avg_mse: 0.9010 - val_loss: 6.9507 - val_signal_mse: 1.9877 - val_vehicle_mse: 11.9101 - val_avg_mse: 6.9489 - 1s/epoch - 3ms/step\n",
      "Epoch 19/50\n",
      "509/509 - 1s - loss: 0.9038 - signal_mse: 0.4102 - vehicle_mse: 1.4124 - avg_mse: 0.9113 - val_loss: 6.9419 - val_signal_mse: 2.0048 - val_vehicle_mse: 11.8751 - val_avg_mse: 6.9400 - 1s/epoch - 3ms/step\n",
      "Epoch 20/50\n",
      "509/509 - 1s - loss: 0.8840 - signal_mse: 0.3928 - vehicle_mse: 1.3755 - avg_mse: 0.8841 - val_loss: 6.9320 - val_signal_mse: 1.9900 - val_vehicle_mse: 11.8704 - val_avg_mse: 6.9302 - 1s/epoch - 3ms/step\n",
      "Epoch 21/50\n",
      "509/509 - 1s - loss: 0.8844 - signal_mse: 0.3967 - vehicle_mse: 1.3841 - avg_mse: 0.8904 - val_loss: 6.9195 - val_signal_mse: 1.9981 - val_vehicle_mse: 11.8375 - val_avg_mse: 6.9178 - 1s/epoch - 3ms/step\n",
      "Epoch 22/50\n",
      "509/509 - 1s - loss: 0.8619 - signal_mse: 0.3755 - vehicle_mse: 1.3482 - avg_mse: 0.8618 - val_loss: 6.9347 - val_signal_mse: 1.9889 - val_vehicle_mse: 11.8769 - val_avg_mse: 6.9329 - 1s/epoch - 3ms/step\n",
      "Epoch 23/50\n",
      "509/509 - 1s - loss: 0.8638 - signal_mse: 0.3873 - vehicle_mse: 1.3415 - avg_mse: 0.8644 - val_loss: 6.9413 - val_signal_mse: 1.9843 - val_vehicle_mse: 11.8947 - val_avg_mse: 6.9395 - 1s/epoch - 3ms/step\n",
      "Epoch 24/50\n",
      "509/509 - 1s - loss: 0.8331 - signal_mse: 0.3618 - vehicle_mse: 1.3081 - avg_mse: 0.8349 - val_loss: 6.9332 - val_signal_mse: 1.9949 - val_vehicle_mse: 11.8680 - val_avg_mse: 6.9314 - 1s/epoch - 3ms/step\n",
      "Epoch 25/50\n",
      "509/509 - 1s - loss: 0.8392 - signal_mse: 0.3778 - vehicle_mse: 1.3197 - avg_mse: 0.8487 - val_loss: 6.8841 - val_signal_mse: 1.9803 - val_vehicle_mse: 11.7840 - val_avg_mse: 6.8821 - 1s/epoch - 3ms/step\n",
      "Epoch 26/50\n",
      "509/509 - 1s - loss: 0.8404 - signal_mse: 0.3696 - vehicle_mse: 1.3158 - avg_mse: 0.8427 - val_loss: 6.9107 - val_signal_mse: 1.9776 - val_vehicle_mse: 11.8404 - val_avg_mse: 6.9090 - 1s/epoch - 3ms/step\n",
      "Epoch 27/50\n",
      "509/509 - 1s - loss: 0.8159 - signal_mse: 0.3610 - vehicle_mse: 1.2699 - avg_mse: 0.8154 - val_loss: 6.9101 - val_signal_mse: 1.9896 - val_vehicle_mse: 11.8271 - val_avg_mse: 6.9084 - 1s/epoch - 3ms/step\n",
      "Epoch 28/50\n",
      "509/509 - 1s - loss: 0.8281 - signal_mse: 0.3638 - vehicle_mse: 1.2962 - avg_mse: 0.8300 - val_loss: 6.9714 - val_signal_mse: 1.9708 - val_vehicle_mse: 11.9686 - val_avg_mse: 6.9697 - 1s/epoch - 3ms/step\n",
      "Epoch 29/50\n",
      "509/509 - 1s - loss: 0.8238 - signal_mse: 0.3590 - vehicle_mse: 1.2991 - avg_mse: 0.8291 - val_loss: 6.8737 - val_signal_mse: 1.9774 - val_vehicle_mse: 11.7666 - val_avg_mse: 6.8720 - 1s/epoch - 3ms/step\n",
      "Epoch 30/50\n",
      "509/509 - 1s - loss: 0.8261 - signal_mse: 0.3506 - vehicle_mse: 1.3006 - avg_mse: 0.8256 - val_loss: 6.9505 - val_signal_mse: 1.9694 - val_vehicle_mse: 11.9282 - val_avg_mse: 6.9488 - 1s/epoch - 2ms/step\n",
      "Epoch 31/50\n",
      "509/509 - 1s - loss: 0.8173 - signal_mse: 0.3516 - vehicle_mse: 1.2960 - avg_mse: 0.8238 - val_loss: 6.9426 - val_signal_mse: 1.9730 - val_vehicle_mse: 11.9088 - val_avg_mse: 6.9409 - 1s/epoch - 2ms/step\n",
      "Epoch 32/50\n",
      "509/509 - 1s - loss: 0.8047 - signal_mse: 0.3481 - vehicle_mse: 1.2619 - avg_mse: 0.8050 - val_loss: 6.9133 - val_signal_mse: 1.9709 - val_vehicle_mse: 11.8526 - val_avg_mse: 6.9118 - 1s/epoch - 2ms/step\n",
      "Epoch 33/50\n",
      "509/509 - 1s - loss: 0.7878 - signal_mse: 0.3430 - vehicle_mse: 1.2375 - avg_mse: 0.7903 - val_loss: 6.8912 - val_signal_mse: 1.9722 - val_vehicle_mse: 11.8068 - val_avg_mse: 6.8895 - 1s/epoch - 3ms/step\n",
      "Epoch 34/50\n",
      "509/509 - 1s - loss: 0.7926 - signal_mse: 0.3377 - vehicle_mse: 1.2548 - avg_mse: 0.7963 - val_loss: 6.9035 - val_signal_mse: 1.9767 - val_vehicle_mse: 11.8271 - val_avg_mse: 6.9019 - 1s/epoch - 2ms/step\n",
      "Epoch 35/50\n",
      "509/509 - 1s - loss: 0.7656 - signal_mse: 0.3454 - vehicle_mse: 1.1841 - avg_mse: 0.7647 - val_loss: 6.9201 - val_signal_mse: 1.9878 - val_vehicle_mse: 11.8488 - val_avg_mse: 6.9183 - 1s/epoch - 3ms/step\n",
      "Epoch 36/50\n",
      "509/509 - 1s - loss: 0.7784 - signal_mse: 0.3392 - vehicle_mse: 1.2241 - avg_mse: 0.7817 - val_loss: 6.8869 - val_signal_mse: 1.9769 - val_vehicle_mse: 11.7933 - val_avg_mse: 6.8851 - 1s/epoch - 2ms/step\n",
      "Epoch 37/50\n",
      "509/509 - 1s - loss: 0.7432 - signal_mse: 0.3349 - vehicle_mse: 1.1553 - avg_mse: 0.7451 - val_loss: 6.8805 - val_signal_mse: 1.9803 - val_vehicle_mse: 11.7769 - val_avg_mse: 6.8786 - 1s/epoch - 2ms/step\n",
      "Epoch 38/50\n",
      "509/509 - 1s - loss: 0.7922 - signal_mse: 0.3375 - vehicle_mse: 1.2611 - avg_mse: 0.7993 - val_loss: 6.9343 - val_signal_mse: 1.9809 - val_vehicle_mse: 11.8838 - val_avg_mse: 6.9323 - 1s/epoch - 2ms/step\n",
      "Epoch 39/50\n",
      "509/509 - 1s - loss: 0.7809 - signal_mse: 0.3370 - vehicle_mse: 1.2336 - avg_mse: 0.7853 - val_loss: 6.8876 - val_signal_mse: 1.9845 - val_vehicle_mse: 11.7871 - val_avg_mse: 6.8858 - 1s/epoch - 2ms/step\n",
      "Epoch 40/50\n",
      "509/509 - 1s - loss: 0.7717 - signal_mse: 0.3384 - vehicle_mse: 1.2320 - avg_mse: 0.7852 - val_loss: 6.9261 - val_signal_mse: 2.0049 - val_vehicle_mse: 11.8437 - val_avg_mse: 6.9243 - 1s/epoch - 2ms/step\n",
      "Epoch 41/50\n",
      "509/509 - 1s - loss: 0.8168 - signal_mse: 0.3421 - vehicle_mse: 1.3126 - avg_mse: 0.8273 - val_loss: 6.9209 - val_signal_mse: 1.9900 - val_vehicle_mse: 11.8482 - val_avg_mse: 6.9191 - 1s/epoch - 2ms/step\n",
      "Epoch 42/50\n",
      "509/509 - 1s - loss: 0.7634 - signal_mse: 0.3293 - vehicle_mse: 1.2068 - avg_mse: 0.7680 - val_loss: 6.9285 - val_signal_mse: 1.9790 - val_vehicle_mse: 11.8744 - val_avg_mse: 6.9267 - 1s/epoch - 2ms/step\n"
     ]
    }
   ],
   "source": [
    "history3 = model3.fit(\n",
    "    X_train_y, y_train,\n",
    "    validation_data=(X_val_y, y_val),\n",
    "    epochs=50,\n",
    "    shuffle=True,\n",
    "    callbacks=[early_stopping],\n",
    "    verbose=2\n",
    ")"
   ]
  },
  {
   "cell_type": "code",
   "execution_count": 111,
   "metadata": {
    "tags": []
   },
   "outputs": [
    {
     "name": "stdout",
     "output_type": "stream",
     "text": [
      "509/509 [==============================] - 1s 1ms/step - loss: 0.4913 - signal_mse: 0.2543 - vehicle_mse: 0.7272 - avg_mse: 0.4907\n",
      "109/109 [==============================] - 0s 1ms/step - loss: 6.8805 - signal_mse: 1.9803 - vehicle_mse: 11.7769 - avg_mse: 6.8786\n",
      "109/109 [==============================] - 0s 1ms/step - loss: 6.7104 - signal_mse: 1.9617 - vehicle_mse: 11.4570 - avg_mse: 6.7093\n"
     ]
    },
    {
     "data": {
      "text/plain": [
       "[6.710419178009033, 1.961730718612671, 11.456964492797852, 6.709347248077393]"
      ]
     },
     "execution_count": 111,
     "metadata": {},
     "output_type": "execute_result"
    }
   ],
   "source": [
    "model3.evaluate(X_train_y, y_train)\n",
    "model3.evaluate(X_val_y, y_val)\n",
    "model3.evaluate(X_test_y, y_test)"
   ]
  },
  {
   "cell_type": "code",
   "execution_count": 112,
   "metadata": {
    "tags": []
   },
   "outputs": [
    {
     "data": {
      "image/png": "[encoded data removed]",
      "text/plain": [
       "<Figure size 640x480 with 1 Axes>"
      ]
     },
     "metadata": {
      "image/png": {
       "height": 429,
       "width": 562
      }
     },
     "output_type": "display_data"
    }
   ],
   "source": [
    "plot_learning_curve(history3)"
   ]
  },
  {
   "cell_type": "markdown",
   "metadata": {},
   "source": [
    "# Saving the model and predictions"
   ]
  },
  {
   "cell_type": "markdown",
   "metadata": {},
   "source": [
    "## Final model"
   ]
  },
  {
   "cell_type": "code",
   "execution_count": 117,
   "metadata": {
    "tags": []
   },
   "outputs": [],
   "source": [
    "import os\n",
    "import h5py\n",
    "import json\n",
    "\n",
    "class NumpyEncoder(json.JSONEncoder):\n",
    "    def default(self, obj):\n",
    "        if isinstance(obj, np.ndarray):\n",
    "            return obj.tolist()\n",
    "        return super(NumpyEncoder, self).default(obj)\n",
    "\n",
    "class final_model:\n",
    "    \n",
    "    def __init__(self, y_train_mean, model1, model2, model3):\n",
    "        self.y_train_mean = y_train_mean\n",
    "        self.model1 = model1\n",
    "        self.model2 = model2\n",
    "        self.model3 = model3\n",
    "       \n",
    "        \n",
    "    def predict(self, dataset):\n",
    "        \"\"\"predict score_dataset with ensemble method\"\"\"\n",
    "        \n",
    "        \n",
    "        y_mobile = self.model1.predict(dataset)\n",
    "        \n",
    "        y_cnn = self.model2.predict(dataset)\n",
    "        \n",
    "        y_train_mean = self.y_train_mean[:y_mobile.shape[0]]\n",
    "        \n",
    "        # X_y = np.hstack((y_train_mean, y_mobile, y_cnn))\n",
    "        X_y = np.hstack((y_train_mean, y_mobile, y_cnn))\n",
    "        \n",
    "        y_pred = self.model3.predict(X_y)\n",
    "        \n",
    "        return y_pred\n",
    "    \n",
    "    def to_json(self):\n",
    "        # final_model_config = {\n",
    "        #     'Mobilenet': model1.get_config(),\n",
    "        #     'Vanilla CNN': model2.get_config(),\n",
    "        #     'Ensemble NN': model3.get_config()\n",
    "        # }\n",
    "        # # # json_string = json.dumps(final_model_config, indent=True)\n",
    "        # return final_model_config\n",
    "        \n",
    "        config1 = self.model1.get_config()\n",
    "        config2 = self.model2.get_config()\n",
    "        config3 = self.model3.get_config()\n",
    "\n",
    "        # Convert NumPy arrays to nested lists\n",
    "        config1 = json.loads(json.dumps(config1, cls=NumpyEncoder))\n",
    "        config2 = json.loads(json.dumps(config2, cls=NumpyEncoder))\n",
    "        config3 = json.loads(json.dumps(config3, cls=NumpyEncoder))\n",
    "\n",
    "        # Create a dictionary for the final model\n",
    "        final_model_config = {\n",
    "            'Mobilenet': config1,\n",
    "            'Vanilla CNN': config2,\n",
    "            'Ensemble NN': config3\n",
    "        }\n",
    "\n",
    "        # Convert the dictionary to a JSON-formatted string\n",
    "        json_string = json.dumps(final_model_config, indent=2)\n",
    "\n",
    "        return json_string\n",
    "   \n",
    "    \n",
    "    def save_weights(self, filepath):\n",
    "        models = [model1, model2, model3]\n",
    "    \n",
    "        temp_dir = \"temp_weights\"\n",
    "        os.makedirs(temp_dir, exist_ok=True)\n",
    "\n",
    "        # Save weights of each model in the temporary directory\n",
    "        model_weights_paths = []\n",
    "        for i, model in enumerate(models):\n",
    "            temp_filepath = os.path.join(temp_dir, f\"temp_model_{i}.h5\")\n",
    "            model.save_weights(temp_filepath)\n",
    "            model_weights_paths.append(temp_filepath)\n",
    "\n",
    "        # Combine individual model weights into one file\n",
    "        with h5py.File(filepath, 'w') as combined_weights_file:\n",
    "            for i, model_weights_path in enumerate(model_weights_paths):\n",
    "                with h5py.File(model_weights_path, 'r') as temp_weights_file:\n",
    "                    # Copy each group from the temporary file to the combined file\n",
    "                    for key in temp_weights_file.keys():\n",
    "                        combined_weights_file.copy(\n",
    "                            temp_weights_file[key], f\"model_{i}/{key}\"\n",
    "                        )\n",
    "\n",
    "        # Remove the temporary directory\n",
    "        for temp_weights_path in model_weights_paths:\n",
    "            os.remove(temp_weights_path)\n",
    "        os.rmdir(temp_dir)\n",
    "\n"
   ]
  },
  {
   "cell_type": "markdown",
   "metadata": {},
   "source": [
    "## Creating TF Score Dataset"
   ]
  },
  {
   "cell_type": "code",
   "execution_count": 114,
   "metadata": {},
   "outputs": [],
   "source": [
    "# See Python Generator\n",
    "# https://peps.python.org/pep-0255/\n",
    "def build_generator_score(metadata: pd.DataFrame):\n",
    "    def generator():\n",
    "        for _, row in metadata.iterrows():\n",
    "            \n",
    "            # get image\n",
    "            file_path = 'carnet_dataset/score/images/' + row['file_name']\n",
    "            score_np = np.array(Image.open(file_path)).astype(np.float32)\n",
    "        \n",
    "            model_input = score_np\n",
    "           \n",
    "            yield model_input\n",
    "\n",
    "\n",
    "    return generator\n",
    "\n",
    "\n",
    "# See Tensorflow Dataset\n",
    "# https://www.tensorflow.org/api_docs/python/tf/data/Dataset\n",
    "def build_dataset_score(metadata: pd.DataFrame) -> tf.data.Dataset:\n",
    "    model_input = tf.TensorSpec(shape=(224, 224, 3), dtype=tf.float32)  # type: ignore\n",
    "\n",
    "\n",
    "    dataset_signature = model_input\n",
    "\n",
    "    dataset = tf.data.Dataset.from_generator(\n",
    "        build_generator_score(metadata), \n",
    "        output_signature=dataset_signature\n",
    "    )\n",
    "\n",
    "    return dataset\n"
   ]
  },
  {
   "cell_type": "code",
   "execution_count": 115,
   "metadata": {},
   "outputs": [
    {
     "data": {
      "text/plain": [
       "TensorShape([16, 224, 224, 3])"
      ]
     },
     "metadata": {},
     "output_type": "display_data"
    }
   ],
   "source": [
    "score_metadata = pd.read_csv('carnet_dataset/score/metadata.csv')\n",
    "\n",
    "score_dataset = build_dataset_score(score_metadata).batch(16)\n",
    "\n",
    "model_input = next(iter(score_dataset))\n",
    "\n",
    "display(model_input.shape)"
   ]
  },
  {
   "cell_type": "code",
   "execution_count": 116,
   "metadata": {
    "tags": []
   },
   "outputs": [
    {
     "data": {
      "text/html": [
       "<div>\n",
       "<style scoped>\n",
       "    .dataframe tbody tr th:only-of-type {\n",
       "        vertical-align: middle;\n",
       "    }\n",
       "\n",
       "    .dataframe tbody tr th {\n",
       "        vertical-align: top;\n",
       "    }\n",
       "\n",
       "    .dataframe thead th {\n",
       "        text-align: right;\n",
       "    }\n",
       "</style>\n",
       "<table border=\"1\" class=\"dataframe\">\n",
       "  <thead>\n",
       "    <tr style=\"text-align: right;\">\n",
       "      <th></th>\n",
       "      <th>file_name</th>\n",
       "    </tr>\n",
       "  </thead>\n",
       "  <tbody>\n",
       "    <tr>\n",
       "      <th>0</th>\n",
       "      <td>000000000071.jpg</td>\n",
       "    </tr>\n",
       "    <tr>\n",
       "      <th>1</th>\n",
       "      <td>000000000149.jpg</td>\n",
       "    </tr>\n",
       "    <tr>\n",
       "      <th>2</th>\n",
       "      <td>000000000260.jpg</td>\n",
       "    </tr>\n",
       "    <tr>\n",
       "      <th>3</th>\n",
       "      <td>000000000307.jpg</td>\n",
       "    </tr>\n",
       "    <tr>\n",
       "      <th>4</th>\n",
       "      <td>000000000690.jpg</td>\n",
       "    </tr>\n",
       "  </tbody>\n",
       "</table>\n",
       "</div>"
      ],
      "text/plain": [
       "          file_name\n",
       "0  000000000071.jpg\n",
       "1  000000000149.jpg\n",
       "2  000000000260.jpg\n",
       "3  000000000307.jpg\n",
       "4  000000000690.jpg"
      ]
     },
     "execution_count": 116,
     "metadata": {},
     "output_type": "execute_result"
    }
   ],
   "source": [
    "score_metadata.head()"
   ]
  },
  {
   "cell_type": "markdown",
   "metadata": {},
   "source": [
    "## Predict score dataset"
   ]
  },
  {
   "cell_type": "code",
   "execution_count": 118,
   "metadata": {
    "tags": []
   },
   "outputs": [],
   "source": [
    "model = final_model(y_train_mean, model1, model2, best_model)"
   ]
  },
  {
   "cell_type": "code",
   "execution_count": 119,
   "metadata": {
    "tags": []
   },
   "outputs": [],
   "source": [
    "score_y_pred = model.predict(score_dataset)"
   ]
  },
  {
   "cell_type": "code",
   "execution_count": 120,
   "metadata": {
    "tags": []
   },
   "outputs": [
    {
     "data": {
      "text/plain": [
       "array([[-2.8860420e-02,  9.6137543e+00],\n",
       "       [-7.9406183e-03,  2.0815887e+00],\n",
       "       [ 9.6180536e-02,  2.8782840e+00],\n",
       "       ...,\n",
       "       [ 4.8932362e-01,  3.2557108e+00],\n",
       "       [ 9.8347741e-01,  2.7869747e+00],\n",
       "       [ 5.5158299e-01,  2.5088494e+00]], dtype=float32)"
      ]
     },
     "execution_count": 120,
     "metadata": {},
     "output_type": "execute_result"
    }
   ],
   "source": [
    "score_y_pred"
   ]
  },
  {
   "cell_type": "code",
   "execution_count": 121,
   "metadata": {
    "tags": []
   },
   "outputs": [],
   "source": [
    "score_y_hat = pd.DataFrame(score_y_pred, columns=['signal', 'vehicle'])"
   ]
  },
  {
   "cell_type": "code",
   "execution_count": 122,
   "metadata": {},
   "outputs": [],
   "source": [
    "# Save your predictions on the Score segment as a Pandas data frame into a variable named `score_y_hat`.\n",
    "# The data frame should contain 2 columns: signal and vehicle.\n",
    "# The following is an EXAMPLE of what this data frame could be.\n",
    "# score_y_hat = pd.DataFrame({\n",
    "#     'signal': [0] * score_metadata.shape[0],\n",
    "#     'vehicle': [0] * score_metadata.shape[0]\n",
    "# })\n",
    "\n",
    "# Use the following asserts to check the type and shape of the final predictions.\n",
    "assert type(score_y_hat) == pd.DataFrame\n",
    "assert score_y_hat.shape == (score_metadata.shape[0], 2)\n",
    "assert (score_y_hat.columns == ['signal', 'vehicle']).all()\n",
    "\n",
    "# Use the following code to save the final predictions.\n",
    "import os \n",
    "model_dir = 'carnet_model'\n",
    "os.makedirs(model_dir, exist_ok=True)\n",
    "score_y_hat.to_parquet(f'{model_dir}/score_y_hat.parquet')"
   ]
  },
  {
   "cell_type": "code",
   "execution_count": 132,
   "metadata": {
    "tags": []
   },
   "outputs": [
    {
     "data": {
      "text/plain": [
       "'{\"learner\":{\"generic_param\":{\"device\":\"cpu\",\"fail_on_invalid_gpu_id\":\"0\",\"n_jobs\":\"0\",\"nthread\":\"0\",\"random_state\":\"0\",\"seed\":\"0\",\"seed_per_iteration\":\"0\",\"validate_parameters\":\"1\"},\"gradient_booster\":{\"gbtree_model_param\":{\"num_parallel_tree\":\"1\",\"num_trees\":\"100\"},\"gbtree_train_param\":{\"process_type\":\"default\",\"tree_method\":\"auto\",\"updater\":\"grow_quantile_histmaker\",\"updater_seq\":\"grow_quantile_histmaker\"},\"name\":\"gbtree\",\"specified_updater\":false,\"tree_train_param\":{\"alpha\":\"0\",\"cache_opt\":\"1\",\"colsample_bylevel\":\"1\",\"colsample_bynode\":\"1\",\"colsample_bytree\":\"1\",\"eta\":\"0.300000012\",\"gamma\":\"0\",\"grow_policy\":\"depthwise\",\"interaction_constraints\":\"\",\"lambda\":\"1\",\"learning_rate\":\"0.300000012\",\"max_bin\":\"256\",\"max_cat_threshold\":\"64\",\"max_cat_to_onehot\":\"4\",\"max_delta_step\":\"0\",\"max_depth\":\"3\",\"max_leaves\":\"0\",\"min_child_weight\":\"1\",\"min_split_loss\":\"0\",\"monotone_constraints\":\"()\",\"refresh_leaf\":\"1\",\"reg_alpha\":\"0\",\"reg_lambda\":\"1\",\"sampling_method\":\"uniform\",\"sketch_ratio\":\"2\",\"sparse_threshold\":\"0.20000000000000001\",\"subsample\":\"1\"},\"updater\":[{\"hist_train_param\":{\"debug_synchronize\":\"0\",\"max_cached_hist_node\":\"65536\"},\"name\":\"grow_quantile_histmaker\"}]},\"learner_model_param\":{\"base_score\":\"5.213113E-1\",\"boost_from_average\":\"1\",\"num_class\":\"0\",\"num_feature\":\"6\",\"num_target\":\"1\"},\"learner_train_param\":{\"booster\":\"gbtree\",\"disable_default_eval_metric\":\"0\",\"multi_strategy\":\"one_output_per_tree\",\"objective\":\"reg:squarederror\"},\"metrics\":[{\"name\":\"rmse\"}],\"objective\":{\"name\":\"reg:squarederror\",\"reg_loss_param\":{\"scale_pos_weight\":\"1\"}}},\"version\":[2,0,1]}'"
      ]
     },
     "execution_count": 132,
     "metadata": {},
     "output_type": "execute_result"
    }
   ],
   "source": [
    "best_model.estimators_[0].get_booster().save_config()"
   ]
  },
  {
   "cell_type": "code",
   "execution_count": 138,
   "metadata": {
    "tags": []
   },
   "outputs": [
    {
     "name": "stderr",
     "output_type": "stream",
     "text": [
      "/app/conda/envs/collegium/lib/python3.10/site-packages/xgboost/core.py:160: UserWarning: [17:03:21] WARNING: /workspace/src/c_api/c_api.cc:1240: Saving into deprecated binary model format, please consider using `json` or `ubj`. Model format will default to JSON in XGBoost 2.2 if not specified.\n",
      "  warnings.warn(smsg, UserWarning)\n"
     ]
    }
   ],
   "source": [
    "best_model.estimators_[0].get_booster().save_model('try.model')"
   ]
  },
  {
   "cell_type": "code",
   "execution_count": 140,
   "metadata": {
    "tags": []
   },
   "outputs": [
    {
     "name": "stderr",
     "output_type": "stream",
     "text": [
      "/app/conda/envs/collegium/lib/python3.10/site-packages/xgboost/core.py:160: UserWarning: [17:04:34] WARNING: /workspace/src/c_api/c_api.cc:1240: Saving into deprecated binary model format, please consider using `json` or `ubj`. Model format will default to JSON in XGBoost 2.2 if not specified.\n",
      "  warnings.warn(smsg, UserWarning)\n"
     ]
    }
   ],
   "source": [
    "# separate models\n",
    "import json\n",
    "\n",
    "for i, model in enumerate([model1, model2, best_model]):\n",
    "    with open(f'{model_dir}/keras_model{i+1}.json', 'w') as f:\n",
    "        if model != best_model:\n",
    "            model_json = json.dumps(json.loads(model.to_json()), indent=True)\n",
    "            f.write(model_json)\n",
    "        else:\n",
    "            model_config = best_model.estimators_[0].get_booster().save_config()\n",
    "            json.dump(model_config, f, indent=2)\n",
    "\n",
    "    # Save the learned parameters.\n",
    "    if model != best_model:\n",
    "        model.save_weights(f\"{model_dir}/keras_parameters_model{i+1}.h5\")\n",
    "    else:\n",
    "        best_model.estimators_[0].get_booster().save_model(f\"{model_dir}/keras_parameters_model{i+1}.h5\")"
   ]
  },
  {
   "cell_type": "code",
   "execution_count": 124,
   "metadata": {
    "tags": []
   },
   "outputs": [],
   "source": [
    "# # ensemble\n",
    "# import json\n",
    "# with open(f'{model_dir}/keras_model.json', 'w') as f:\n",
    "#     # model_json = json.dumps(json.loads(model.to_json()), indent=True)\n",
    "#     model_json = json.dumps(json.loads(model.to_json()), indent=True)\n",
    "#     f.write(model_json)\n",
    "\n",
    "# # Save the learned parameters.\n",
    "# model.save_weights(f\"{model_dir}/keras_parameters.h5\")"
   ]
  },
  {
   "cell_type": "code",
   "execution_count": 478,
   "metadata": {},
   "outputs": [],
   "source": [
    "# Next, save each model's defition (JSON file) and parameters (H5 file)."
   ]
  },
  {
   "cell_type": "code",
   "execution_count": 479,
   "metadata": {},
   "outputs": [],
   "source": [
    "# You now have the following files to be submit:\n",
    "# 1. This notebook and any other Python code you used to train the final model.\n",
    "# 2. definitions of all trained models\n",
    "# 3. parameters of all trained models\n",
    "# 4. score_y_hat.parquet - the model's output on the score segment"
   ]
  }
 ],
 "metadata": {
  "availableInstances": [
   {
    "_defaultOrder": 0,
    "_isFastLaunch": true,
    "category": "General purpose",
    "gpuNum": 0,
    "hideHardwareSpecs": false,
    "memoryGiB": 4,
    "name": "ml.t3.medium",
    "vcpuNum": 2
   },
   {
    "_defaultOrder": 1,
    "_isFastLaunch": false,
    "category": "General purpose",
    "gpuNum": 0,
    "hideHardwareSpecs": false,
    "memoryGiB": 8,
    "name": "ml.t3.large",
    "vcpuNum": 2
   },
   {
    "_defaultOrder": 2,
    "_isFastLaunch": false,
    "category": "General purpose",
    "gpuNum": 0,
    "hideHardwareSpecs": false,
    "memoryGiB": 16,
    "name": "ml.t3.xlarge",
    "vcpuNum": 4
   },
   {
    "_defaultOrder": 3,
    "_isFastLaunch": false,
    "category": "General purpose",
    "gpuNum": 0,
    "hideHardwareSpecs": false,
    "memoryGiB": 32,
    "name": "ml.t3.2xlarge",
    "vcpuNum": 8
   },
   {
    "_defaultOrder": 4,
    "_isFastLaunch": true,
    "category": "General purpose",
    "gpuNum": 0,
    "hideHardwareSpecs": false,
    "memoryGiB": 8,
    "name": "ml.m5.large",
    "vcpuNum": 2
   },
   {
    "_defaultOrder": 5,
    "_isFastLaunch": false,
    "category": "General purpose",
    "gpuNum": 0,
    "hideHardwareSpecs": false,
    "memoryGiB": 16,
    "name": "ml.m5.xlarge",
    "vcpuNum": 4
   },
   {
    "_defaultOrder": 6,
    "_isFastLaunch": false,
    "category": "General purpose",
    "gpuNum": 0,
    "hideHardwareSpecs": false,
    "memoryGiB": 32,
    "name": "ml.m5.2xlarge",
    "vcpuNum": 8
   },
   {
    "_defaultOrder": 7,
    "_isFastLaunch": false,
    "category": "General purpose",
    "gpuNum": 0,
    "hideHardwareSpecs": false,
    "memoryGiB": 64,
    "name": "ml.m5.4xlarge",
    "vcpuNum": 16
   },
   {
    "_defaultOrder": 8,
    "_isFastLaunch": false,
    "category": "General purpose",
    "gpuNum": 0,
    "hideHardwareSpecs": false,
    "memoryGiB": 128,
    "name": "ml.m5.8xlarge",
    "vcpuNum": 32
   },
   {
    "_defaultOrder": 9,
    "_isFastLaunch": false,
    "category": "General purpose",
    "gpuNum": 0,
    "hideHardwareSpecs": false,
    "memoryGiB": 192,
    "name": "ml.m5.12xlarge",
    "vcpuNum": 48
   },
   {
    "_defaultOrder": 10,
    "_isFastLaunch": false,
    "category": "General purpose",
    "gpuNum": 0,
    "hideHardwareSpecs": false,
    "memoryGiB": 256,
    "name": "ml.m5.16xlarge",
    "vcpuNum": 64
   },
   {
    "_defaultOrder": 11,
    "_isFastLaunch": false,
    "category": "General purpose",
    "gpuNum": 0,
    "hideHardwareSpecs": false,
    "memoryGiB": 384,
    "name": "ml.m5.24xlarge",
    "vcpuNum": 96
   },
   {
    "_defaultOrder": 12,
    "_isFastLaunch": false,
    "category": "General purpose",
    "gpuNum": 0,
    "hideHardwareSpecs": false,
    "memoryGiB": 8,
    "name": "ml.m5d.large",
    "vcpuNum": 2
   },
   {
    "_defaultOrder": 13,
    "_isFastLaunch": false,
    "category": "General purpose",
    "gpuNum": 0,
    "hideHardwareSpecs": false,
    "memoryGiB": 16,
    "name": "ml.m5d.xlarge",
    "vcpuNum": 4
   },
   {
    "_defaultOrder": 14,
    "_isFastLaunch": false,
    "category": "General purpose",
    "gpuNum": 0,
    "hideHardwareSpecs": false,
    "memoryGiB": 32,
    "name": "ml.m5d.2xlarge",
    "vcpuNum": 8
   },
   {
    "_defaultOrder": 15,
    "_isFastLaunch": false,
    "category": "General purpose",
    "gpuNum": 0,
    "hideHardwareSpecs": false,
    "memoryGiB": 64,
    "name": "ml.m5d.4xlarge",
    "vcpuNum": 16
   },
   {
    "_defaultOrder": 16,
    "_isFastLaunch": false,
    "category": "General purpose",
    "gpuNum": 0,
    "hideHardwareSpecs": false,
    "memoryGiB": 128,
    "name": "ml.m5d.8xlarge",
    "vcpuNum": 32
   },
   {
    "_defaultOrder": 17,
    "_isFastLaunch": false,
    "category": "General purpose",
    "gpuNum": 0,
    "hideHardwareSpecs": false,
    "memoryGiB": 192,
    "name": "ml.m5d.12xlarge",
    "vcpuNum": 48
   },
   {
    "_defaultOrder": 18,
    "_isFastLaunch": false,
    "category": "General purpose",
    "gpuNum": 0,
    "hideHardwareSpecs": false,
    "memoryGiB": 256,
    "name": "ml.m5d.16xlarge",
    "vcpuNum": 64
   },
   {
    "_defaultOrder": 19,
    "_isFastLaunch": false,
    "category": "General purpose",
    "gpuNum": 0,
    "hideHardwareSpecs": false,
    "memoryGiB": 384,
    "name": "ml.m5d.24xlarge",
    "vcpuNum": 96
   },
   {
    "_defaultOrder": 20,
    "_isFastLaunch": false,
    "category": "General purpose",
    "gpuNum": 0,
    "hideHardwareSpecs": true,
    "memoryGiB": 0,
    "name": "ml.geospatial.interactive",
    "supportedImageNames": [
     "sagemaker-geospatial-v1-0"
    ],
    "vcpuNum": 0
   },
   {
    "_defaultOrder": 21,
    "_isFastLaunch": true,
    "category": "Compute optimized",
    "gpuNum": 0,
    "hideHardwareSpecs": false,
    "memoryGiB": 4,
    "name": "ml.c5.large",
    "vcpuNum": 2
   },
   {
    "_defaultOrder": 22,
    "_isFastLaunch": false,
    "category": "Compute optimized",
    "gpuNum": 0,
    "hideHardwareSpecs": false,
    "memoryGiB": 8,
    "name": "ml.c5.xlarge",
    "vcpuNum": 4
   },
   {
    "_defaultOrder": 23,
    "_isFastLaunch": false,
    "category": "Compute optimized",
    "gpuNum": 0,
    "hideHardwareSpecs": false,
    "memoryGiB": 16,
    "name": "ml.c5.2xlarge",
    "vcpuNum": 8
   },
   {
    "_defaultOrder": 24,
    "_isFastLaunch": false,
    "category": "Compute optimized",
    "gpuNum": 0,
    "hideHardwareSpecs": false,
    "memoryGiB": 32,
    "name": "ml.c5.4xlarge",
    "vcpuNum": 16
   },
   {
    "_defaultOrder": 25,
    "_isFastLaunch": false,
    "category": "Compute optimized",
    "gpuNum": 0,
    "hideHardwareSpecs": false,
    "memoryGiB": 72,
    "name": "ml.c5.9xlarge",
    "vcpuNum": 36
   },
   {
    "_defaultOrder": 26,
    "_isFastLaunch": false,
    "category": "Compute optimized",
    "gpuNum": 0,
    "hideHardwareSpecs": false,
    "memoryGiB": 96,
    "name": "ml.c5.12xlarge",
    "vcpuNum": 48
   },
   {
    "_defaultOrder": 27,
    "_isFastLaunch": false,
    "category": "Compute optimized",
    "gpuNum": 0,
    "hideHardwareSpecs": false,
    "memoryGiB": 144,
    "name": "ml.c5.18xlarge",
    "vcpuNum": 72
   },
   {
    "_defaultOrder": 28,
    "_isFastLaunch": false,
    "category": "Compute optimized",
    "gpuNum": 0,
    "hideHardwareSpecs": false,
    "memoryGiB": 192,
    "name": "ml.c5.24xlarge",
    "vcpuNum": 96
   },
   {
    "_defaultOrder": 29,
    "_isFastLaunch": true,
    "category": "Accelerated computing",
    "gpuNum": 1,
    "hideHardwareSpecs": false,
    "memoryGiB": 16,
    "name": "ml.g4dn.xlarge",
    "vcpuNum": 4
   },
   {
    "_defaultOrder": 30,
    "_isFastLaunch": false,
    "category": "Accelerated computing",
    "gpuNum": 1,
    "hideHardwareSpecs": false,
    "memoryGiB": 32,
    "name": "ml.g4dn.2xlarge",
    "vcpuNum": 8
   },
   {
    "_defaultOrder": 31,
    "_isFastLaunch": false,
    "category": "Accelerated computing",
    "gpuNum": 1,
    "hideHardwareSpecs": false,
    "memoryGiB": 64,
    "name": "ml.g4dn.4xlarge",
    "vcpuNum": 16
   },
   {
    "_defaultOrder": 32,
    "_isFastLaunch": false,
    "category": "Accelerated computing",
    "gpuNum": 1,
    "hideHardwareSpecs": false,
    "memoryGiB": 128,
    "name": "ml.g4dn.8xlarge",
    "vcpuNum": 32
   },
   {
    "_defaultOrder": 33,
    "_isFastLaunch": false,
    "category": "Accelerated computing",
    "gpuNum": 4,
    "hideHardwareSpecs": false,
    "memoryGiB": 192,
    "name": "ml.g4dn.12xlarge",
    "vcpuNum": 48
   },
   {
    "_defaultOrder": 34,
    "_isFastLaunch": false,
    "category": "Accelerated computing",
    "gpuNum": 1,
    "hideHardwareSpecs": false,
    "memoryGiB": 256,
    "name": "ml.g4dn.16xlarge",
    "vcpuNum": 64
   },
   {
    "_defaultOrder": 35,
    "_isFastLaunch": false,
    "category": "Accelerated computing",
    "gpuNum": 1,
    "hideHardwareSpecs": false,
    "memoryGiB": 61,
    "name": "ml.p3.2xlarge",
    "vcpuNum": 8
   },
   {
    "_defaultOrder": 36,
    "_isFastLaunch": false,
    "category": "Accelerated computing",
    "gpuNum": 4,
    "hideHardwareSpecs": false,
    "memoryGiB": 244,
    "name": "ml.p3.8xlarge",
    "vcpuNum": 32
   },
   {
    "_defaultOrder": 37,
    "_isFastLaunch": false,
    "category": "Accelerated computing",
    "gpuNum": 8,
    "hideHardwareSpecs": false,
    "memoryGiB": 488,
    "name": "ml.p3.16xlarge",
    "vcpuNum": 64
   },
   {
    "_defaultOrder": 38,
    "_isFastLaunch": false,
    "category": "Accelerated computing",
    "gpuNum": 8,
    "hideHardwareSpecs": false,
    "memoryGiB": 768,
    "name": "ml.p3dn.24xlarge",
    "vcpuNum": 96
   },
   {
    "_defaultOrder": 39,
    "_isFastLaunch": false,
    "category": "Memory Optimized",
    "gpuNum": 0,
    "hideHardwareSpecs": false,
    "memoryGiB": 16,
    "name": "ml.r5.large",
    "vcpuNum": 2
   },
   {
    "_defaultOrder": 40,
    "_isFastLaunch": false,
    "category": "Memory Optimized",
    "gpuNum": 0,
    "hideHardwareSpecs": false,
    "memoryGiB": 32,
    "name": "ml.r5.xlarge",
    "vcpuNum": 4
   },
   {
    "_defaultOrder": 41,
    "_isFastLaunch": false,
    "category": "Memory Optimized",
    "gpuNum": 0,
    "hideHardwareSpecs": false,
    "memoryGiB": 64,
    "name": "ml.r5.2xlarge",
    "vcpuNum": 8
   },
   {
    "_defaultOrder": 42,
    "_isFastLaunch": false,
    "category": "Memory Optimized",
    "gpuNum": 0,
    "hideHardwareSpecs": false,
    "memoryGiB": 128,
    "name": "ml.r5.4xlarge",
    "vcpuNum": 16
   },
   {
    "_defaultOrder": 43,
    "_isFastLaunch": false,
    "category": "Memory Optimized",
    "gpuNum": 0,
    "hideHardwareSpecs": false,
    "memoryGiB": 256,
    "name": "ml.r5.8xlarge",
    "vcpuNum": 32
   },
   {
    "_defaultOrder": 44,
    "_isFastLaunch": false,
    "category": "Memory Optimized",
    "gpuNum": 0,
    "hideHardwareSpecs": false,
    "memoryGiB": 384,
    "name": "ml.r5.12xlarge",
    "vcpuNum": 48
   },
   {
    "_defaultOrder": 45,
    "_isFastLaunch": false,
    "category": "Memory Optimized",
    "gpuNum": 0,
    "hideHardwareSpecs": false,
    "memoryGiB": 512,
    "name": "ml.r5.16xlarge",
    "vcpuNum": 64
   },
   {
    "_defaultOrder": 46,
    "_isFastLaunch": false,
    "category": "Memory Optimized",
    "gpuNum": 0,
    "hideHardwareSpecs": false,
    "memoryGiB": 768,
    "name": "ml.r5.24xlarge",
    "vcpuNum": 96
   },
   {
    "_defaultOrder": 47,
    "_isFastLaunch": false,
    "category": "Accelerated computing",
    "gpuNum": 1,
    "hideHardwareSpecs": false,
    "memoryGiB": 16,
    "name": "ml.g5.xlarge",
    "vcpuNum": 4
   },
   {
    "_defaultOrder": 48,
    "_isFastLaunch": false,
    "category": "Accelerated computing",
    "gpuNum": 1,
    "hideHardwareSpecs": false,
    "memoryGiB": 32,
    "name": "ml.g5.2xlarge",
    "vcpuNum": 8
   },
   {
    "_defaultOrder": 49,
    "_isFastLaunch": false,
    "category": "Accelerated computing",
    "gpuNum": 1,
    "hideHardwareSpecs": false,
    "memoryGiB": 64,
    "name": "ml.g5.4xlarge",
    "vcpuNum": 16
   },
   {
    "_defaultOrder": 50,
    "_isFastLaunch": false,
    "category": "Accelerated computing",
    "gpuNum": 1,
    "hideHardwareSpecs": false,
    "memoryGiB": 128,
    "name": "ml.g5.8xlarge",
    "vcpuNum": 32
   },
   {
    "_defaultOrder": 51,
    "_isFastLaunch": false,
    "category": "Accelerated computing",
    "gpuNum": 1,
    "hideHardwareSpecs": false,
    "memoryGiB": 256,
    "name": "ml.g5.16xlarge",
    "vcpuNum": 64
   },
   {
    "_defaultOrder": 52,
    "_isFastLaunch": false,
    "category": "Accelerated computing",
    "gpuNum": 4,
    "hideHardwareSpecs": false,
    "memoryGiB": 192,
    "name": "ml.g5.12xlarge",
    "vcpuNum": 48
   },
   {
    "_defaultOrder": 53,
    "_isFastLaunch": false,
    "category": "Accelerated computing",
    "gpuNum": 4,
    "hideHardwareSpecs": false,
    "memoryGiB": 384,
    "name": "ml.g5.24xlarge",
    "vcpuNum": 96
   },
   {
    "_defaultOrder": 54,
    "_isFastLaunch": false,
    "category": "Accelerated computing",
    "gpuNum": 8,
    "hideHardwareSpecs": false,
    "memoryGiB": 768,
    "name": "ml.g5.48xlarge",
    "vcpuNum": 192
   },
   {
    "_defaultOrder": 55,
    "_isFastLaunch": false,
    "category": "Accelerated computing",
    "gpuNum": 8,
    "hideHardwareSpecs": false,
    "memoryGiB": 1152,
    "name": "ml.p4d.24xlarge",
    "vcpuNum": 96
   },
   {
    "_defaultOrder": 56,
    "_isFastLaunch": false,
    "category": "Accelerated computing",
    "gpuNum": 8,
    "hideHardwareSpecs": false,
    "memoryGiB": 1152,
    "name": "ml.p4de.24xlarge",
    "vcpuNum": 96
   }
  ],
  "instance_type": "ml.g4dn.4xlarge",
  "kernelspec": {
   "display_name": "Python 3 (ipykernel)",
   "language": "python",
   "name": "python3"
  },
  "language_info": {
   "codemirror_mode": {
    "name": "ipython",
    "version": 3
   },
   "file_extension": ".py",
   "mimetype": "text/x-python",
   "name": "python",
   "nbconvert_exporter": "python",
   "pygments_lexer": "ipython3",
   "version": "3.8.15"
  },
  "lcc_arn": "arn:aws:sagemaker:us-west-2:081606037347:studio-lifecycle-config/collegium-kernel-r4"
 },
 "nbformat": 4,
 "nbformat_minor": 4
}
