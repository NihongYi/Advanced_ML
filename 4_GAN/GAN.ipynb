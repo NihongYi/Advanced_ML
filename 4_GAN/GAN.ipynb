{
 "cells": [
  {
   "cell_type": "code",
   "execution_count": 3,
   "metadata": {
    "tags": []
   },
   "outputs": [],
   "source": [
    "import pandas as pd\n",
    "import random\n",
    "import tensorflow as tf\n",
    "import numpy as np\n",
    "from PIL import Image\n",
    "import matplotlib.pyplot as plt\n",
    "import os\n",
    "\n",
    "%config InlineBackend.figure_format = 'retina'"
   ]
  },
  {
   "cell_type": "code",
   "execution_count": 4,
   "metadata": {
    "tags": []
   },
   "outputs": [],
   "source": [
    "# Download the dataset once\n",
    "if not os.path.exists('fakenet_dataset'):\n",
    "    !aws s3 cp s3://danylo-ucla/fakenet_dataset.zip ./\n",
    "    !unzip fakenet_dataset.zip >/dev/null"
   ]
  },
  {
   "cell_type": "code",
   "execution_count": 5,
   "metadata": {
    "tags": []
   },
   "outputs": [
    {
     "name": "stdout",
     "output_type": "stream",
     "text": [
      "\u001b[01;34mfakenet_dataset\u001b[0m\n",
      "├── \u001b[01;34mscore\u001b[0m\n",
      "│   ├── \u001b[01;34mimages\u001b[0m\n",
      "│   └── \u001b[00mmetadata.csv\u001b[0m\n",
      "└── \u001b[01;34mtrain\u001b[0m\n",
      "    ├── \u001b[01;34mimages\u001b[0m\n",
      "    └── \u001b[00mmetadata.csv\u001b[0m\n",
      "\n",
      "4 directories, 2 files\n"
     ]
    }
   ],
   "source": [
    "!tree -L 2 fakenet_dataset"
   ]
  },
  {
   "cell_type": "markdown",
   "metadata": {},
   "source": [
    "## Methodology"
   ]
  },
  {
   "cell_type": "markdown",
   "metadata": {},
   "source": [
    "* Firstly, try resnet and inception to see which one to use for transfer learning. Result shows that resnet works better.\n",
    "* Secondly, try base models from single, paired, and paired and captioned dataset, to determine which data structure to use. The result shows that paired and captioned dataset has the best effect, so we use it for hyperparameter tuning.\n",
    "  * For paired and captioned dataset, the transfomer used is BERT.\n",
    "* Use hyperparameter tuning to find the best model for paired and captioned dataset. In addition to the pretrained resnet and BERT model, I added more dense layers to the top of it before the final classification. The best model is picked based on binary accuracy.\n",
    "* Last step is fine tuning, where I only increased the number of epochs.\n",
    "* New data generation methods for paired and captioned dataset are created for this assignment."
   ]
  },
  {
   "cell_type": "markdown",
   "metadata": {},
   "source": [
    "## Training Images and Metadata"
   ]
  },
  {
   "cell_type": "code",
   "execution_count": 6,
   "metadata": {
    "tags": []
   },
   "outputs": [],
   "source": [
    "train_metadata = pd.read_csv('fakenet_dataset/train/metadata.csv')"
   ]
  },
  {
   "cell_type": "code",
   "execution_count": 7,
   "metadata": {
    "tags": []
   },
   "outputs": [
    {
     "data": {
      "text/html": [
       "<div>\n",
       "<style scoped>\n",
       "    .dataframe tbody tr th:only-of-type {\n",
       "        vertical-align: middle;\n",
       "    }\n",
       "\n",
       "    .dataframe tbody tr th {\n",
       "        vertical-align: top;\n",
       "    }\n",
       "\n",
       "    .dataframe thead th {\n",
       "        text-align: right;\n",
       "    }\n",
       "</style>\n",
       "<table border=\"1\" class=\"dataframe\">\n",
       "  <thead>\n",
       "    <tr style=\"text-align: right;\">\n",
       "      <th></th>\n",
       "      <th>file_name_training</th>\n",
       "      <th>file_name_generated</th>\n",
       "      <th>caption</th>\n",
       "    </tr>\n",
       "  </thead>\n",
       "  <tbody>\n",
       "    <tr>\n",
       "      <th>0</th>\n",
       "      <td>ffd603965b2eb89bfa6e7bda19c903f9.jpg</td>\n",
       "      <td>d70026e562baeb2976d33ea72bbe2af2.jpg</td>\n",
       "      <td>a toilet with a green and white door and green...</td>\n",
       "    </tr>\n",
       "    <tr>\n",
       "      <th>1</th>\n",
       "      <td>c5e15bda1013a6a8c28b87d23aa94767.jpg</td>\n",
       "      <td>41c055de712d74957659ab5d901c4212.jpg</td>\n",
       "      <td>An older couple embracing each other next to a...</td>\n",
       "    </tr>\n",
       "    <tr>\n",
       "      <th>2</th>\n",
       "      <td>517547ba7695808a52ecd2e2f4b6faf7.jpg</td>\n",
       "      <td>aab1106eb9793b08b665902c74c8e0cf.jpg</td>\n",
       "      <td>A square glazed doughnut, and a chocolate doug...</td>\n",
       "    </tr>\n",
       "    <tr>\n",
       "      <th>3</th>\n",
       "      <td>c3ff13909de96ed069fb2769800ea4b9.jpg</td>\n",
       "      <td>0658524e5dc4058fe7ceff0a72dbda18.jpg</td>\n",
       "      <td>A large bathroom with tiled floor and big mirror</td>\n",
       "    </tr>\n",
       "    <tr>\n",
       "      <th>4</th>\n",
       "      <td>2b5c6c916a7110287f7193081906cc5e.jpg</td>\n",
       "      <td>8546adea5c43ea5e517abfa5208aa10d.jpg</td>\n",
       "      <td>A man riding a snowboard down a conveyor belt.</td>\n",
       "    </tr>\n",
       "  </tbody>\n",
       "</table>\n",
       "</div>"
      ],
      "text/plain": [
       "                     file_name_training                   file_name_generated  \\\n",
       "0  ffd603965b2eb89bfa6e7bda19c903f9.jpg  d70026e562baeb2976d33ea72bbe2af2.jpg   \n",
       "1  c5e15bda1013a6a8c28b87d23aa94767.jpg  41c055de712d74957659ab5d901c4212.jpg   \n",
       "2  517547ba7695808a52ecd2e2f4b6faf7.jpg  aab1106eb9793b08b665902c74c8e0cf.jpg   \n",
       "3  c3ff13909de96ed069fb2769800ea4b9.jpg  0658524e5dc4058fe7ceff0a72dbda18.jpg   \n",
       "4  2b5c6c916a7110287f7193081906cc5e.jpg  8546adea5c43ea5e517abfa5208aa10d.jpg   \n",
       "\n",
       "                                             caption  \n",
       "0  a toilet with a green and white door and green...  \n",
       "1  An older couple embracing each other next to a...  \n",
       "2  A square glazed doughnut, and a chocolate doug...  \n",
       "3   A large bathroom with tiled floor and big mirror  \n",
       "4     A man riding a snowboard down a conveyor belt.  "
      ]
     },
     "execution_count": 7,
     "metadata": {},
     "output_type": "execute_result"
    }
   ],
   "source": [
    "train_metadata.head()"
   ]
  },
  {
   "cell_type": "code",
   "execution_count": 8,
   "metadata": {
    "tags": []
   },
   "outputs": [],
   "source": [
    "random.seed(43)"
   ]
  },
  {
   "cell_type": "code",
   "execution_count": 9,
   "metadata": {
    "tags": []
   },
   "outputs": [
    {
     "data": {
      "text/plain": [
       "([], [])"
      ]
     },
     "execution_count": 9,
     "metadata": {},
     "output_type": "execute_result"
    },
    {
     "data": {
      "image/png": "[encoded data removed]",
      "text/plain": [
       "<Figure size 640x480 with 2 Axes>"
      ]
     },
     "metadata": {
      "image/png": {
       "height": 365,
       "width": 515
      }
     },
     "output_type": "display_data"
    }
   ],
   "source": [
    "i = random.randint(0, train_metadata.shape[0])\n",
    "\n",
    "file_name_training = train_metadata['file_name_training'].iloc[i]\n",
    "file_name_generated = train_metadata['file_name_generated'].iloc[i]\n",
    "caption = train_metadata['caption'].iloc[i]\n",
    "\n",
    "plt.suptitle(caption)\n",
    "\n",
    "plt.subplot(1, 2, 1)\n",
    "plt.title('Original')\n",
    "plt.imshow(Image.open(f'fakenet_dataset/train/images/{file_name_training}'))\n",
    "plt.xticks([])\n",
    "plt.yticks([])\n",
    "\n",
    "plt.subplot(1, 2, 2)\n",
    "plt.title('Generated')\n",
    "plt.imshow(Image.open(f'fakenet_dataset/train/images/{file_name_generated}'))\n",
    "plt.xticks([])\n",
    "plt.yticks([])"
   ]
  },
  {
   "cell_type": "markdown",
   "metadata": {},
   "source": [
    "## Training metadata split"
   ]
  },
  {
   "cell_type": "code",
   "execution_count": 10,
   "metadata": {
    "tags": []
   },
   "outputs": [],
   "source": [
    "train_ratio = 0.7\n",
    "val_ratio = 0.15\n",
    "\n",
    "# Determine the number of samples for each set\n",
    "total_samples = train_metadata.shape[0]\n",
    "\n",
    "num_train = int(train_ratio * total_samples)\n",
    "num_val = int(val_ratio * total_samples)\n",
    "\n",
    "train_md = train_metadata.iloc[:num_train]\n",
    "val_md = train_metadata.iloc[num_train:num_train + num_val]\n",
    "test_md = train_metadata.iloc[num_train + num_val:]"
   ]
  },
  {
   "cell_type": "markdown",
   "metadata": {},
   "source": [
    "## Score Images and Metadata"
   ]
  },
  {
   "cell_type": "code",
   "execution_count": 11,
   "metadata": {
    "tags": []
   },
   "outputs": [
    {
     "data": {
      "text/html": [
       "<div>\n",
       "<style scoped>\n",
       "    .dataframe tbody tr th:only-of-type {\n",
       "        vertical-align: middle;\n",
       "    }\n",
       "\n",
       "    .dataframe tbody tr th {\n",
       "        vertical-align: top;\n",
       "    }\n",
       "\n",
       "    .dataframe thead th {\n",
       "        text-align: right;\n",
       "    }\n",
       "</style>\n",
       "<table border=\"1\" class=\"dataframe\">\n",
       "  <thead>\n",
       "    <tr style=\"text-align: right;\">\n",
       "      <th></th>\n",
       "      <th>file_name_a</th>\n",
       "      <th>file_name_b</th>\n",
       "      <th>caption</th>\n",
       "    </tr>\n",
       "  </thead>\n",
       "  <tbody>\n",
       "    <tr>\n",
       "      <th>0</th>\n",
       "      <td>7ad84509c9b0226bc0288537a8ab22ae.jpg</td>\n",
       "      <td>798d20e113a6bde4525336ce66a84a69.jpg</td>\n",
       "      <td>A couple of motorcycles parked next to each ot...</td>\n",
       "    </tr>\n",
       "    <tr>\n",
       "      <th>1</th>\n",
       "      <td>a4a39968e428b3c82257e25920e3adeb.jpg</td>\n",
       "      <td>2d6c056b045062c97450a29dd83d8c63.jpg</td>\n",
       "      <td>A vase with a bird on it and a matching winegl...</td>\n",
       "    </tr>\n",
       "    <tr>\n",
       "      <th>2</th>\n",
       "      <td>38ffec577b2c097f3a3403ae6c6638b8.jpg</td>\n",
       "      <td>050d2c637cbfa509f9a0072d6ca422b5.jpg</td>\n",
       "      <td>a man that is surfing on some water</td>\n",
       "    </tr>\n",
       "    <tr>\n",
       "      <th>3</th>\n",
       "      <td>07ecbbbc269ba1bd2d5b792f9abea0ed.jpg</td>\n",
       "      <td>23cbc59d33f061d2930f27c641a01807.jpg</td>\n",
       "      <td>A crowd of young people sanding on a snow cove...</td>\n",
       "    </tr>\n",
       "    <tr>\n",
       "      <th>4</th>\n",
       "      <td>10c585ad69ed895ac1a3b58d5dfb256a.jpg</td>\n",
       "      <td>7bbe5ae59f098437099f5ba093c2b38b.jpg</td>\n",
       "      <td>A kitchen with a refrigerator, counter and was...</td>\n",
       "    </tr>\n",
       "    <tr>\n",
       "      <th>...</th>\n",
       "      <td>...</td>\n",
       "      <td>...</td>\n",
       "      <td>...</td>\n",
       "    </tr>\n",
       "    <tr>\n",
       "      <th>2811</th>\n",
       "      <td>1541d399a4be2e0c85ef061e6bddb60c.jpg</td>\n",
       "      <td>15e819f3f3ede6e2e20170d71185031d.jpg</td>\n",
       "      <td>a close up of a person wearing a suit and tie</td>\n",
       "    </tr>\n",
       "    <tr>\n",
       "      <th>2812</th>\n",
       "      <td>d1bc62f2b725409f46421219f16383df.jpg</td>\n",
       "      <td>06f2ad1c20ed610523d677e3cbb8fed6.jpg</td>\n",
       "      <td>Zebras eat from a trough set up in their zoo e...</td>\n",
       "    </tr>\n",
       "    <tr>\n",
       "      <th>2813</th>\n",
       "      <td>7015aa30ddb1d1605c6822d2856e98db.jpg</td>\n",
       "      <td>846bd374ab91c40386fa48c1f5fdef78.jpg</td>\n",
       "      <td>A group of people on a field with a Frisbee.</td>\n",
       "    </tr>\n",
       "    <tr>\n",
       "      <th>2814</th>\n",
       "      <td>3b76a717ad707699851465a0680f5798.jpg</td>\n",
       "      <td>f5a5c27c396aae7142805befc710f9ac.jpg</td>\n",
       "      <td>A boy sitting at a table eating food with food...</td>\n",
       "    </tr>\n",
       "    <tr>\n",
       "      <th>2815</th>\n",
       "      <td>048699161f7cd04b8dd6ecb601fcbf17.jpg</td>\n",
       "      <td>168fa67e8614b1008a084763049cf865.jpg</td>\n",
       "      <td>A man riding a snowboard down a snow covered s...</td>\n",
       "    </tr>\n",
       "  </tbody>\n",
       "</table>\n",
       "<p>2816 rows × 3 columns</p>\n",
       "</div>"
      ],
      "text/plain": [
       "                               file_name_a  \\\n",
       "0     7ad84509c9b0226bc0288537a8ab22ae.jpg   \n",
       "1     a4a39968e428b3c82257e25920e3adeb.jpg   \n",
       "2     38ffec577b2c097f3a3403ae6c6638b8.jpg   \n",
       "3     07ecbbbc269ba1bd2d5b792f9abea0ed.jpg   \n",
       "4     10c585ad69ed895ac1a3b58d5dfb256a.jpg   \n",
       "...                                    ...   \n",
       "2811  1541d399a4be2e0c85ef061e6bddb60c.jpg   \n",
       "2812  d1bc62f2b725409f46421219f16383df.jpg   \n",
       "2813  7015aa30ddb1d1605c6822d2856e98db.jpg   \n",
       "2814  3b76a717ad707699851465a0680f5798.jpg   \n",
       "2815  048699161f7cd04b8dd6ecb601fcbf17.jpg   \n",
       "\n",
       "                               file_name_b  \\\n",
       "0     798d20e113a6bde4525336ce66a84a69.jpg   \n",
       "1     2d6c056b045062c97450a29dd83d8c63.jpg   \n",
       "2     050d2c637cbfa509f9a0072d6ca422b5.jpg   \n",
       "3     23cbc59d33f061d2930f27c641a01807.jpg   \n",
       "4     7bbe5ae59f098437099f5ba093c2b38b.jpg   \n",
       "...                                    ...   \n",
       "2811  15e819f3f3ede6e2e20170d71185031d.jpg   \n",
       "2812  06f2ad1c20ed610523d677e3cbb8fed6.jpg   \n",
       "2813  846bd374ab91c40386fa48c1f5fdef78.jpg   \n",
       "2814  f5a5c27c396aae7142805befc710f9ac.jpg   \n",
       "2815  168fa67e8614b1008a084763049cf865.jpg   \n",
       "\n",
       "                                                caption  \n",
       "0     A couple of motorcycles parked next to each ot...  \n",
       "1     A vase with a bird on it and a matching winegl...  \n",
       "2                   a man that is surfing on some water  \n",
       "3     A crowd of young people sanding on a snow cove...  \n",
       "4     A kitchen with a refrigerator, counter and was...  \n",
       "...                                                 ...  \n",
       "2811      a close up of a person wearing a suit and tie  \n",
       "2812  Zebras eat from a trough set up in their zoo e...  \n",
       "2813       A group of people on a field with a Frisbee.  \n",
       "2814  A boy sitting at a table eating food with food...  \n",
       "2815  A man riding a snowboard down a snow covered s...  \n",
       "\n",
       "[2816 rows x 3 columns]"
      ]
     },
     "execution_count": 11,
     "metadata": {},
     "output_type": "execute_result"
    }
   ],
   "source": [
    "score_metadata = pd.read_csv('fakenet_dataset/score/metadata.csv')\n",
    "score_metadata"
   ]
  },
  {
   "cell_type": "markdown",
   "metadata": {},
   "source": [
    "## Creating Tensorflow Dataset (Single Image, Labeled Segment)"
   ]
  },
  {
   "cell_type": "code",
   "execution_count": 29,
   "metadata": {
    "tags": []
   },
   "outputs": [],
   "source": [
    "# See Python Generator\n",
    "# https://peps.python.org/pep-0255/\n",
    "def build_generator_labeled_single(metadata: pd.DataFrame):\n",
    "    def generator():\n",
    "        for _, row in metadata.iterrows():\n",
    "            training_path = 'fakenet_dataset/train/images/' + row['file_name_training']\n",
    "            generated_path = 'fakenet_dataset/train/images/' + row['file_name_generated']\n",
    "\n",
    "            training_np = np.array(Image.open(training_path)).astype(np.float32)\n",
    "            generated_np = np.array(Image.open(generated_path)).astype(np.float32)\n",
    "\n",
    "            model_input = training_np\n",
    "            model_output = (1,)\n",
    "            yield (model_input, model_output)\n",
    "\n",
    "            model_input = generated_np\n",
    "            model_output = (0,)\n",
    "            yield (model_input, model_output)\n",
    "    return generator\n",
    "\n",
    "\n",
    "# See Tensorflow Dataset\n",
    "# https://www.tensorflow.org/api_docs/python/tf/data/Dataset\n",
    "def build_dataset_labeled_single(metadata: pd.DataFrame) -> tf.data.Dataset:\n",
    "    model_input = tf.TensorSpec(shape=(224, 224, 3), dtype=tf.float32)  # type: ignore\n",
    "    model_output = tf.TensorSpec(shape=(1,), dtype=tf.int32)  # type: ignore\n",
    "\n",
    "    dataset_signature = (model_input, model_output)\n",
    "\n",
    "    dataset = tf.data.Dataset.from_generator(\n",
    "        build_generator_labeled_single(metadata), \n",
    "        output_signature=dataset_signature\n",
    "    )\n",
    "\n",
    "    return dataset\n"
   ]
  },
  {
   "cell_type": "code",
   "execution_count": 30,
   "metadata": {
    "tags": []
   },
   "outputs": [],
   "source": [
    "# train_single_dataset = build_dataset_labeled_single(train_metadata)\n",
    "# model_input, model_output = next(iter(train_single_dataset))\n",
    "# display(model_input.shape, model_output.shape)"
   ]
  },
  {
   "cell_type": "code",
   "execution_count": 19,
   "metadata": {
    "tags": []
   },
   "outputs": [],
   "source": [
    "# train_single_dataset = train_single_dataset.batch(16)\n",
    "# model_input, model_output = next(iter(train_single_dataset))\n",
    "# display(model_input.shape, model_output.shape)"
   ]
  },
  {
   "cell_type": "code",
   "execution_count": 37,
   "metadata": {
    "tags": []
   },
   "outputs": [],
   "source": [
    "# train_ratio = 0.7\n",
    "# val_ratio = 0.15\n",
    "\n",
    "# # Determine the number of samples for each set\n",
    "# total_samples = train_single_dataset.reduce(0, lambda x, _: x + 1).numpy()\n",
    "\n",
    "# num_train = int(train_ratio * total_samples)\n",
    "# num_val = int(val_ratio * total_samples)\n",
    "\n",
    "# # Create train, validation, and test datasets\n",
    "# train_single, val_single, test_single = (\n",
    "#     train_single_dataset.take(num_train),\n",
    "#     train_single_dataset.skip(num_train).take(num_val),\n",
    "#     train_single_dataset.skip(num_train + num_val),\n",
    "# )\n"
   ]
  },
  {
   "cell_type": "markdown",
   "metadata": {},
   "source": [
    "## Data split"
   ]
  },
  {
   "cell_type": "code",
   "execution_count": 31,
   "metadata": {
    "tags": []
   },
   "outputs": [],
   "source": [
    "train_single = build_dataset_labeled_single(train_md)\n",
    "val_single = build_dataset_labeled_single(val_md)\n",
    "test_single = build_dataset_labeled_single(test_md)"
   ]
  },
  {
   "cell_type": "code",
   "execution_count": 32,
   "metadata": {
    "tags": []
   },
   "outputs": [],
   "source": [
    "train_single = train_single.batch(16)\n",
    "\n",
    "val_single = val_single.batch(16)\n",
    "test_single = test_single.batch(16)"
   ]
  },
  {
   "cell_type": "code",
   "execution_count": 34,
   "metadata": {
    "tags": []
   },
   "outputs": [],
   "source": [
    "train_X, train_y = next(iter(train_single))\n",
    "val_X, val_y = next(iter(val_single))\n",
    "test_X, test_y = next(iter(test_single))"
   ]
  },
  {
   "cell_type": "code",
   "execution_count": 35,
   "metadata": {
    "tags": []
   },
   "outputs": [
    {
     "data": {
      "text/plain": [
       "TensorShape([16, 224, 224, 3])"
      ]
     },
     "metadata": {},
     "output_type": "display_data"
    },
    {
     "data": {
      "text/plain": [
       "TensorShape([16, 1])"
      ]
     },
     "metadata": {},
     "output_type": "display_data"
    }
   ],
   "source": [
    "display(train_X.shape, train_y.shape)"
   ]
  },
  {
   "cell_type": "code",
   "execution_count": 36,
   "metadata": {
    "tags": []
   },
   "outputs": [
    {
     "data": {
      "text/plain": [
       "TensorShape([16, 224, 224, 3])"
      ]
     },
     "metadata": {},
     "output_type": "display_data"
    },
    {
     "data": {
      "text/plain": [
       "TensorShape([16, 1])"
      ]
     },
     "metadata": {},
     "output_type": "display_data"
    }
   ],
   "source": [
    "display(val_X.shape, val_y.shape)"
   ]
  },
  {
   "cell_type": "code",
   "execution_count": 43,
   "metadata": {
    "tags": []
   },
   "outputs": [
    {
     "data": {
      "text/plain": [
       "TensorShape([16, 224, 224, 3])"
      ]
     },
     "metadata": {},
     "output_type": "display_data"
    },
    {
     "data": {
      "text/plain": [
       "TensorShape([16, 1])"
      ]
     },
     "metadata": {},
     "output_type": "display_data"
    }
   ],
   "source": [
    "display(test_X.shape, test_y.shape)"
   ]
  },
  {
   "cell_type": "markdown",
   "metadata": {},
   "source": [
    "### get_binary_accuracy"
   ]
  },
  {
   "cell_type": "code",
   "execution_count": 10,
   "metadata": {
    "tags": []
   },
   "outputs": [],
   "source": [
    "def get_binary_accuracy(train_x, train_y, model):  \n",
    "    binary_accuracy = tf.keras.metrics.BinaryAccuracy(threshold=0.5)\n",
    "\n",
    "    train_y_pred = model.predict(train_x)\n",
    "\n",
    "# Update the metric with your data\n",
    "    binary_accuracy.update_state(train_y, train_y_pred)\n",
    "\n",
    "\n",
    "    print(binary_accuracy.result().numpy())"
   ]
  },
  {
   "cell_type": "markdown",
   "metadata": {},
   "source": [
    "# Single image Modeling - don't spend too much time, use base model to compare paired"
   ]
  },
  {
   "cell_type": "markdown",
   "metadata": {
    "tags": []
   },
   "source": [
    "## Tranfer learning"
   ]
  },
  {
   "cell_type": "markdown",
   "metadata": {},
   "source": [
    "### resnet"
   ]
  },
  {
   "cell_type": "code",
   "execution_count": 25,
   "metadata": {
    "tags": []
   },
   "outputs": [
    {
     "name": "stdout",
     "output_type": "stream",
     "text": [
      "Downloading data from https://storage.googleapis.com/tensorflow/keras-applications/resnet/resnet50_weights_tf_dim_ordering_tf_kernels_notop.h5\n",
      "94773248/94765736 [==============================] - 2s 0us/step\n",
      "94781440/94765736 [==============================] - 2s 0us/step\n"
     ]
    }
   ],
   "source": [
    "resnet = tf.keras.applications.ResNet50(\n",
    "include_top=False,\n",
    "input_shape=(224, 224, 3),\n",
    "weights='imagenet')\n",
    "\n",
    "resnet.trainable = False"
   ]
  },
  {
   "cell_type": "code",
   "execution_count": 37,
   "metadata": {
    "tags": []
   },
   "outputs": [
    {
     "name": "stdout",
     "output_type": "stream",
     "text": [
      "986/986 [==============================] - 124s 120ms/step - loss: 11.5149 - binary_accuracy: 0.8110 - val_loss: 14.6088 - val_binary_accuracy: 0.8091\n"
     ]
    },
    {
     "data": {
      "text/plain": [
       "<keras.callbacks.History at 0x7f438359bd60>"
      ]
     },
     "execution_count": 37,
     "metadata": {},
     "output_type": "execute_result"
    }
   ],
   "source": [
    "model = tf.keras.models.Sequential([\n",
    "    resnet,\n",
    "    tf.keras.layers.Flatten(),\n",
    "    tf.keras.layers.Dense(1, activation='sigmoid')\n",
    "])\n",
    "\n",
    "model.compile(\n",
    "    'sgd', \n",
    "    'binary_crossentropy', \n",
    "    metrics=[\n",
    "        tf.keras.metrics.BinaryAccuracy(\n",
    "            name=\"binary_accuracy\",\n",
    "            threshold=0.5\n",
    "        )\n",
    "        ]\n",
    "    )\n",
    "\n",
    "model.fit(train_single,\n",
    "         validation_data=val_single)"
   ]
  },
  {
   "cell_type": "code",
   "execution_count": 26,
   "metadata": {
    "tags": []
   },
   "outputs": [],
   "source": [
    "# get_binary_accuracy(train_X, train_y, model)\n",
    "\n",
    "# get_binary_accuracy(val_X, val_y, model)\n",
    "\n",
    "# get_binary_accuracy(test_X, test_y, model)"
   ]
  },
  {
   "cell_type": "code",
   "execution_count": 38,
   "metadata": {
    "tags": []
   },
   "outputs": [
    {
     "name": "stdout",
     "output_type": "stream",
     "text": [
      "986/986 [==============================] - 71s 72ms/step - loss: 8.8223 - binary_accuracy: 0.8510\n",
      "loss: 8.822271347045898 binary accuracy: 0.8510084748268127\n",
      "212/212 [==============================] - 15s 72ms/step - loss: 14.6088 - binary_accuracy: 0.8091\n",
      "loss: 14.608837127685547 binary accuracy: 0.8090586066246033\n",
      "212/212 [==============================] - 23s 109ms/step - loss: 14.9994 - binary_accuracy: 0.8012\n",
      "loss: 14.999370574951172 binary accuracy: 0.8011834025382996\n"
     ]
    }
   ],
   "source": [
    "train_single_result = model.evaluate(train_single)\n",
    "\n",
    "print('loss:', train_single_result[0], 'binary accuracy:', train_single_result[1])\n",
    "\n",
    "val_single_result = model.evaluate(val_single)\n",
    "\n",
    "print('loss:', val_single_result[0], 'binary accuracy:', val_single_result[1])\n",
    "\n",
    "test_single_result = model.evaluate(test_single)\n",
    "\n",
    "print('loss:', test_single_result[0], 'binary accuracy:', test_single_result[1])"
   ]
  },
  {
   "cell_type": "markdown",
   "metadata": {
    "tags": []
   },
   "source": [
    "### Inception"
   ]
  },
  {
   "cell_type": "markdown",
   "metadata": {},
   "source": [
    "* Worse result. Stick with resnet"
   ]
  },
  {
   "cell_type": "code",
   "execution_count": 49,
   "metadata": {
    "tags": []
   },
   "outputs": [
    {
     "name": "stdout",
     "output_type": "stream",
     "text": [
      "Downloading data from https://storage.googleapis.com/tensorflow/keras-applications/inception_v3/inception_v3_weights_tf_dim_ordering_tf_kernels_notop.h5\n",
      "87916544/87910968 [==============================] - 2s 0us/step\n",
      "87924736/87910968 [==============================] - 2s 0us/step\n",
      "986/986 [==============================] - 370s 373ms/step - loss: 12383.1934 - binary_accuracy: 0.5953 - val_loss: 14954.5225 - val_binary_accuracy: 0.5488\n"
     ]
    },
    {
     "data": {
      "text/plain": [
       "<keras.callbacks.History at 0x7fd9836d8a00>"
      ]
     },
     "execution_count": 49,
     "metadata": {},
     "output_type": "execute_result"
    }
   ],
   "source": [
    "inception = tf.keras.applications.InceptionV3(\n",
    "    weights=\"imagenet\",  \n",
    "    input_shape=(224, 224, 3),\n",
    "    include_top=False,\n",
    ")  \n",
    "\n",
    "\n",
    "inception.trainable = False\n",
    "\n",
    "model = tf.keras.models.Sequential([\n",
    "    inception,\n",
    "    tf.keras.layers.Flatten(),\n",
    "    tf.keras.layers.Dense(1, activation='sigmoid')\n",
    "])\n",
    "\n",
    "model.compile(\n",
    "    'sgd', \n",
    "    'binary_crossentropy', \n",
    "    metrics=[\n",
    "        tf.keras.metrics.BinaryAccuracy(\n",
    "            name=\"binary_accuracy\",\n",
    "            threshold=0.5\n",
    "        )\n",
    "        ]\n",
    "    )\n",
    "\n",
    "model.fit(train_single,\n",
    "         validation_data=val_single)"
   ]
  },
  {
   "cell_type": "code",
   "execution_count": 50,
   "metadata": {
    "tags": []
   },
   "outputs": [
    {
     "name": "stdout",
     "output_type": "stream",
     "text": [
      "0.78125\n",
      "0.725\n",
      "0.7083333\n"
     ]
    }
   ],
   "source": [
    "get_binary_accuracy(train_X, train_y, model)\n",
    "\n",
    "get_binary_accuracy(val_X, val_y, model)\n",
    "\n",
    "get_binary_accuracy(test_X, test_y, model)"
   ]
  },
  {
   "cell_type": "code",
   "execution_count": 13,
   "metadata": {},
   "outputs": [
    {
     "name": "stdout",
     "output_type": "stream",
     "text": [
      "1408/1408 [==============================] - 29s 20ms/step - loss: 2081598.0000\n"
     ]
    }
   ],
   "source": [
    "# model = tf.keras.models.Sequential([\n",
    "#     tf.keras.layers.Flatten(),\n",
    "#     tf.keras.layers.Dense(1, activation='sigmoid')\n",
    "# ])\n",
    "\n",
    "# model.compile('sgd', 'binary_crossentropy')\n",
    "# model.fit(train_single_dataset)\n",
    "# score_y_hat = model.predict(score_single_dataset)"
   ]
  },
  {
   "cell_type": "markdown",
   "metadata": {},
   "source": [
    "# Paired image"
   ]
  },
  {
   "cell_type": "markdown",
   "metadata": {},
   "source": [
    "## Creating Tensorflow Dataset (Paired Images, Labeled Segment)"
   ]
  },
  {
   "cell_type": "code",
   "execution_count": 39,
   "metadata": {
    "tags": []
   },
   "outputs": [],
   "source": [
    "# See Python Generator\n",
    "# https://peps.python.org/pep-0255/\n",
    "def build_generator_labeled_paired(metadata: pd.DataFrame):\n",
    "    def generator():\n",
    "        for _, row in metadata.iterrows():\n",
    "            training_path = 'fakenet_dataset/train/images/' + row['file_name_training']\n",
    "            generated_path = 'fakenet_dataset/train/images/' + row['file_name_generated']\n",
    "\n",
    "            training_np = np.array(Image.open(training_path))\n",
    "            generated_np = np.array(Image.open(generated_path))\n",
    "\n",
    "            model_output = np.random.randint(low=0, high=2, size=1)\n",
    "\n",
    "            if model_output == 1:\n",
    "                model_input = (training_np, generated_np)\n",
    "            else:\n",
    "                model_input = (generated_np, training_np)\n",
    "\n",
    "            yield (model_input, model_output)\n",
    "\n",
    "    return generator\n",
    "\n",
    "# See Tensorflow Dataset\n",
    "# https://www.tensorflow.org/api_docs/python/tf/data/Dataset\n",
    "def build_dataset_labeled_paired(metadata: pd.DataFrame):\n",
    "    image_signature = tf.TensorSpec(shape=(224, 224, 3), dtype=tf.float32)  # type: ignore\n",
    "\n",
    "    model_input = (image_signature, image_signature)\n",
    "    model_output = tf.TensorSpec(shape=(1,), dtype=tf.int32)  # type: ignore\n",
    "\n",
    "    dataset_signature = (model_input, model_output)\n",
    "\n",
    "    dataset = tf.data.Dataset.from_generator(\n",
    "        build_generator_labeled_paired(metadata), \n",
    "        output_signature=dataset_signature\n",
    "    )\n",
    "\n",
    "    return dataset"
   ]
  },
  {
   "cell_type": "code",
   "execution_count": 13,
   "metadata": {
    "tags": []
   },
   "outputs": [],
   "source": [
    "# train_paired_dataset = build_dataset_labeled_paired(train_metadata)\n",
    "\n",
    "# (model_input_a, model_input_b), model_output = next(iter(train_paired_dataset))\n",
    "\n",
    "# display(model_input_a.shape, model_input_b.shape, model_output.shape)"
   ]
  },
  {
   "cell_type": "markdown",
   "metadata": {},
   "source": [
    "### Data split"
   ]
  },
  {
   "cell_type": "code",
   "execution_count": 14,
   "metadata": {
    "tags": []
   },
   "outputs": [],
   "source": [
    "# train_ratio = 0.7\n",
    "# val_ratio = 0.15\n",
    "\n",
    "# # Determine the number of samples for each set\n",
    "# total_samples = train_paired_dataset.reduce(0, lambda x, _: x + 1).numpy()\n",
    "\n",
    "# num_train = int(train_ratio * total_samples)\n",
    "# num_val = int(val_ratio * total_samples)\n",
    "\n",
    "# # Create train, validation, and test datasets\n",
    "# train_paired, val_paired, test_paired = (\n",
    "#     train_paired_dataset.take(num_train),\n",
    "#     train_paired_dataset.skip(num_train).take(num_val),\n",
    "#     train_paired_dataset.skip(num_train + num_val),\n",
    "# )\n"
   ]
  },
  {
   "cell_type": "code",
   "execution_count": 40,
   "metadata": {
    "tags": []
   },
   "outputs": [],
   "source": [
    "train_paired = build_dataset_labeled_paired(train_md)\n",
    "val_paired = build_dataset_labeled_paired(val_md)\n",
    "test_paired = build_dataset_labeled_paired(test_md)"
   ]
  },
  {
   "cell_type": "code",
   "execution_count": 41,
   "metadata": {
    "tags": []
   },
   "outputs": [],
   "source": [
    "train_paired = train_paired.batch(16)\n",
    "val_paired = val_paired.batch(16)\n",
    "test_paired = test_paired.batch(16)"
   ]
  },
  {
   "cell_type": "code",
   "execution_count": 19,
   "metadata": {
    "tags": []
   },
   "outputs": [],
   "source": [
    "# num_samples = len(train_paired_dataset)\n",
    "# num_train = int(train_ratio * num_samples)\n",
    "# num_val = int(val_ratio * num_samples)\n",
    "\n",
    "# train_paired, val_paired, test_paired = train_paired_dataset[:num_train], \\\n",
    "# train_paired_dataset[num_train:num_val], train_paired_dataset[num_val:]"
   ]
  },
  {
   "cell_type": "code",
   "execution_count": 42,
   "metadata": {
    "tags": []
   },
   "outputs": [],
   "source": [
    "(train_X_a, train_X_b), train_y_paired = next(iter(train_paired))\n",
    "(val_X_a, val_X_b), val_y_paired = next(iter(val_paired))\n",
    "(test_X_a, test_X_b), test_y_paired = next(iter(test_paired))"
   ]
  },
  {
   "cell_type": "code",
   "execution_count": 43,
   "metadata": {
    "tags": []
   },
   "outputs": [
    {
     "data": {
      "text/plain": [
       "TensorShape([16, 224, 224, 3])"
      ]
     },
     "metadata": {},
     "output_type": "display_data"
    },
    {
     "data": {
      "text/plain": [
       "TensorShape([16, 224, 224, 3])"
      ]
     },
     "metadata": {},
     "output_type": "display_data"
    },
    {
     "data": {
      "text/plain": [
       "TensorShape([16, 1])"
      ]
     },
     "metadata": {},
     "output_type": "display_data"
    }
   ],
   "source": [
    "display(train_X_a.shape, train_X_b.shape, train_y_paired.shape)"
   ]
  },
  {
   "cell_type": "code",
   "execution_count": 44,
   "metadata": {
    "tags": []
   },
   "outputs": [
    {
     "data": {
      "text/plain": [
       "TensorShape([16, 224, 224, 3])"
      ]
     },
     "metadata": {},
     "output_type": "display_data"
    },
    {
     "data": {
      "text/plain": [
       "TensorShape([16, 224, 224, 3])"
      ]
     },
     "metadata": {},
     "output_type": "display_data"
    },
    {
     "data": {
      "text/plain": [
       "TensorShape([16, 1])"
      ]
     },
     "metadata": {},
     "output_type": "display_data"
    }
   ],
   "source": [
    "display(val_X_a.shape, val_X_b.shape, val_y_paired.shape)"
   ]
  },
  {
   "cell_type": "code",
   "execution_count": 45,
   "metadata": {
    "tags": []
   },
   "outputs": [
    {
     "data": {
      "text/plain": [
       "TensorShape([16, 224, 224, 3])"
      ]
     },
     "metadata": {},
     "output_type": "display_data"
    },
    {
     "data": {
      "text/plain": [
       "TensorShape([16, 224, 224, 3])"
      ]
     },
     "metadata": {},
     "output_type": "display_data"
    },
    {
     "data": {
      "text/plain": [
       "TensorShape([16, 1])"
      ]
     },
     "metadata": {},
     "output_type": "display_data"
    }
   ],
   "source": [
    "display(test_X_a.shape, test_X_b.shape, test_y_paired.shape)"
   ]
  },
  {
   "cell_type": "markdown",
   "metadata": {},
   "source": [
    "## Paired modeling"
   ]
  },
  {
   "cell_type": "code",
   "execution_count": 46,
   "metadata": {
    "tags": []
   },
   "outputs": [
    {
     "name": "stdout",
     "output_type": "stream",
     "text": [
      "493/493 [==============================] - 94s 182ms/step - loss: 2.6279 - binary_accuracy: 0.8737 - val_loss: 2.3390 - val_binary_accuracy: 0.9112\n"
     ]
    },
    {
     "data": {
      "text/plain": [
       "<keras.callbacks.History at 0x7f4217175ba0>"
      ]
     },
     "execution_count": 46,
     "metadata": {},
     "output_type": "execute_result"
    }
   ],
   "source": [
    "# See Keras Functional API\n",
    "# https://keras.io/guides/functional_api/\n",
    "\n",
    "inputs = [\n",
    "    tf.keras.layers.Input((224, 224, 3)),\n",
    "    tf.keras.layers.Input((224, 224, 3)),\n",
    "]\n",
    "\n",
    "# Example of reusing the same layer twice.\n",
    "# A Model object (e.g. a pre-trained model) can also be used multiple times.\n",
    "# dense = tf.keras.layers.Dense(1)\n",
    "outputs = [\n",
    "    resnet(inputs[0]),\n",
    "    resnet(inputs[1]),\n",
    "]\n",
    "\n",
    "outputs = tf.keras.layers.Concatenate(axis=-1)(outputs)\n",
    "# outputs = tf.keras.layers.GlobalAveragePooling2D()(outputs) # remove it so it's the same\n",
    "# base model\n",
    "outputs = tf.keras.layers.Flatten()(outputs)\n",
    "outputs = tf.keras.layers.Dense(1, activation='sigmoid')(outputs)\n",
    "\n",
    "model = tf.keras.models.Model(inputs=inputs, outputs=outputs)\n",
    "\n",
    "model.compile(\n",
    "    'adam', \n",
    "    'binary_crossentropy', \n",
    "    metrics=[\n",
    "        tf.keras.metrics.BinaryAccuracy(\n",
    "            name=\"binary_accuracy\",\n",
    "            threshold=0.5\n",
    "        )\n",
    "        ]\n",
    "    )\n",
    "\n",
    "model.fit(train_paired,\n",
    "         validation_data=val_paired)\n"
   ]
  },
  {
   "cell_type": "code",
   "execution_count": 47,
   "metadata": {
    "tags": []
   },
   "outputs": [
    {
     "name": "stdout",
     "output_type": "stream",
     "text": [
      "Model: \"model\"\n",
      "__________________________________________________________________________________________________\n",
      " Layer (type)                   Output Shape         Param #     Connected to                     \n",
      "==================================================================================================\n",
      " input_4 (InputLayer)           [(None, 224, 224, 3  0           []                               \n",
      "                                )]                                                                \n",
      "                                                                                                  \n",
      " input_5 (InputLayer)           [(None, 224, 224, 3  0           []                               \n",
      "                                )]                                                                \n",
      "                                                                                                  \n",
      " resnet50 (Functional)          (None, 7, 7, 2048)   23587712    ['input_4[0][0]',                \n",
      "                                                                  'input_5[0][0]']                \n",
      "                                                                                                  \n",
      " concatenate (Concatenate)      (None, 7, 7, 4096)   0           ['resnet50[2][0]',               \n",
      "                                                                  'resnet50[3][0]']               \n",
      "                                                                                                  \n",
      " flatten_2 (Flatten)            (None, 200704)       0           ['concatenate[0][0]']            \n",
      "                                                                                                  \n",
      " dense_2 (Dense)                (None, 1)            200705      ['flatten_2[0][0]']              \n",
      "                                                                                                  \n",
      "==================================================================================================\n",
      "Total params: 23,788,417\n",
      "Trainable params: 200,705\n",
      "Non-trainable params: 23,587,712\n",
      "__________________________________________________________________________________________________\n"
     ]
    }
   ],
   "source": [
    "model.summary()"
   ]
  },
  {
   "cell_type": "code",
   "execution_count": 48,
   "metadata": {
    "tags": []
   },
   "outputs": [
    {
     "name": "stdout",
     "output_type": "stream",
     "text": [
      "493/493 [==============================] - 71s 143ms/step - loss: 1.6255 - binary_accuracy: 0.9354\n",
      "loss: 1.6254626512527466 binary accuracy: 0.935430645942688\n"
     ]
    }
   ],
   "source": [
    "train_paired_result = model.evaluate(train_paired)\n",
    "\n",
    "print('loss:', train_paired_result[0], 'binary accuracy:', train_paired_result[1])"
   ]
  },
  {
   "cell_type": "code",
   "execution_count": 49,
   "metadata": {
    "tags": []
   },
   "outputs": [
    {
     "name": "stdout",
     "output_type": "stream",
     "text": [
      "106/106 [==============================] - 15s 142ms/step - loss: 2.2711 - binary_accuracy: 0.9136\n",
      "loss: 2.2710964679718018 binary accuracy: 0.913558304309845\n"
     ]
    }
   ],
   "source": [
    "val_paired_result = model.evaluate(val_paired)\n",
    "\n",
    "print('loss:', val_paired_result[0], 'binary accuracy:', val_paired_result[1])"
   ]
  },
  {
   "cell_type": "code",
   "execution_count": 50,
   "metadata": {
    "tags": []
   },
   "outputs": [
    {
     "name": "stdout",
     "output_type": "stream",
     "text": [
      "106/106 [==============================] - 16s 153ms/step - loss: 1.9701 - binary_accuracy: 0.9183\n",
      "loss: 1.9701186418533325 binary accuracy: 0.918343186378479\n"
     ]
    }
   ],
   "source": [
    "test_paired_result = model.evaluate(test_paired)\n",
    "\n",
    "print('loss:', test_paired_result[0], 'binary accuracy:', test_paired_result[1])"
   ]
  },
  {
   "cell_type": "markdown",
   "metadata": {
    "tags": []
   },
   "source": [
    "# Paired image + caption"
   ]
  },
  {
   "cell_type": "markdown",
   "metadata": {},
   "source": [
    "## Create dataset of paired images and caption"
   ]
  },
  {
   "cell_type": "code",
   "execution_count": 51,
   "metadata": {
    "tags": []
   },
   "outputs": [
    {
     "name": "stderr",
     "output_type": "stream",
     "text": [
      "Some weights of the PyTorch model were not used when initializing the TF 2.0 model TFBertModel: ['cls.predictions.transform.dense.bias', 'cls.predictions.transform.dense.weight', 'cls.predictions.transform.LayerNorm.bias', 'cls.seq_relationship.weight', 'cls.predictions.transform.LayerNorm.weight', 'cls.seq_relationship.bias', 'cls.predictions.bias']\n",
      "- This IS expected if you are initializing TFBertModel from a PyTorch model trained on another task or with another architecture (e.g. initializing a TFBertForSequenceClassification model from a BertForPreTraining model).\n",
      "- This IS NOT expected if you are initializing TFBertModel from a PyTorch model that you expect to be exactly identical (e.g. initializing a TFBertForSequenceClassification model from a BertForSequenceClassification model).\n",
      "All the weights of TFBertModel were initialized from the PyTorch model.\n",
      "If your task is similar to the task the model of the checkpoint was trained on, you can already use TFBertModel for predictions without further training.\n"
     ]
    }
   ],
   "source": [
    "from tokenizers import BertWordPieceTokenizer\n",
    "from transformers import AutoTokenizer, AutoModel, TFBertModel, BertConfig, BertTokenizerFast\n",
    "\n",
    "# Load the fast tokenizer for BERT\n",
    "tokenizer = BertTokenizerFast.from_pretrained(\"bert-base-uncased\")\n",
    "bert = TFBertModel.from_pretrained('bert-base-uncased')\n",
    "\n",
    "bert.trainable = False"
   ]
  },
  {
   "cell_type": "code",
   "execution_count": 52,
   "metadata": {
    "tags": []
   },
   "outputs": [],
   "source": [
    "max_len = 50"
   ]
  },
  {
   "cell_type": "code",
   "execution_count": 53,
   "metadata": {
    "tags": []
   },
   "outputs": [],
   "source": [
    "# See Python Generator\n",
    "# https://peps.python.org/pep-0255/\n",
    "def build_generator_labeled_paired_caped(metadata: pd.DataFrame):\n",
    "    def generator():\n",
    "        for _, row in metadata.iterrows():\n",
    "            training_path = 'fakenet_dataset/train/images/' + row['file_name_training']\n",
    "            generated_path = 'fakenet_dataset/train/images/' + row['file_name_generated']\n",
    "\n",
    "            training_np = np.array(Image.open(training_path))\n",
    "            generated_np = np.array(Image.open(generated_path))\n",
    "            \n",
    "            # Get captions\n",
    "            caption = tokenizer(\n",
    "                            text=row['caption'],\n",
    "                            add_special_tokens=True,\n",
    "                            max_length=max_len,\n",
    "                            truncation=True,\n",
    "                            padding=\"max_length\",\n",
    "                            # return_tensors='tf',\n",
    "                            return_token_type_ids=False,\n",
    "                            return_attention_mask=True,\n",
    "                            verbose=False\n",
    "                        )\n",
    "\n",
    "            model_output = np.random.randint(low=0, high=2, size=1)\n",
    "\n",
    "            if model_output == 1:\n",
    "                model_input = (training_np, generated_np, caption['input_ids'], caption['attention_mask'])\n",
    "            else:\n",
    "                model_input = (generated_np, training_np, caption['input_ids'], caption['attention_mask'])\n",
    "\n",
    "            yield (model_input, model_output)\n",
    "\n",
    "    return generator\n",
    "\n",
    "# See Tensorflow Dataset\n",
    "# https://www.tensorflow.org/api_docs/python/tf/data/Dataset\n",
    "def build_dataset_labeled_paired_caped(metadata: pd.DataFrame):\n",
    "    image_signature = tf.TensorSpec(shape=(224, 224, 3), dtype=tf.float32)  # type: ignore\n",
    "    token_signature = tf.TensorSpec(shape=(max_len,), dtype=tf.int32) # caption signature\n",
    "\n",
    "    model_input = (image_signature, image_signature, token_signature, token_signature)\n",
    "    model_output = tf.TensorSpec(shape=(1,), dtype=tf.int32)  # type: ignore\n",
    "\n",
    "    dataset_signature = (model_input, model_output)\n",
    "\n",
    "    dataset = tf.data.Dataset.from_generator(\n",
    "        build_generator_labeled_paired_caped(metadata), \n",
    "        output_signature=dataset_signature\n",
    "    )\n",
    "\n",
    "    return dataset"
   ]
  },
  {
   "cell_type": "code",
   "execution_count": 54,
   "metadata": {
    "tags": []
   },
   "outputs": [
    {
     "data": {
      "text/plain": [
       "TensorShape([224, 224, 3])"
      ]
     },
     "metadata": {},
     "output_type": "display_data"
    },
    {
     "data": {
      "text/plain": [
       "TensorShape([224, 224, 3])"
      ]
     },
     "metadata": {},
     "output_type": "display_data"
    },
    {
     "data": {
      "text/plain": [
       "TensorShape([50])"
      ]
     },
     "metadata": {},
     "output_type": "display_data"
    },
    {
     "data": {
      "text/plain": [
       "TensorShape([50])"
      ]
     },
     "metadata": {},
     "output_type": "display_data"
    },
    {
     "data": {
      "text/plain": [
       "TensorShape([1])"
      ]
     },
     "metadata": {},
     "output_type": "display_data"
    }
   ],
   "source": [
    "train_paired_caped_dataset = build_dataset_labeled_paired_caped(train_metadata)\n",
    "\n",
    "(model_input_a, model_input_b, model_caption_ids, model_caption_masks), \\\n",
    "model_output = next(iter(train_paired_caped_dataset))\n",
    "\n",
    "display(model_input_a.shape, model_input_b.shape, model_caption_ids.shape, \n",
    "        model_caption_masks.shape, model_output.shape)"
   ]
  },
  {
   "cell_type": "markdown",
   "metadata": {},
   "source": [
    "## Data split"
   ]
  },
  {
   "cell_type": "code",
   "execution_count": 65,
   "metadata": {
    "tags": []
   },
   "outputs": [],
   "source": [
    "# train_ratio = 0.7\n",
    "# val_ratio = 0.15\n",
    "\n",
    "# # Determine the number of samples for each set\n",
    "# total_samples = train_paired_caped_dataset.reduce(0, lambda x, _: x + 1).numpy()\n",
    "\n",
    "# num_train = int(train_ratio * total_samples)\n",
    "# num_val = int(val_ratio * total_samples)\n",
    "\n",
    "# # Create train, validation, and test datasets\n",
    "# train_paired_caped, val_paired_caped, test_paired_caped = (\n",
    "#     train_paired_caped_dataset.take(num_train),\n",
    "#     train_paired_caped_dataset.skip(num_train).take(num_val),\n",
    "#     train_paired_caped_dataset.skip(num_train + num_val),\n",
    "# )\n"
   ]
  },
  {
   "cell_type": "code",
   "execution_count": 58,
   "metadata": {
    "tags": []
   },
   "outputs": [],
   "source": [
    "train_paired_caped = build_dataset_labeled_paired_caped(train_md)\n",
    "val_paired_caped = build_dataset_labeled_paired_caped(val_md)\n",
    "test_paired_caped = build_dataset_labeled_paired_caped(test_md)"
   ]
  },
  {
   "cell_type": "code",
   "execution_count": 59,
   "metadata": {
    "tags": []
   },
   "outputs": [],
   "source": [
    "train_paired_caped = train_paired_caped.batch(16)\n",
    "val_paired_caped = val_paired_caped.batch(16)\n",
    "test_paired_caped = test_paired_caped.batch(16)"
   ]
  },
  {
   "cell_type": "code",
   "execution_count": 60,
   "metadata": {
    "tags": []
   },
   "outputs": [],
   "source": [
    "(train_X_a, train_X_b, train_caption_ids, train_caption_masks), train_y_paired_caped = next(iter(train_paired_caped))\n",
    "(val_X_a, val_X_b, val_caption_ids, val_caption_masks), val_y_paired_caped = next(iter(val_paired_caped))\n",
    "(test_X_a, test_X_b, test_caption_ids, test_caption_masks), test_y_paired_caped = next(iter(test_paired_caped))"
   ]
  },
  {
   "cell_type": "code",
   "execution_count": 61,
   "metadata": {
    "tags": []
   },
   "outputs": [
    {
     "data": {
      "text/plain": [
       "TensorShape([16, 224, 224, 3])"
      ]
     },
     "metadata": {},
     "output_type": "display_data"
    },
    {
     "data": {
      "text/plain": [
       "TensorShape([16, 224, 224, 3])"
      ]
     },
     "metadata": {},
     "output_type": "display_data"
    },
    {
     "data": {
      "text/plain": [
       "TensorShape([16, 50])"
      ]
     },
     "metadata": {},
     "output_type": "display_data"
    },
    {
     "data": {
      "text/plain": [
       "TensorShape([16, 50])"
      ]
     },
     "metadata": {},
     "output_type": "display_data"
    },
    {
     "data": {
      "text/plain": [
       "TensorShape([16, 1])"
      ]
     },
     "metadata": {},
     "output_type": "display_data"
    }
   ],
   "source": [
    "display(train_X_a.shape, train_X_b.shape, train_caption_ids.shape, \n",
    "        train_caption_masks.shape, train_y_paired_caped.shape)"
   ]
  },
  {
   "cell_type": "markdown",
   "metadata": {},
   "source": [
    "## Modeling"
   ]
  },
  {
   "cell_type": "code",
   "execution_count": 62,
   "metadata": {
    "tags": []
   },
   "outputs": [
    {
     "name": "stdout",
     "output_type": "stream",
     "text": [
      "493/493 [==============================] - 135s 250ms/step - loss: 0.2498 - binary_accuracy: 0.8950 - val_loss: 0.1506 - val_binary_accuracy: 0.9361\n"
     ]
    },
    {
     "data": {
      "text/plain": [
       "<keras.callbacks.History at 0x7f3d7f71c130>"
      ]
     },
     "execution_count": 62,
     "metadata": {},
     "output_type": "execute_result"
    }
   ],
   "source": [
    "# See Keras Functional API\n",
    "# https://keras.io/guides/functional_api/\n",
    "from tensorflow.keras.layers import GlobalAveragePooling2D, GlobalAveragePooling1D\n",
    "\n",
    "inputs = [\n",
    "    tf.keras.layers.Input((224, 224, 3)),\n",
    "    tf.keras.layers.Input((224, 224, 3)),\n",
    "    tf.keras.layers.Input(shape=(max_len,), dtype=tf.int32, name=\"input_ids\"),\n",
    "    tf.keras.layers.Input(shape=(max_len,), dtype=tf.int32, name=\"attention_masks\"),\n",
    "]\n",
    "\n",
    "# Example of reusing the same layer twice.\n",
    "# A Model object (e.g. a pre-trained model) can also be used multiple times.\n",
    "# dense = tf.keras.layers.Dense(1)\n",
    "outputs = [\n",
    "    tf.keras.layers.GlobalAveragePooling2D()(resnet(inputs[0])),\n",
    "    tf.keras.layers.GlobalAveragePooling2D()(resnet(inputs[1])),\n",
    "    tf.keras.layers.GlobalAveragePooling1D()(bert(inputs[2], attention_mask = inputs[3])[0]),\n",
    "]\n",
    "\n",
    "outputs = tf.keras.layers.Concatenate(axis=-1)(outputs)\n",
    "\n",
    "outputs = tf.keras.layers.Flatten()(outputs)\n",
    "outputs = tf.keras.layers.Dense(1, activation='sigmoid')(outputs)\n",
    "\n",
    "model = tf.keras.models.Model(inputs=inputs, outputs=outputs)\n",
    "\n",
    "model.compile(\n",
    "    'adam', \n",
    "    'binary_crossentropy', \n",
    "    metrics=[\n",
    "        tf.keras.metrics.BinaryAccuracy(\n",
    "            name=\"binary_accuracy\",\n",
    "            threshold=0.5\n",
    "        )\n",
    "        ]\n",
    "    )\n",
    "\n",
    "model.fit(train_paired_caped,\n",
    "         validation_data=val_paired_caped)\n"
   ]
  },
  {
   "cell_type": "code",
   "execution_count": 63,
   "metadata": {
    "tags": []
   },
   "outputs": [
    {
     "name": "stdout",
     "output_type": "stream",
     "text": [
      "493/493 [==============================] - 97s 198ms/step - loss: 0.1468 - binary_accuracy: 0.9455\n",
      "loss: 0.14677374064922333 binary accuracy: 0.9454522132873535\n",
      "106/106 [==============================] - 21s 197ms/step - loss: 0.1606 - binary_accuracy: 0.9372\n",
      "loss: 0.16063269972801208 binary accuracy: 0.9372409582138062\n",
      "106/106 [==============================] - 21s 197ms/step - loss: 0.1575 - binary_accuracy: 0.9349\n",
      "loss: 0.1575227826833725 binary accuracy: 0.9349112510681152\n"
     ]
    }
   ],
   "source": [
    "train_paired_caped_result = model.evaluate(train_paired_caped)\n",
    "\n",
    "print('loss:', train_paired_caped_result[0], 'binary accuracy:', train_paired_caped_result[1])\n",
    "\n",
    "val_paired_caped_result = model.evaluate(val_paired_caped)\n",
    "\n",
    "print('loss:', val_paired_caped_result[0], 'binary accuracy:', val_paired_caped_result[1])\n",
    "\n",
    "test_paired_caped_result = model.evaluate(test_paired_caped)\n",
    "\n",
    "print('loss:', test_paired_caped_result[0], 'binary accuracy:', test_paired_caped_result[1])"
   ]
  },
  {
   "cell_type": "code",
   "execution_count": 77,
   "metadata": {
    "tags": []
   },
   "outputs": [],
   "source": [
    "# get_binary_accuracy(((train_X_a, train_X_b, train_caption_ids, train_caption_masks),), \n",
    "#                     train_y_paired_caped, model)\n",
    "\n",
    "# get_binary_accuracy(((val_X_a, val_X_b, val_caption_ids, val_caption_masks),), \n",
    "#                     val_y_paired_caped, model)\n",
    "\n",
    "# get_binary_accuracy(((test_X_a, test_X_b, test_caption_ids, test_caption_masks),), \n",
    "#                     test_y_paired_caped, model)"
   ]
  },
  {
   "cell_type": "markdown",
   "metadata": {
    "tags": []
   },
   "source": [
    "# Hyperparameter tuning"
   ]
  },
  {
   "cell_type": "markdown",
   "metadata": {},
   "source": [
    "## Assistant functions"
   ]
  },
  {
   "cell_type": "code",
   "execution_count": 99,
   "metadata": {
    "tags": []
   },
   "outputs": [],
   "source": [
    "from tensorflow.keras.layers import Dense, BatchNormalization\n",
    "from tensorflow.keras.models import Sequential\n",
    "from tensorflow.keras.regularizers import l1, l2\n",
    "from tensorflow.keras import optimizers\n",
    "\n",
    "def build_model(is_paired:bool, dense_layers: int, units: int, is_learning_rate_decay: bool, \n",
    "                learning_rate_log: float, optimizer_index: int,\n",
    "               is_reg:bool,) -> tf.keras.Model:\n",
    "    mlflow.log_param('is_paired', is_paired)\n",
    "    mlflow.log_param('dense_layers', dense_layers)\n",
    "    mlflow.log_param('units', units)\n",
    "    mlflow.log_param('is_learning_rate_decay', is_learning_rate_decay)\n",
    "    mlflow.log_param('learning_rate_log', learning_rate_log)\n",
    "    mlflow.log_param('optimizer_index', optimizer_index)\n",
    "    mlflow.log_param('is_reg', is_reg)\n",
    "    \n",
    "    kernel_reg = None\n",
    "    if is_reg:\n",
    "        kernel_reg = l2(0.0001)\n",
    "    \n",
    "    if is_paired:    \n",
    "        inputs = [\n",
    "        tf.keras.layers.Input((224, 224, 3)),\n",
    "        tf.keras.layers.Input((224, 224, 3)),\n",
    "    ]\n",
    "\n",
    "    # Example of reusing the same layer twice.\n",
    "    # A Model object (e.g. a pre-trained model) can also be used multiple times.\n",
    "    # dense = tf.keras.layers.Dense(1)\n",
    "        outputs = [\n",
    "            resnet(inputs[0]),\n",
    "            resnet(inputs[1]),\n",
    "        ]\n",
    "\n",
    "        outputs = tf.keras.layers.Concatenate(axis=-1)(outputs)\n",
    "        # outputs = tf.keras.layers.GlobalAveragePooling2D()(outputs) # remove it so it's the same\n",
    "        # base model\n",
    "        \n",
    "    else:\n",
    "        inputs = [\n",
    "        tf.keras.layers.Input((224, 224, 3)),\n",
    "        tf.keras.layers.Input((224, 224, 3)),\n",
    "        tf.keras.layers.Input(shape=(max_len,), dtype=tf.int32, name=\"input_ids\"),\n",
    "        tf.keras.layers.Input(shape=(max_len,), dtype=tf.int32, name=\"attention_masks\"),\n",
    "    ]\n",
    "\n",
    "    # Example of reusing the same layer twice.\n",
    "    # A Model object (e.g. a pre-trained model) can also be used multiple times.\n",
    "    # dense = tf.keras.layers.Dense(1)\n",
    "        outputs = [\n",
    "        tf.keras.layers.GlobalAveragePooling2D()(resnet(inputs[0])),\n",
    "        tf.keras.layers.GlobalAveragePooling2D()(resnet(inputs[1])),\n",
    "        tf.keras.layers.GlobalAveragePooling1D()(bert(inputs[2], attention_mask = inputs[3])[0]),\n",
    "    ]\n",
    "\n",
    "        outputs = tf.keras.layers.Concatenate(axis=-1)(outputs)\n",
    "    \n",
    "    outputs = tf.keras.layers.Flatten()(outputs)\n",
    "    \n",
    "    if dense_layers > 0:\n",
    "        for i in range(dense_layers):\n",
    "            outputs = tf.keras.layers.Dense(units, activation='relu',\n",
    "                                           kernel_regularizer=kernel_reg)(outputs)\n",
    "            \n",
    "    \n",
    "    outputs = tf.keras.layers.Dense(1, activation='sigmoid')(outputs)\n",
    "\n",
    "    model = tf.keras.models.Model(inputs=inputs, outputs=outputs)\n",
    "\n",
    "    \n",
    "    \n",
    "    optimizer_options = [optimizers.Adam(\n",
    "                learning_rate = 10 ** learning_rate_log, \n",
    "                decay = 0.004 * is_learning_rate_decay,\n",
    "    ), \n",
    "                         optimizers.RMSprop(\n",
    "                learning_rate = 10 ** learning_rate_log, \n",
    "                decay = 0.004 * is_learning_rate_decay,\n",
    "                         ), \n",
    "                        ]\n",
    "    \n",
    "    model.compile(\n",
    "        optimizer=optimizer_options[optimizer_index],\n",
    "        loss='binary_crossentropy',\n",
    "        metrics=[\n",
    "        tf.keras.metrics.BinaryAccuracy(\n",
    "            name=\"binary_accuracy\",\n",
    "            threshold=0.5\n",
    "        )\n",
    "        ]\n",
    "    )\n",
    "        \n",
    "    return model"
   ]
  },
  {
   "cell_type": "code",
   "execution_count": 105,
   "metadata": {
    "tags": []
   },
   "outputs": [],
   "source": [
    "import json\n",
    "import uuid\n",
    "import os\n",
    "\n",
    "# This function will be used to save each trained model.\n",
    "def save_model(model: tf.keras.Model, model_path: str):\n",
    "    os.makedirs(model_path, exist_ok=True)\n",
    "    tf.keras.models.save_model(model, f'{model_path}/model.keras')\n",
    "    with open(f'{model_path}/architecture.json', 'w') as f:\n",
    "        f.write(json.dumps(json.loads(model.to_json()), indent=True))\n",
    "\n",
    "\n",
    "# This function can be used to load a previously trained model.\n",
    "def load_model(model_path: str, custom_objects) -> tf.keras.Model:\n",
    "    return tf.keras.models.load_model(f'{model_path}/model.keras', custom_objects=custom_objects)"
   ]
  },
  {
   "cell_type": "code",
   "execution_count": 93,
   "metadata": {
    "tags": []
   },
   "outputs": [],
   "source": [
    "from collegium.foundation.callbacks import MlflowCallback\n",
    "import tempfile\n",
    "\n",
    "\n",
    "def train_model(model: tf.keras.Model, \n",
    "                train_data, val_data, epochs: int, verbose: int = 10) -> tf.keras.callbacks.History:\n",
    "    history = model.fit(\n",
    "                        train_data,\n",
    "                        validation_data=val_data,\n",
    "                        epochs=epochs,\n",
    "                        verbose=verbose,\n",
    "                        shuffle=False\n",
    "                    )\n",
    "    \n",
    "    # Save model parameters to the file system and upload to MLFlow.\n",
    "    with tempfile.TemporaryDirectory('wb') as d:\n",
    "        model_path = f'{d}/model'\n",
    "        save_model(model, model_path)\n",
    "        mlflow.log_artifacts(d)\n",
    "    \n",
    "    return history"
   ]
  },
  {
   "cell_type": "code",
   "execution_count": 88,
   "metadata": {
    "tags": []
   },
   "outputs": [
    {
     "name": "stderr",
     "output_type": "stream",
     "text": [
      "2023/10/29 21:08:57 INFO mlflow.tracking.fluent: Experiment with name 'assignment_04' does not exist. Creating a new experiment.\n"
     ]
    }
   ],
   "source": [
    "import mlflow\n",
    "mlflow.set_experiment('assignment_04')\n",
    "mlflow.tensorflow.autolog(log_models=False, log_input_examples=False, log_model_signatures=False, silent=True)"
   ]
  },
  {
   "cell_type": "code",
   "execution_count": 89,
   "metadata": {
    "tags": []
   },
   "outputs": [
    {
     "data": {
      "text/plain": [
       "<Experiment: artifact_location='file:///app/mlflow/779591855954751014', creation_time=1698638937181, experiment_id='779591855954751014', last_update_time=1698638937181, lifecycle_stage='active', name='assignment_04', tags={}>"
      ]
     },
     "execution_count": 89,
     "metadata": {},
     "output_type": "execute_result"
    }
   ],
   "source": [
    "mlflow.get_experiment_by_name('assignment_04')"
   ]
  },
  {
   "cell_type": "markdown",
   "metadata": {},
   "source": [
    "## Training"
   ]
  },
  {
   "cell_type": "code",
   "execution_count": 100,
   "metadata": {
    "tags": []
   },
   "outputs": [
    {
     "name": "stderr",
     "output_type": "stream",
     "text": [
      "  0%|          | 0/20 [00:00<?, ?it/s]"
     ]
    },
    {
     "name": "stdout",
     "output_type": "stream",
     "text": [
      "False 4 86 False -3.2466035309349355 1 True\n"
     ]
    },
    {
     "name": "stderr",
     "output_type": "stream",
     "text": [
      "  5%|▌         | 1/20 [03:07<59:25, 187.66s/it]"
     ]
    },
    {
     "name": "stdout",
     "output_type": "stream",
     "text": [
      "False 8 210 True -0.8748131198860225 0 False\n"
     ]
    },
    {
     "name": "stderr",
     "output_type": "stream",
     "text": [
      " 10%|█         | 2/20 [06:16<56:31, 188.44s/it]"
     ]
    },
    {
     "name": "stdout",
     "output_type": "stream",
     "text": [
      "False 7 294 True -4.993822581542756 1 False\n"
     ]
    },
    {
     "name": "stderr",
     "output_type": "stream",
     "text": [
      " 15%|█▌        | 3/20 [09:26<53:31, 188.91s/it]"
     ]
    },
    {
     "name": "stdout",
     "output_type": "stream",
     "text": [
      "False 4 256 False -3.508931744862674 0 False\n"
     ]
    },
    {
     "name": "stderr",
     "output_type": "stream",
     "text": [
      " 20%|██        | 4/20 [12:34<50:18, 188.67s/it]"
     ]
    },
    {
     "name": "stdout",
     "output_type": "stream",
     "text": [
      "False 2 246 True -4.576067143646291 1 True\n"
     ]
    },
    {
     "name": "stderr",
     "output_type": "stream",
     "text": [
      " 25%|██▌       | 5/20 [15:41<47:02, 188.18s/it]"
     ]
    },
    {
     "name": "stdout",
     "output_type": "stream",
     "text": [
      "False 5 278 True -0.09505179930061747 0 True\n"
     ]
    },
    {
     "name": "stderr",
     "output_type": "stream",
     "text": [
      " 30%|███       | 6/20 [18:49<43:54, 188.20s/it]"
     ]
    },
    {
     "name": "stdout",
     "output_type": "stream",
     "text": [
      "False 3 26 True -2.0737109621581133 0 False\n"
     ]
    },
    {
     "name": "stderr",
     "output_type": "stream",
     "text": [
      " 35%|███▌      | 7/20 [21:59<40:50, 188.51s/it]"
     ]
    },
    {
     "name": "stdout",
     "output_type": "stream",
     "text": [
      "False 4 100 True -3.6786781406993114 1 False\n"
     ]
    },
    {
     "name": "stderr",
     "output_type": "stream",
     "text": [
      " 40%|████      | 8/20 [25:10<37:52, 189.36s/it]"
     ]
    },
    {
     "name": "stdout",
     "output_type": "stream",
     "text": [
      "False 6 34 False -4.918269006028596 0 True\n"
     ]
    },
    {
     "name": "stderr",
     "output_type": "stream",
     "text": [
      " 45%|████▌     | 9/20 [28:21<34:50, 190.01s/it]"
     ]
    },
    {
     "name": "stdout",
     "output_type": "stream",
     "text": [
      "False 8 242 True -0.6369626418182337 1 True\n"
     ]
    },
    {
     "name": "stderr",
     "output_type": "stream",
     "text": [
      " 50%|█████     | 10/20 [31:33<31:45, 190.51s/it]"
     ]
    },
    {
     "name": "stdout",
     "output_type": "stream",
     "text": [
      "False 9 20 True -1.3061575810332444 1 False\n"
     ]
    },
    {
     "name": "stderr",
     "output_type": "stream",
     "text": [
      " 55%|█████▌    | 11/20 [34:46<28:41, 191.33s/it]"
     ]
    },
    {
     "name": "stdout",
     "output_type": "stream",
     "text": [
      "False 9 32 True -0.30841891483901396 1 False\n"
     ]
    },
    {
     "name": "stderr",
     "output_type": "stream",
     "text": [
      " 60%|██████    | 12/20 [38:04<25:46, 193.25s/it]"
     ]
    },
    {
     "name": "stdout",
     "output_type": "stream",
     "text": [
      "False 5 174 False -0.1482985091705551 1 True\n"
     ]
    },
    {
     "name": "stderr",
     "output_type": "stream",
     "text": [
      " 65%|██████▌   | 13/20 [41:22<22:43, 194.75s/it]"
     ]
    },
    {
     "name": "stdout",
     "output_type": "stream",
     "text": [
      "False 8 76 False -0.4879149410740329 0 True\n"
     ]
    },
    {
     "name": "stderr",
     "output_type": "stream",
     "text": [
      " 70%|███████   | 14/20 [44:39<19:32, 195.36s/it]"
     ]
    },
    {
     "name": "stdout",
     "output_type": "stream",
     "text": [
      "False 9 102 False -4.388743009648181 1 True\n"
     ]
    },
    {
     "name": "stderr",
     "output_type": "stream",
     "text": [
      " 75%|███████▌  | 15/20 [47:53<16:15, 195.14s/it]"
     ]
    },
    {
     "name": "stdout",
     "output_type": "stream",
     "text": [
      "False 6 284 False -3.91851215289901 1 True\n"
     ]
    },
    {
     "name": "stderr",
     "output_type": "stream",
     "text": [
      " 80%|████████  | 16/20 [51:06<12:57, 194.46s/it]"
     ]
    },
    {
     "name": "stdout",
     "output_type": "stream",
     "text": [
      "False 1 36 True -0.9252236929961457 1 True\n"
     ]
    },
    {
     "name": "stderr",
     "output_type": "stream",
     "text": [
      " 85%|████████▌ | 17/20 [54:17<09:40, 193.38s/it]"
     ]
    },
    {
     "name": "stdout",
     "output_type": "stream",
     "text": [
      "False 5 212 False -1.9453714798230775 1 True\n"
     ]
    },
    {
     "name": "stderr",
     "output_type": "stream",
     "text": [
      " 90%|█████████ | 18/20 [57:31<06:27, 193.52s/it]"
     ]
    },
    {
     "name": "stdout",
     "output_type": "stream",
     "text": [
      "False 4 130 False -2.721844569012421 0 False\n"
     ]
    },
    {
     "name": "stderr",
     "output_type": "stream",
     "text": [
      " 95%|█████████▌| 19/20 [1:00:47<03:14, 194.21s/it]"
     ]
    },
    {
     "name": "stdout",
     "output_type": "stream",
     "text": [
      "False 5 222 True -2.3929913988734812 0 True\n"
     ]
    },
    {
     "name": "stderr",
     "output_type": "stream",
     "text": [
      "100%|██████████| 20/20 [1:04:08<00:00, 192.43s/it]"
     ]
    },
    {
     "name": "stdout",
     "output_type": "stream",
     "text": [
      "CPU times: user 33min 12s, sys: 4min 35s, total: 37min 47s\n",
      "Wall time: 1h 4min 8s\n"
     ]
    },
    {
     "name": "stderr",
     "output_type": "stream",
     "text": [
      "\n"
     ]
    }
   ],
   "source": [
    "%%time\n",
    "import random\n",
    "import tqdm\n",
    "\n",
    "from tensorflow.keras.callbacks import TerminateOnNaN, ReduceLROnPlateau, EarlyStopping\n",
    "\n",
    "np.random.seed(11)\n",
    "tf.random.set_seed(11)\n",
    "\n",
    "# dense_layers: int, units: int, is_learning_rate_decay: bool, \n",
    "#                 learning_rate_log: float, optimizer_index: int,\n",
    "#                is_reg:bool,\n",
    "\n",
    "runs = 20\n",
    "# Randomly generate different parameters\n",
    "# make sure the combo make sense\n",
    "is_paired = [False] * 20\n",
    "dense_layers = [random.choice(range(0, 10)) for _ in range(runs)]\n",
    "units = [random.choice(range(20, 300, 2)) for _ in range(runs)]\n",
    "is_decays = [random.choice([True, False]) for _ in range(runs)]\n",
    "learning_rate_logs = [random.uniform(-5, 0) for _ in range(runs)]\n",
    "optimizer_indices = [random.choice([0, 1]) for _ in range(runs)]\n",
    "is_regs = [random.choice([True, False]) for _ in range(runs)]\n",
    "\n",
    "\n",
    "parameters = list(zip(is_paired, dense_layers, units, is_decays,learning_rate_logs, \n",
    "                      optimizer_indices, is_regs))\n",
    "\n",
    "historys = []\n",
    "\n",
    "for (is_paired, layer_index, width, is_decay, learning_rate_log, optimizer_index, is_reg) in tqdm.tqdm(parameters):\n",
    "    with mlflow.start_run():\n",
    "        print(is_paired, layer_index, width, is_decay, learning_rate_log, optimizer_index, is_reg)\n",
    "        model = build_model(is_paired = is_paired, dense_layers=layer_index, units=width, \n",
    "                                  is_learning_rate_decay = is_decay, learning_rate_log=learning_rate_log,\n",
    "                                 optimizer_index = optimizer_index,\n",
    "                           is_reg=is_reg)\n",
    "        \n",
    "        history = train_model(model, train_paired_caped, val_paired_caped, epochs=1, verbose=0)\n",
    "        \n",
    "        historys.append(history)"
   ]
  },
  {
   "cell_type": "code",
   "execution_count": 106,
   "metadata": {},
   "outputs": [
    {
     "name": "stdout",
     "output_type": "stream",
     "text": [
      "WARNING:tensorflow:Error in loading the saved optimizer state. As a result, your model is starting with a freshly initialized optimizer.\n"
     ]
    }
   ],
   "source": [
    "all_runs = mlflow.search_runs( \n",
    "                              experiment_ids=mlflow.get_experiment_by_name('assignment_04').experiment_id, \n",
    "                             order_by=[f'metrics.binary_accuracy DESC'],\n",
    "                             )\n",
    "\n",
    "\n",
    "best_run = all_runs.iloc[0]\n",
    "\n",
    "saved_model_path = mlflow.tracking.MlflowClient().download_artifacts(best_run['run_id'], 'model')\n",
    "custom_objects = {'TFBertModel': TFBertModel}\n",
    "model = load_model(saved_model_path, custom_objects=custom_objects)"
   ]
  },
  {
   "cell_type": "code",
   "execution_count": 107,
   "metadata": {
    "collapsed": true,
    "jupyter": {
     "outputs_hidden": true
    },
    "tags": []
   },
   "outputs": [
    {
     "name": "stdout",
     "output_type": "stream",
     "text": [
      "Model: \"model_7\"\n",
      "__________________________________________________________________________________________________\n",
      " Layer (type)                   Output Shape         Param #     Connected to                     \n",
      "==================================================================================================\n",
      " input_22 (InputLayer)          [(None, 224, 224, 3  0           []                               \n",
      "                                )]                                                                \n",
      "                                                                                                  \n",
      " input_23 (InputLayer)          [(None, 224, 224, 3  0           []                               \n",
      "                                )]                                                                \n",
      "                                                                                                  \n",
      " input_ids (InputLayer)         [(None, 50)]         0           []                               \n",
      "                                                                                                  \n",
      " attention_masks (InputLayer)   [(None, 50)]         0           []                               \n",
      "                                                                                                  \n",
      " resnet50 (Functional)          (None, 7, 7, 2048)   23587712    ['input_22[0][0]',               \n",
      "                                                                  'input_23[0][0]']               \n",
      "                                                                                                  \n",
      " tf_bert_model_1 (TFBertModel)  TFBaseModelOutputWi  109482240   ['input_ids[0][0]',              \n",
      "                                thPoolingAndCrossAt               'attention_masks[0][0]']        \n",
      "                                tentions(last_hidde                                               \n",
      "                                n_state=(None, 50,                                                \n",
      "                                768),                                                             \n",
      "                                 pooler_output=(Non                                               \n",
      "                                e, 768),                                                          \n",
      "                                 past_key_values=No                                               \n",
      "                                ne, hidden_states=N                                               \n",
      "                                one, attentions=Non                                               \n",
      "                                e, cross_attentions                                               \n",
      "                                =None)                                                            \n",
      "                                                                                                  \n",
      " global_average_pooling2d_16 (G  (None, 2048)        0           ['resnet50[0][0]']               \n",
      " lobalAveragePooling2D)                                                                           \n",
      "                                                                                                  \n",
      " global_average_pooling2d_17 (G  (None, 2048)        0           ['resnet50[1][0]']               \n",
      " lobalAveragePooling2D)                                                                           \n",
      "                                                                                                  \n",
      " global_average_pooling1d_8 (Gl  (None, 768)         0           ['tf_bert_model_1[0][0]']        \n",
      " obalAveragePooling1D)                                                                            \n",
      "                                                                                                  \n",
      " concatenate_9 (Concatenate)    (None, 4864)         0           ['global_average_pooling2d_16[0][\n",
      "                                                                 0]',                             \n",
      "                                                                  'global_average_pooling2d_17[0][\n",
      "                                                                 0]',                             \n",
      "                                                                  'global_average_pooling1d_8[0][0\n",
      "                                                                 ]']                              \n",
      "                                                                                                  \n",
      " flatten_11 (Flatten)           (None, 4864)         0           ['concatenate_9[0][0]']          \n",
      "                                                                                                  \n",
      " dense_29 (Dense)               (None, 256)          1245440     ['flatten_11[0][0]']             \n",
      "                                                                                                  \n",
      " dense_30 (Dense)               (None, 256)          65792       ['dense_29[0][0]']               \n",
      "                                                                                                  \n",
      " dense_31 (Dense)               (None, 256)          65792       ['dense_30[0][0]']               \n",
      "                                                                                                  \n",
      " dense_32 (Dense)               (None, 256)          65792       ['dense_31[0][0]']               \n",
      "                                                                                                  \n",
      " dense_33 (Dense)               (None, 1)            257         ['dense_32[0][0]']               \n",
      "                                                                                                  \n",
      "==================================================================================================\n",
      "Total params: 134,513,025\n",
      "Trainable params: 110,925,313\n",
      "Non-trainable params: 23,587,712\n",
      "__________________________________________________________________________________________________\n"
     ]
    }
   ],
   "source": [
    "model.summary()"
   ]
  },
  {
   "cell_type": "code",
   "execution_count": 108,
   "metadata": {
    "tags": []
   },
   "outputs": [
    {
     "name": "stdout",
     "output_type": "stream",
     "text": [
      "106/106 [==============================] - 25s 205ms/step - loss: 0.1369 - binary_accuracy: 0.9479\n"
     ]
    },
    {
     "data": {
      "text/plain": [
       "[0.13691332936286926, 0.9478981494903564]"
      ]
     },
     "execution_count": 108,
     "metadata": {},
     "output_type": "execute_result"
    }
   ],
   "source": [
    "model.evaluate(val_paired_caped)"
   ]
  },
  {
   "cell_type": "code",
   "execution_count": 109,
   "metadata": {
    "tags": []
   },
   "outputs": [
    {
     "name": "stdout",
     "output_type": "stream",
     "text": [
      "106/106 [==============================] - 22s 211ms/step - loss: 0.1472 - binary_accuracy: 0.9438\n"
     ]
    },
    {
     "data": {
      "text/plain": [
       "[0.14719639718532562, 0.9437869787216187]"
      ]
     },
     "execution_count": 109,
     "metadata": {},
     "output_type": "execute_result"
    }
   ],
   "source": [
    "model.evaluate(test_paired_caped)"
   ]
  },
  {
   "cell_type": "markdown",
   "metadata": {
    "tags": []
   },
   "source": [
    "# Fine tuning"
   ]
  },
  {
   "cell_type": "code",
   "execution_count": 114,
   "metadata": {
    "tags": []
   },
   "outputs": [
    {
     "name": "stdout",
     "output_type": "stream",
     "text": [
      "Epoch 1/20\n",
      "WARNING:tensorflow:Gradients do not exist for variables ['tf_bert_model_1/bert/pooler/dense/kernel:0', 'tf_bert_model_1/bert/pooler/dense/bias:0'] when minimizing the loss. If you're using `model.compile()`, did you forget to provide a `loss`argument?\n",
      "Epoch 2/20\n",
      "Epoch 3/20\n",
      "Epoch 4/20\n",
      "Epoch 5/20\n",
      "Epoch 6/20\n",
      "Epoch 7/20\n",
      "Epoch 8/20\n",
      "Epoch 9/20\n",
      "Epoch 10/20\n",
      "Epoch 11/20\n",
      "Epoch 12/20\n",
      "Epoch 13/20\n",
      "Epoch 14/20\n",
      "Epoch 15/20\n",
      "Epoch 16/20\n",
      "Epoch 17/20\n",
      "Epoch 18/20\n",
      "Epoch 19/20\n",
      "Epoch 20/20\n"
     ]
    }
   ],
   "source": [
    "history = train_model(model, train_paired_caped, val_paired_caped, epochs=20)"
   ]
  },
  {
   "cell_type": "code",
   "execution_count": 115,
   "metadata": {
    "tags": []
   },
   "outputs": [
    {
     "data": {
      "image/png": "[encoded data removed]",
      "text/plain": [
       "<Figure size 640x480 with 1 Axes>"
      ]
     },
     "metadata": {
      "image/png": {
       "height": 434,
       "width": 556
      }
     },
     "output_type": "display_data"
    }
   ],
   "source": [
    "\n",
    "\n",
    "learning_curve = pd.Series(history.history['loss'])\n",
    "learning_curve.index = learning_curve.index + 1\n",
    "\n",
    "learning_curve.plot(title='Learning Curve')\n",
    "plt.xticks(learning_curve.index)\n",
    "plt.show()"
   ]
  },
  {
   "cell_type": "code",
   "execution_count": 116,
   "metadata": {
    "tags": []
   },
   "outputs": [
    {
     "name": "stdout",
     "output_type": "stream",
     "text": [
      "493/493 [==============================] - 102s 206ms/step - loss: 0.0057 - binary_accuracy: 0.9981\n",
      "106/106 [==============================] - 23s 213ms/step - loss: 0.0952 - binary_accuracy: 0.9739\n",
      "106/106 [==============================] - 23s 219ms/step - loss: 0.0994 - binary_accuracy: 0.9746\n"
     ]
    }
   ],
   "source": [
    "train_paired_caped_result = model.evaluate(train_paired_caped)\n",
    "\n",
    "# print('loss:', train_paired_caped_result[0], 'binary accuracy:', train_paired_caped_result[1])\n",
    "\n",
    "val_paired_caped_result = model.evaluate(val_paired_caped)\n",
    "\n",
    "# print('loss:', val_paired_caped_result[0], 'binary accuracy:', val_paired_caped_result[1])\n",
    "\n",
    "test_paired_caped_result = model.evaluate(test_paired_caped)\n",
    "\n",
    "# print('loss:', test_paired_caped_result[0], 'binary accuracy:', test_paired_caped_result[1])"
   ]
  },
  {
   "cell_type": "markdown",
   "metadata": {},
   "source": [
    "# Final score prediction"
   ]
  },
  {
   "cell_type": "markdown",
   "metadata": {
    "tags": []
   },
   "source": [
    "## Creating Tensorflow Dataset (Single Image, Score Segment)"
   ]
  },
  {
   "cell_type": "code",
   "execution_count": null,
   "metadata": {},
   "outputs": [],
   "source": [
    "import tensorflow as tf\n",
    "import numpy as np\n",
    "\n",
    "# See Python Generator\n",
    "# https://peps.python.org/pep-0255/\n",
    "def generator_score_single():\n",
    "    metadata = pd.read_csv('fakenet_dataset/score/metadata.csv')\n",
    "    \n",
    "    for _, row in metadata.iterrows():\n",
    "        image_a_path = 'fakenet_dataset/score/images/' + row['file_name_a']\n",
    "        image_b_path = 'fakenet_dataset/score/images/' + row['file_name_b']\n",
    "\n",
    "        image_a_np = np.array(Image.open(image_a_path))\n",
    "        image_b_np = np.array(Image.open(image_b_path))\n",
    "\n",
    "        model_input = image_a_np\n",
    "        yield model_input\n",
    "\n",
    "        # Uncomment if you want to compare the two images after inference\n",
    "        # model_input = image_b_np\n",
    "        # yield model_input\n",
    "\n",
    "\n",
    "# See Tensorflow Dataset\n",
    "# https://www.tensorflow.org/api_docs/python/tf/data/Dataset\n",
    "def build_dataset_score_single() -> tf.data.Dataset:\n",
    "    model_input = tf.TensorSpec(shape=(224, 224, 3), dtype=tf.float32)  # type: ignore\n",
    "\n",
    "    dataset_signature = model_input\n",
    "\n",
    "    dataset = tf.data.Dataset.from_generator(\n",
    "        generator_score_single, \n",
    "        output_signature=dataset_signature\n",
    "    )\n",
    "\n",
    "    return dataset"
   ]
  },
  {
   "cell_type": "code",
   "execution_count": null,
   "metadata": {},
   "outputs": [],
   "source": [
    "# score_single_dataset = build_dataset_score_single().batch(16)\n",
    "# model_input = next(iter(score_single_dataset))\n",
    "# display(model_input.shape)"
   ]
  },
  {
   "cell_type": "markdown",
   "metadata": {},
   "source": [
    "## Creating Tensorflow Dataset (Paired Image, Score Segment)"
   ]
  },
  {
   "cell_type": "code",
   "execution_count": 31,
   "metadata": {
    "tags": []
   },
   "outputs": [],
   "source": [
    "# See Python Generator\n",
    "# https://peps.python.org/pep-0255/\n",
    "def generator_score_paired():\n",
    "    metadata = pd.read_csv('fakenet_dataset/score/metadata.csv')\n",
    "\n",
    "    for _, row in metadata.iterrows():\n",
    "        image_a_path = 'fakenet_dataset/score/images/' + row['file_name_a']\n",
    "        image_b_path = 'fakenet_dataset/score/images/' + row['file_name_b']\n",
    "\n",
    "        image_a_np = np.array(Image.open(image_a_path))\n",
    "        image_b_np = np.array(Image.open(image_b_path))\n",
    "\n",
    "        model_input = (image_a_np, image_b_np)\n",
    "        yield (model_input,)\n",
    "\n",
    "\n",
    "# See Tensorflow Dataset\n",
    "# https://www.tensorflow.org/api_docs/python/tf/data/Dataset\n",
    "def build_dataset_score_paired():\n",
    "    image_signature = tf.TensorSpec(shape=(224, 224, 3), dtype=tf.float32)  # type: ignore\n",
    "\n",
    "    model_input = (image_signature, image_signature)\n",
    "\n",
    "    dataset_signature = (model_input,)\n",
    "\n",
    "    dataset = tf.data.Dataset.from_generator(\n",
    "        generator_score_paired, \n",
    "        output_signature=dataset_signature\n",
    "    )\n",
    "\n",
    "    return dataset"
   ]
  },
  {
   "cell_type": "markdown",
   "metadata": {},
   "source": [
    "## Creating Tensorflow Dataset (Paired Caped Image, Score Segment)"
   ]
  },
  {
   "cell_type": "code",
   "execution_count": 77,
   "metadata": {
    "tags": []
   },
   "outputs": [],
   "source": [
    "# See Python Generator\n",
    "# https://peps.python.org/pep-0255/\n",
    "def build_generator_scored_paired_caped():\n",
    "    metadata = pd.read_csv('fakenet_dataset/score/metadata.csv')\n",
    "    def generator():\n",
    "        for _, row in metadata.iterrows():\n",
    "            image_a_path = 'fakenet_dataset/score/images/' + row['file_name_a']\n",
    "            image_b_path = 'fakenet_dataset/score/images/' + row['file_name_b']\n",
    "\n",
    "            image_a_np = np.array(Image.open(image_a_path))\n",
    "            image_b_np = np.array(Image.open(image_b_path))\n",
    "            \n",
    "            # Get captions\n",
    "            caption = tokenizer(\n",
    "                            text=row['caption'],\n",
    "                            add_special_tokens=True,\n",
    "                            max_length=max_len,\n",
    "                            truncation=True,\n",
    "                            padding=\"max_length\",\n",
    "                            # return_tensors='tf',\n",
    "                            return_token_type_ids=False,\n",
    "                            return_attention_mask=True,\n",
    "                            verbose=False\n",
    "                        )\n",
    "\n",
    "            \n",
    "\n",
    "            \n",
    "            model_input = (image_a_np, image_b_np, caption['input_ids'], caption['attention_mask'])\n",
    "            \n",
    "\n",
    "            yield (model_input, )\n",
    "\n",
    "    return generator\n",
    "\n",
    "# See Tensorflow Dataset\n",
    "# https://www.tensorflow.org/api_docs/python/tf/data/Dataset\n",
    "def build_dataset_scored_paired_caped():\n",
    "    image_signature = tf.TensorSpec(shape=(224, 224, 3), dtype=tf.float32)  # type: ignore\n",
    "    token_signature = tf.TensorSpec(shape=(max_len,), dtype=tf.int32) # caption signature\n",
    "\n",
    "    model_input = (image_signature, image_signature, token_signature, token_signature)\n",
    "    \n",
    "\n",
    "    dataset_signature = (model_input,)\n",
    "\n",
    "    dataset = tf.data.Dataset.from_generator(\n",
    "        build_generator_scored_paired_caped(), \n",
    "        output_signature=dataset_signature\n",
    "    )\n",
    "\n",
    "    return dataset"
   ]
  },
  {
   "cell_type": "code",
   "execution_count": 32,
   "metadata": {
    "tags": []
   },
   "outputs": [
    {
     "data": {
      "text/plain": [
       "TensorShape([16, 224, 224, 3])"
      ]
     },
     "metadata": {},
     "output_type": "display_data"
    },
    {
     "data": {
      "text/plain": [
       "TensorShape([16, 224, 224, 3])"
      ]
     },
     "metadata": {},
     "output_type": "display_data"
    }
   ],
   "source": [
    "# score_paired_dataset = build_dataset_score_paired().batch(16)\n",
    "\n",
    "# ((model_input_a, model_input_b),) = next(iter(score_paired_dataset))\n",
    "\n",
    "# display(model_input_a.shape, model_input_b.shape)"
   ]
  },
  {
   "cell_type": "code",
   "execution_count": 78,
   "metadata": {
    "tags": []
   },
   "outputs": [
    {
     "data": {
      "text/plain": [
       "TensorShape([16, 224, 224, 3])"
      ]
     },
     "metadata": {},
     "output_type": "display_data"
    },
    {
     "data": {
      "text/plain": [
       "TensorShape([16, 224, 224, 3])"
      ]
     },
     "metadata": {},
     "output_type": "display_data"
    },
    {
     "data": {
      "text/plain": [
       "TensorShape([16, 50])"
      ]
     },
     "metadata": {},
     "output_type": "display_data"
    },
    {
     "data": {
      "text/plain": [
       "TensorShape([16, 50])"
      ]
     },
     "metadata": {},
     "output_type": "display_data"
    }
   ],
   "source": [
    "score_paired_caped_dataset = build_dataset_scored_paired_caped().batch(16)\n",
    "\n",
    "((model_input_a, model_input_b, caption_input_ids, caption_masks),) = next(iter(score_paired_caped_dataset))\n",
    "\n",
    "display(model_input_a.shape, model_input_b.shape, caption_input_ids.shape, caption_masks.shape)"
   ]
  },
  {
   "cell_type": "markdown",
   "metadata": {},
   "source": [
    "## Prediction"
   ]
  },
  {
   "cell_type": "code",
   "execution_count": 117,
   "metadata": {
    "tags": []
   },
   "outputs": [],
   "source": [
    "# score_y_hat = model.predict(score_single_dataset)\n",
    "\n",
    "score_y_hat = model.predict(score_paired_caped_dataset)"
   ]
  },
  {
   "cell_type": "code",
   "execution_count": 118,
   "metadata": {
    "tags": []
   },
   "outputs": [],
   "source": [
    "# The expected model output for the score segment is a DataFrame with 1 column -- 'probability'.\n",
    "# One probability per row in the score metadata.\n",
    "# The probability represents the likelihood that the image in the 'file_name_a' column is real.\n",
    "\n",
    "# The following code can be used to check the DataFrame in 'score_y_hat':\n",
    "\n",
    "score_y_hat = pd.DataFrame(score_y_hat, columns=['probability'])\n",
    "assert score_y_hat.shape == (score_metadata.shape[0], 1)\n",
    "assert score_y_hat.probability.dtype == np.float32\n",
    "assert score_y_hat.probability.min() >= 0\n",
    "assert score_y_hat.probability.max() <= 1"
   ]
  },
  {
   "cell_type": "code",
   "execution_count": 119,
   "metadata": {
    "tags": []
   },
   "outputs": [],
   "source": [
    "# Once you are satisfied with your model,\n",
    "# your need to submit 4 files:\n",
    "# 1. this notebook and/or any other Python scripts\n",
    "# 2. Model definition in JSON format\n",
    "# 3. Model parameters in H5 format\n",
    "# 4. the probabilities for the score segment\n",
    "\n",
    "import os\n",
    "model_dir = 'fakenet_model'\n",
    "os.makedirs(model_dir, exist_ok=True)\n",
    "\n",
    "# Save model definition:\n",
    "import json\n",
    "with open(f'{model_dir}/keras_model.json', 'w') as f:\n",
    "    model_json = json.dumps(json.loads(model.to_json()), indent=True)\n",
    "    f.write(model_json)\n",
    "\n",
    "# Save the learned parameters.\n",
    "model.save_weights(f\"{model_dir}/keras_parameters.h5\")\n",
    "\n",
    "# Finally, let's save the forecast.\n",
    "score_y_hat.to_parquet(f'{model_dir}/score_y_hat.parquet')"
   ]
  },
  {
   "cell_type": "code",
   "execution_count": null,
   "metadata": {},
   "outputs": [],
   "source": []
  }
 ],
 "metadata": {
  "availableInstances": [
   {
    "_defaultOrder": 0,
    "_isFastLaunch": true,
    "category": "General purpose",
    "gpuNum": 0,
    "hideHardwareSpecs": false,
    "memoryGiB": 4,
    "name": "ml.t3.medium",
    "vcpuNum": 2
   },
   {
    "_defaultOrder": 1,
    "_isFastLaunch": false,
    "category": "General purpose",
    "gpuNum": 0,
    "hideHardwareSpecs": false,
    "memoryGiB": 8,
    "name": "ml.t3.large",
    "vcpuNum": 2
   },
   {
    "_defaultOrder": 2,
    "_isFastLaunch": false,
    "category": "General purpose",
    "gpuNum": 0,
    "hideHardwareSpecs": false,
    "memoryGiB": 16,
    "name": "ml.t3.xlarge",
    "vcpuNum": 4
   },
   {
    "_defaultOrder": 3,
    "_isFastLaunch": false,
    "category": "General purpose",
    "gpuNum": 0,
    "hideHardwareSpecs": false,
    "memoryGiB": 32,
    "name": "ml.t3.2xlarge",
    "vcpuNum": 8
   },
   {
    "_defaultOrder": 4,
    "_isFastLaunch": true,
    "category": "General purpose",
    "gpuNum": 0,
    "hideHardwareSpecs": false,
    "memoryGiB": 8,
    "name": "ml.m5.large",
    "vcpuNum": 2
   },
   {
    "_defaultOrder": 5,
    "_isFastLaunch": false,
    "category": "General purpose",
    "gpuNum": 0,
    "hideHardwareSpecs": false,
    "memoryGiB": 16,
    "name": "ml.m5.xlarge",
    "vcpuNum": 4
   },
   {
    "_defaultOrder": 6,
    "_isFastLaunch": false,
    "category": "General purpose",
    "gpuNum": 0,
    "hideHardwareSpecs": false,
    "memoryGiB": 32,
    "name": "ml.m5.2xlarge",
    "vcpuNum": 8
   },
   {
    "_defaultOrder": 7,
    "_isFastLaunch": false,
    "category": "General purpose",
    "gpuNum": 0,
    "hideHardwareSpecs": false,
    "memoryGiB": 64,
    "name": "ml.m5.4xlarge",
    "vcpuNum": 16
   },
   {
    "_defaultOrder": 8,
    "_isFastLaunch": false,
    "category": "General purpose",
    "gpuNum": 0,
    "hideHardwareSpecs": false,
    "memoryGiB": 128,
    "name": "ml.m5.8xlarge",
    "vcpuNum": 32
   },
   {
    "_defaultOrder": 9,
    "_isFastLaunch": false,
    "category": "General purpose",
    "gpuNum": 0,
    "hideHardwareSpecs": false,
    "memoryGiB": 192,
    "name": "ml.m5.12xlarge",
    "vcpuNum": 48
   },
   {
    "_defaultOrder": 10,
    "_isFastLaunch": false,
    "category": "General purpose",
    "gpuNum": 0,
    "hideHardwareSpecs": false,
    "memoryGiB": 256,
    "name": "ml.m5.16xlarge",
    "vcpuNum": 64
   },
   {
    "_defaultOrder": 11,
    "_isFastLaunch": false,
    "category": "General purpose",
    "gpuNum": 0,
    "hideHardwareSpecs": false,
    "memoryGiB": 384,
    "name": "ml.m5.24xlarge",
    "vcpuNum": 96
   },
   {
    "_defaultOrder": 12,
    "_isFastLaunch": false,
    "category": "General purpose",
    "gpuNum": 0,
    "hideHardwareSpecs": false,
    "memoryGiB": 8,
    "name": "ml.m5d.large",
    "vcpuNum": 2
   },
   {
    "_defaultOrder": 13,
    "_isFastLaunch": false,
    "category": "General purpose",
    "gpuNum": 0,
    "hideHardwareSpecs": false,
    "memoryGiB": 16,
    "name": "ml.m5d.xlarge",
    "vcpuNum": 4
   },
   {
    "_defaultOrder": 14,
    "_isFastLaunch": false,
    "category": "General purpose",
    "gpuNum": 0,
    "hideHardwareSpecs": false,
    "memoryGiB": 32,
    "name": "ml.m5d.2xlarge",
    "vcpuNum": 8
   },
   {
    "_defaultOrder": 15,
    "_isFastLaunch": false,
    "category": "General purpose",
    "gpuNum": 0,
    "hideHardwareSpecs": false,
    "memoryGiB": 64,
    "name": "ml.m5d.4xlarge",
    "vcpuNum": 16
   },
   {
    "_defaultOrder": 16,
    "_isFastLaunch": false,
    "category": "General purpose",
    "gpuNum": 0,
    "hideHardwareSpecs": false,
    "memoryGiB": 128,
    "name": "ml.m5d.8xlarge",
    "vcpuNum": 32
   },
   {
    "_defaultOrder": 17,
    "_isFastLaunch": false,
    "category": "General purpose",
    "gpuNum": 0,
    "hideHardwareSpecs": false,
    "memoryGiB": 192,
    "name": "ml.m5d.12xlarge",
    "vcpuNum": 48
   },
   {
    "_defaultOrder": 18,
    "_isFastLaunch": false,
    "category": "General purpose",
    "gpuNum": 0,
    "hideHardwareSpecs": false,
    "memoryGiB": 256,
    "name": "ml.m5d.16xlarge",
    "vcpuNum": 64
   },
   {
    "_defaultOrder": 19,
    "_isFastLaunch": false,
    "category": "General purpose",
    "gpuNum": 0,
    "hideHardwareSpecs": false,
    "memoryGiB": 384,
    "name": "ml.m5d.24xlarge",
    "vcpuNum": 96
   },
   {
    "_defaultOrder": 20,
    "_isFastLaunch": false,
    "category": "General purpose",
    "gpuNum": 0,
    "hideHardwareSpecs": true,
    "memoryGiB": 0,
    "name": "ml.geospatial.interactive",
    "supportedImageNames": [
     "sagemaker-geospatial-v1-0"
    ],
    "vcpuNum": 0
   },
   {
    "_defaultOrder": 21,
    "_isFastLaunch": true,
    "category": "Compute optimized",
    "gpuNum": 0,
    "hideHardwareSpecs": false,
    "memoryGiB": 4,
    "name": "ml.c5.large",
    "vcpuNum": 2
   },
   {
    "_defaultOrder": 22,
    "_isFastLaunch": false,
    "category": "Compute optimized",
    "gpuNum": 0,
    "hideHardwareSpecs": false,
    "memoryGiB": 8,
    "name": "ml.c5.xlarge",
    "vcpuNum": 4
   },
   {
    "_defaultOrder": 23,
    "_isFastLaunch": false,
    "category": "Compute optimized",
    "gpuNum": 0,
    "hideHardwareSpecs": false,
    "memoryGiB": 16,
    "name": "ml.c5.2xlarge",
    "vcpuNum": 8
   },
   {
    "_defaultOrder": 24,
    "_isFastLaunch": false,
    "category": "Compute optimized",
    "gpuNum": 0,
    "hideHardwareSpecs": false,
    "memoryGiB": 32,
    "name": "ml.c5.4xlarge",
    "vcpuNum": 16
   },
   {
    "_defaultOrder": 25,
    "_isFastLaunch": false,
    "category": "Compute optimized",
    "gpuNum": 0,
    "hideHardwareSpecs": false,
    "memoryGiB": 72,
    "name": "ml.c5.9xlarge",
    "vcpuNum": 36
   },
   {
    "_defaultOrder": 26,
    "_isFastLaunch": false,
    "category": "Compute optimized",
    "gpuNum": 0,
    "hideHardwareSpecs": false,
    "memoryGiB": 96,
    "name": "ml.c5.12xlarge",
    "vcpuNum": 48
   },
   {
    "_defaultOrder": 27,
    "_isFastLaunch": false,
    "category": "Compute optimized",
    "gpuNum": 0,
    "hideHardwareSpecs": false,
    "memoryGiB": 144,
    "name": "ml.c5.18xlarge",
    "vcpuNum": 72
   },
   {
    "_defaultOrder": 28,
    "_isFastLaunch": false,
    "category": "Compute optimized",
    "gpuNum": 0,
    "hideHardwareSpecs": false,
    "memoryGiB": 192,
    "name": "ml.c5.24xlarge",
    "vcpuNum": 96
   },
   {
    "_defaultOrder": 29,
    "_isFastLaunch": true,
    "category": "Accelerated computing",
    "gpuNum": 1,
    "hideHardwareSpecs": false,
    "memoryGiB": 16,
    "name": "ml.g4dn.xlarge",
    "vcpuNum": 4
   },
   {
    "_defaultOrder": 30,
    "_isFastLaunch": false,
    "category": "Accelerated computing",
    "gpuNum": 1,
    "hideHardwareSpecs": false,
    "memoryGiB": 32,
    "name": "ml.g4dn.2xlarge",
    "vcpuNum": 8
   },
   {
    "_defaultOrder": 31,
    "_isFastLaunch": false,
    "category": "Accelerated computing",
    "gpuNum": 1,
    "hideHardwareSpecs": false,
    "memoryGiB": 64,
    "name": "ml.g4dn.4xlarge",
    "vcpuNum": 16
   },
   {
    "_defaultOrder": 32,
    "_isFastLaunch": false,
    "category": "Accelerated computing",
    "gpuNum": 1,
    "hideHardwareSpecs": false,
    "memoryGiB": 128,
    "name": "ml.g4dn.8xlarge",
    "vcpuNum": 32
   },
   {
    "_defaultOrder": 33,
    "_isFastLaunch": false,
    "category": "Accelerated computing",
    "gpuNum": 4,
    "hideHardwareSpecs": false,
    "memoryGiB": 192,
    "name": "ml.g4dn.12xlarge",
    "vcpuNum": 48
   },
   {
    "_defaultOrder": 34,
    "_isFastLaunch": false,
    "category": "Accelerated computing",
    "gpuNum": 1,
    "hideHardwareSpecs": false,
    "memoryGiB": 256,
    "name": "ml.g4dn.16xlarge",
    "vcpuNum": 64
   },
   {
    "_defaultOrder": 35,
    "_isFastLaunch": false,
    "category": "Accelerated computing",
    "gpuNum": 1,
    "hideHardwareSpecs": false,
    "memoryGiB": 61,
    "name": "ml.p3.2xlarge",
    "vcpuNum": 8
   },
   {
    "_defaultOrder": 36,
    "_isFastLaunch": false,
    "category": "Accelerated computing",
    "gpuNum": 4,
    "hideHardwareSpecs": false,
    "memoryGiB": 244,
    "name": "ml.p3.8xlarge",
    "vcpuNum": 32
   },
   {
    "_defaultOrder": 37,
    "_isFastLaunch": false,
    "category": "Accelerated computing",
    "gpuNum": 8,
    "hideHardwareSpecs": false,
    "memoryGiB": 488,
    "name": "ml.p3.16xlarge",
    "vcpuNum": 64
   },
   {
    "_defaultOrder": 38,
    "_isFastLaunch": false,
    "category": "Accelerated computing",
    "gpuNum": 8,
    "hideHardwareSpecs": false,
    "memoryGiB": 768,
    "name": "ml.p3dn.24xlarge",
    "vcpuNum": 96
   },
   {
    "_defaultOrder": 39,
    "_isFastLaunch": false,
    "category": "Memory Optimized",
    "gpuNum": 0,
    "hideHardwareSpecs": false,
    "memoryGiB": 16,
    "name": "ml.r5.large",
    "vcpuNum": 2
   },
   {
    "_defaultOrder": 40,
    "_isFastLaunch": false,
    "category": "Memory Optimized",
    "gpuNum": 0,
    "hideHardwareSpecs": false,
    "memoryGiB": 32,
    "name": "ml.r5.xlarge",
    "vcpuNum": 4
   },
   {
    "_defaultOrder": 41,
    "_isFastLaunch": false,
    "category": "Memory Optimized",
    "gpuNum": 0,
    "hideHardwareSpecs": false,
    "memoryGiB": 64,
    "name": "ml.r5.2xlarge",
    "vcpuNum": 8
   },
   {
    "_defaultOrder": 42,
    "_isFastLaunch": false,
    "category": "Memory Optimized",
    "gpuNum": 0,
    "hideHardwareSpecs": false,
    "memoryGiB": 128,
    "name": "ml.r5.4xlarge",
    "vcpuNum": 16
   },
   {
    "_defaultOrder": 43,
    "_isFastLaunch": false,
    "category": "Memory Optimized",
    "gpuNum": 0,
    "hideHardwareSpecs": false,
    "memoryGiB": 256,
    "name": "ml.r5.8xlarge",
    "vcpuNum": 32
   },
   {
    "_defaultOrder": 44,
    "_isFastLaunch": false,
    "category": "Memory Optimized",
    "gpuNum": 0,
    "hideHardwareSpecs": false,
    "memoryGiB": 384,
    "name": "ml.r5.12xlarge",
    "vcpuNum": 48
   },
   {
    "_defaultOrder": 45,
    "_isFastLaunch": false,
    "category": "Memory Optimized",
    "gpuNum": 0,
    "hideHardwareSpecs": false,
    "memoryGiB": 512,
    "name": "ml.r5.16xlarge",
    "vcpuNum": 64
   },
   {
    "_defaultOrder": 46,
    "_isFastLaunch": false,
    "category": "Memory Optimized",
    "gpuNum": 0,
    "hideHardwareSpecs": false,
    "memoryGiB": 768,
    "name": "ml.r5.24xlarge",
    "vcpuNum": 96
   },
   {
    "_defaultOrder": 47,
    "_isFastLaunch": false,
    "category": "Accelerated computing",
    "gpuNum": 1,
    "hideHardwareSpecs": false,
    "memoryGiB": 16,
    "name": "ml.g5.xlarge",
    "vcpuNum": 4
   },
   {
    "_defaultOrder": 48,
    "_isFastLaunch": false,
    "category": "Accelerated computing",
    "gpuNum": 1,
    "hideHardwareSpecs": false,
    "memoryGiB": 32,
    "name": "ml.g5.2xlarge",
    "vcpuNum": 8
   },
   {
    "_defaultOrder": 49,
    "_isFastLaunch": false,
    "category": "Accelerated computing",
    "gpuNum": 1,
    "hideHardwareSpecs": false,
    "memoryGiB": 64,
    "name": "ml.g5.4xlarge",
    "vcpuNum": 16
   },
   {
    "_defaultOrder": 50,
    "_isFastLaunch": false,
    "category": "Accelerated computing",
    "gpuNum": 1,
    "hideHardwareSpecs": false,
    "memoryGiB": 128,
    "name": "ml.g5.8xlarge",
    "vcpuNum": 32
   },
   {
    "_defaultOrder": 51,
    "_isFastLaunch": false,
    "category": "Accelerated computing",
    "gpuNum": 1,
    "hideHardwareSpecs": false,
    "memoryGiB": 256,
    "name": "ml.g5.16xlarge",
    "vcpuNum": 64
   },
   {
    "_defaultOrder": 52,
    "_isFastLaunch": false,
    "category": "Accelerated computing",
    "gpuNum": 4,
    "hideHardwareSpecs": false,
    "memoryGiB": 192,
    "name": "ml.g5.12xlarge",
    "vcpuNum": 48
   },
   {
    "_defaultOrder": 53,
    "_isFastLaunch": false,
    "category": "Accelerated computing",
    "gpuNum": 4,
    "hideHardwareSpecs": false,
    "memoryGiB": 384,
    "name": "ml.g5.24xlarge",
    "vcpuNum": 96
   },
   {
    "_defaultOrder": 54,
    "_isFastLaunch": false,
    "category": "Accelerated computing",
    "gpuNum": 8,
    "hideHardwareSpecs": false,
    "memoryGiB": 768,
    "name": "ml.g5.48xlarge",
    "vcpuNum": 192
   },
   {
    "_defaultOrder": 55,
    "_isFastLaunch": false,
    "category": "Accelerated computing",
    "gpuNum": 8,
    "hideHardwareSpecs": false,
    "memoryGiB": 1152,
    "name": "ml.p4d.24xlarge",
    "vcpuNum": 96
   },
   {
    "_defaultOrder": 56,
    "_isFastLaunch": false,
    "category": "Accelerated computing",
    "gpuNum": 8,
    "hideHardwareSpecs": false,
    "memoryGiB": 1152,
    "name": "ml.p4de.24xlarge",
    "vcpuNum": 96
   }
  ],
  "instance_type": "ml.g4dn.4xlarge",
  "kernelspec": {
   "display_name": "Python 3 (ipykernel)",
   "language": "python",
   "name": "python3"
  },
  "language_info": {
   "codemirror_mode": {
    "name": "ipython",
    "version": 3
   },
   "file_extension": ".py",
   "mimetype": "text/x-python",
   "name": "python",
   "nbconvert_exporter": "python",
   "pygments_lexer": "ipython3",
   "version": "3.8.15"
  },
  "lcc_arn": "arn:aws:sagemaker:us-west-2:081606037347:studio-lifecycle-config/collegium-kernel-r4"
 },
 "nbformat": 4,
 "nbformat_minor": 4
}
